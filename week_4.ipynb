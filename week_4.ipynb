{
 "nbformat": 4,
 "nbformat_minor": 2,
 "metadata": {
  "language_info": {
   "name": "python",
   "codemirror_mode": {
    "name": "ipython",
    "version": 3
   }
  },
  "orig_nbformat": 2,
  "file_extension": ".py",
  "mimetype": "text/x-python",
  "name": "python",
  "npconvert_exporter": "python",
  "pygments_lexer": "ipython3",
  "version": 3
 },
 "cells": [
  {
   "cell_type": "markdown",
   "metadata": {},
   "source": [
    "# The battle of the neighborhoods: Boston, Massachussets\n",
    "## Description of the Problem and Discussion of the Background"
   ]
  },
  {
   "cell_type": "markdown",
   "metadata": {},
   "source": [
    "Boston, Massachusetts is one of the most widely known cities in the United States. The city proper covers 127 km2 and, as of 2018, the estimated population is 694,583 (see: [US Census Bureau](https://www.census.gov/quickfacts/fact/table/bostoncitymassachusetts/PST045218 \"US Census Bureau\")). The fact thet it's not very big actually gives an additional value to it: a tourist can explore city's many sides in a relatively short amount of time and it could potentially be a very livable place. The rich tradition and history, the many different cultures coexisting in the same place, some of the most prominent educational centers in the city and the vicinity, the fact that it is a home of the Celtics - the most successful (with regard to the number of championship titles) basketball franchise in NBA - the Red Sox, the Patriots and the Bruins, the popularity of St.Patrick's tradition and so many more things, make it one of the most attractive place in the world for settling in and for business too. The very high [*Quality of Life Index*](https://www.numbeo.com/quality-of-life/in/Boston)  and low [*Pollution Index*](https://www.numbeo.com/pollution/in/Boston) highly contibute to its desirability. "
   ]
  },
  {
   "cell_type": "markdown",
   "metadata": {},
   "source": [
    "Our client is highly interested in starting a business in Boston. The plan is to open a family restaurant. But, it's a very responsible decision to make and it can't be left to the case. Serious investment requires a well informed, data based decision. However, officially, the city of Boston consists of 23 varied neighborhoods. How to choose between them? Which ones have a lot to offer and which ones are low on the ladder? Which ones should be taken into consideration and which ones leave out of consideration? This is the problem that we are going to tackle here: exclude the neighborhoods that are not the best options and end up with a few neighborhoods that represent the most suitable places for starting a family business like the one mentioned."
   ]
  },
  {
   "cell_type": "markdown",
   "metadata": {},
   "source": [
    "Let's glance over the Boston neighborhoods and become familiar with what we are going to explore and analyze.\n",
    " "
   ]
  },
  {
   "cell_type": "markdown",
   "metadata": {},
   "source": [
    "### 1. Allston\n",
    "\n",
    "There is a river (Charles River) and a bicycle path on the north and east, offering plenty of recreational opportunities. According to the official website of the city of Bosotn, it's a diverse community, including longtime residents, students (Boston University and Harvard), recent immigrants, and young professionals. Business owners and nonprofits are supported in this neighborhood. Harvard University owns a lot of land in this neighborhood. There is a business school and athletic facilities, and the people residing here are very young: 64.55% of Allston’s population is between the ages of 20-34. This makes Allston the neighborhood with the highest percentage of young adults. Also, it contains 358 acres of land dedicated to academic space, which is the most in Boston."
   ]
  },
  {
   "cell_type": "markdown",
   "metadata": {},
   "source": [
    "### 2. Back Bay\n",
    "\n",
    "This is a protected historic district. Back Bay is known for its architecture and the busy commercial streets. Concerts and festivals take place in this area, and the finish line of the Boston Marathon is here. There are international retailers, salons, boutiques, restaurants, high-end hotels, and office buildings. The inhabitants of this neighborhood are well-educated: 89.5% of the population has a bachelor’s degree or even higher. It's also a very \"young neighborhood\", the median age being 31.9."
   ]
  },
  {
   "cell_type": "markdown",
   "metadata": {},
   "source": [
    "### 3. Bay Village \n",
    "\n",
    "This is one of the smallest neighborhoods in Boston. There are shops and restaurants, narrow streets, historic facades, brick sidewalks, and gas street lamps, which creates a quiet and peaceful pedestrian environment. It's a primarily residential neighborhood. Parks, shops, restaurants, and theaters of Downtown, Back Bay, and South End are within walking distance from here. "
   ]
  },
  {
   "cell_type": "markdown",
   "metadata": {},
   "source": [
    "### 4. Beacon Hill\n",
    "\n",
    "Also protected historic neighborhood. It is probably Boston's best known neighborhood. Maasachussets State House is located in this area. There are red brick houses from the early nineteeth century, boutiques, antique stores, and restaurants. It is frequently visited by tourists. The Beacon Hill Business Association supports business owners and nonprofits. There's a high percent (89.5%) of population with a bachelor’s degree or higher. Its population is also very young: the median age is 31.3."
   ]
  },
  {
   "cell_type": "markdown",
   "metadata": {},
   "source": [
    "### 5. Brighton\n",
    "\n",
    "Brighton is a peaceful neighborhood and a great place for young families and professionals. It's a mixture of residential and commercial characteristics. Families, who have lived here for generations share the neighborhood with recent immigrants, students, and young professionals. There's a diversity of businesses, nonprofits, medical and educational institutions, together with ethnic grocery stores and pubs. It's the home of St. Elizabeth's Medical Center and Boston College. The New Balance Athletic Shoe's world headquarters are also located here."
   ]
  },
  {
   "cell_type": "markdown",
   "metadata": {},
   "source": [
    "### 6. Charlestown\n",
    "\n",
    "This neighborhood has Irish roots. Today it's a busy, modern-day neighborhood. The traditional and historical is accompanied by modern condos and apartments, contemporary restaurants and shops. The oldest tavern in Massachusetts (\"Warren Tavern\") is in this neighborhood. Other things important to mention are two marinas, Bunker Hill Community College, Spauling Rehabilitation Hospital, and a branch of Massachusetts General Hospital."
   ]
  },
  {
   "cell_type": "markdown",
   "metadata": {},
   "source": [
    "### 7. Chinatown-Leather District\n",
    "\n",
    "This is a Chinese quarter. Chinatown Park South Station serves as a major rail and bus hub for Boston. The number of housing units in Chinatown grew 54.5% from 2000 to 2010. Almost half of households in Chinatown are families."
   ]
  },
  {
   "cell_type": "markdown",
   "metadata": {},
   "source": [
    "### 8. Dorchester\n",
    "\n",
    "This is the biggest and most diverse neighborhood in Boston. Long-time residents mingle together with new immigrants from Vietnam, Cape Verde, Ireland, and many other countries. It's a mix of residents from all cultures and backgrounds. There's a waterfront, commercial corridors and numerous parks. University of Massachussets and university campus are also located here.  "
   ]
  },
  {
   "cell_type": "markdown",
   "metadata": {},
   "source": [
    "### 9. Downtown\n",
    "\n",
    "Home to City Hall, numerous corporate headquarters, condos and apartments. Historic buildings and modern glass towers could be found at the same place. Over 200,000 people work here and commute every day to this neighborhood. There are apparel stores, national retailers, bakeries, fast casual and fine restaurants. You can also find historic theaters, including the Opera House. Suffolk University, Emerson College, and Urban College are located in this area. "
   ]
  },
  {
   "cell_type": "markdown",
   "metadata": {},
   "source": [
    "### 10.East Boston\n",
    "\n",
    "This is a neighborhood of immigrants. There's a plenty of ethnic restaurants, transportation links, and recreational opportunities in East Boston. the neighborhood is a blend of longtime residents, young professionals, and predominantly Colombian and Salvadoran immigrants. Logan International Airport is in this neighborhood. Almost half of East Boston’s population is foreign born, which is the highest in Boston. Of this, more than 50% percent is from Colombia or El Salvador. It is family oriented: almost 60% of East Boston’s households are families."
   ]
  },
  {
   "cell_type": "markdown",
   "metadata": {},
   "source": [
    "### 11. Fenway-Kenmore\n",
    "\n",
    "It's the home of Fenway Park, the Red Sox, Museum of Fine Arts and Symphony Hall. It's a mix of families, young professionals, and students. The famous Berklee College of Music is located here. Huntington Avenue is celebrated as Boston’s \"Avenue of the Arts\". there are music venues and vibrant nightlife, accompanied with numerous academic and medical institutions. Almost 70% of Fenway’s population is enrolled in school. 44.2% of Fenway’s population works in the educational services, health care and social assistance industry."
   ]
  },
  {
   "cell_type": "markdown",
   "metadata": {},
   "source": [
    "### 12. Hyde Park\n",
    "\n",
    "Hyde Park is a suburban area. It offers a unique blend of accessible city amenities and quiet suburban lifestyle. The population is diversed and there's significant open and green space. It's a thriving industrial section of the neighborhood and it's home to numerous businesses."
   ]
  },
  {
   "cell_type": "markdown",
   "metadata": {},
   "source": [
    "### 13. Jamaica Plain\n",
    "\n",
    "This is a diverse suburb, home to Latinos, young families, a growing gay community, and young professionals. There's a plenty opportunities for recreational activities, like: fishing, sailing, and running. A botanical garden is one of the most beautiful parts of the neighborhood. 5% of Jamaica Plain’s population commutes to work by bicycle, which is the highest percentage of any Boston neighborhood. 25.3% of Jamaica Plain’s population is Hispanic."
   ]
  },
  {
   "cell_type": "markdown",
   "metadata": {},
   "source": [
    "### 14. Mattapan\n",
    "\n",
    "Mattapan is home to diverse cultures and many immigrant-owned businesses. People of Irish, Jewish, and Haitian descent live here and it's home to a large African American and Caribbean community. There's a significant amount of green space. Blue Hill Avenue and Mattapan Square are the neighborhood’s main commercial districts. There are banks, law offices, restaurants, retail shops, health centers, and places of worship. 67.3% of households in Mattapan are families. Mattapan has the highest percentage of residents who speak French at home (18.4%)."
   ]
  },
  {
   "cell_type": "markdown",
   "metadata": {},
   "source": [
    "### 15. Mid-Dorchester\n",
    "\n",
    "The City is bringing lots of new development to the area, including housing and light industrial and commercial opportunities. There's easy access to jobs and the downtown financial area."
   ]
  },
  {
   "cell_type": "markdown",
   "metadata": {},
   "source": [
    "### 16. Mission Hill\n",
    "\n",
    "This is a largely residential neighborhood, characterized by traditional architecture. Mission Hill’s population grew 17% from 2000 to 2010. 53% of Mission Hill residents are non-white."
   ]
  },
  {
   "cell_type": "markdown",
   "metadata": {},
   "source": [
    "### 17. North End\n",
    "\n",
    "Nort End is Boston's \"Little Italy\": it is home of the Italian-American community in Boston. Some of the City's best restaurants and old-world cafes are in this neighborhood. there are also historical sites. It's one of the most visited parts of Boston. 80.9% of North End’s population has a bachelor’s degree or higher. The North End experienced a 5.1% population increase from 2000 to 2010."
   ]
  },
  {
   "cell_type": "markdown",
   "metadata": {},
   "source": [
    "### 18. Roslindale\n",
    "\n",
    "It's a suburban area with plenty of natural beauty. It's primarely residential type of neighbohood. 13.2% of Roslindale’s population is enrolled in nursery, kindergarten, elementary, or middle school. 40.7% of its population speaks a language other than English at home."
   ]
  },
  {
   "cell_type": "markdown",
   "metadata": {},
   "source": [
    "### 19. Roxbury\n",
    "\n",
    "Roxbury is a historic neighborhood. It's the heart of Black culture in Boston and a geographic heart of Boston. There are also Hispanic and Asian families, along with young professionals. You can find athletic fields, playgrounds, and parks - substantial green space, actually, the most in the city (23% of park space in Boston.). It is home to Roxbury Community College and the John D. O'Bryant School of Mathematics and Science. Roxbury’s population grew by 16.8% from 2000 to 2010."
   ]
  },
  {
   "cell_type": "markdown",
   "metadata": {},
   "source": [
    "### 20. South Boston\n",
    "\n",
    "South Boston is an urban neighborhood with a strong sense of history and tradition. It is home to both long-time residents and a new wave of young professionals who are drawn to the area’s open space, emerging nightlife, and easy access to downtown. There are miles of beaches and waterfront parks in this neighborhood. Between 2000 and 2010, South Boston’s population with a bachelor’s degree or higher increased from 28.2% to 54.8%, and Black or African American population grew by 47.9%."
   ]
  },
  {
   "cell_type": "markdown",
   "metadata": {},
   "source": [
    "### 21. South End\n",
    "\n",
    "The South End is a cosmopolitan neighborhood. It is very close to Downtown and Back Bay, and has become one of the City’s most popular neighborhoods. There are Victorian townhouses, home to active young families, professionals, and immigrants. It's also popular with Boston’s gay community. South End is United States' largest Victorian residential district. Boston Center for the Arts, Boston Medical Center and Boston University School of Medicine are located in this neighborhood. 44.7% of South End residents are non-white and 11.2% of its population speaks Chinese at home."
   ]
  },
  {
   "cell_type": "markdown",
   "metadata": {},
   "source": [
    "### 22. West End\n",
    "\n",
    "There are prominent Boston institutions, e.g. Massachusetts General Hospital and TD Garden. It is considered to be an up-and-coming neighborhood in Boston. West End is a small neighborhood. City of Cambridge is within walking distance. The Liberty Hotel and Clink Bar, are the hip neighborhood institutions. 93.4% of West End’s population has a bachelor’s degree or higher, which is the highest of all Boston neighborhoods. 32.2% of West End’s population is foreign born."
   ]
  },
  {
   "cell_type": "markdown",
   "metadata": {},
   "source": [
    "### 23. West Roxbury \n",
    "\n",
    "West Roxbury is characterized by civic activism and youth programs. It has suburban vibe and many green spaces, with many options, when it comes to recreational activities (e.g. swimming, hiking). West Roxbury has the most open space in the city, with nearly 1,200 acres."
   ]
  },
  {
   "cell_type": "code",
   "execution_count": null,
   "metadata": {},
   "outputs": [],
   "source": []
  }
 ]
}