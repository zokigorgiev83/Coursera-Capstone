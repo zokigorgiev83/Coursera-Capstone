{
 "nbformat": 4,
 "nbformat_minor": 2,
 "metadata": {
  "language_info": {
   "name": "python",
   "codemirror_mode": {
    "name": "ipython",
    "version": 3
   },
   "version": "3.7.6-final"
  },
  "orig_nbformat": 2,
  "file_extension": ".py",
  "mimetype": "text/x-python",
  "name": "python",
  "npconvert_exporter": "python",
  "pygments_lexer": "ipython3",
  "version": 3,
  "kernelspec": {
   "name": "python37432bitbasecondabccfe7c698b7497ca97c495668e27d58",
   "display_name": "Python 3.7.4 32-bit ('base': conda)"
  }
 },
 "cells": [
  {
   "cell_type": "markdown",
   "metadata": {},
   "source": [
    "# The Battle of Neighborhoods: Boston, Massachusetts"
   ]
  },
  {
   "cell_type": "markdown",
   "metadata": {},
   "source": [
    "Boston, Massachusetts is one of the most widely known cities in the United States. The city proper covers 127 km2 and, as of 2018, the estimated population is 694,583 (see [US Census Bureau](https://www.census.gov/quickfacts/fact/table/bostoncitymassachusetts/PST045218 \"US Census Bureau\")). It's not a very big city, which may even give an additional value to it: a tourist can explore city's many sides in a relatively short amount of time, and it could potentially be a very livable place."
   ]
  },
  {
   "cell_type": "markdown",
   "metadata": {},
   "source": [
    "### 2. Back Bay\n",
    "\n",
    "protected historic district Today Back Bay is known for its elegant architecture and bustling commercial streets feature concerts and festivals the finish line of the Boston Marathon is here international retailers, salons, boutique offices, and restaurants business high-end hotels, restaurants, and office buildings 89.5% of Back Bay’s population has a bachelor’s degree or higher The median age in Back Bay is 31.9"
   ]
  },
  {
   "cell_type": "markdown",
   "metadata": {},
   "source": [
    "### 3. Bay Village \n",
    "\n",
    "One of the smallest neighborhoods in Boston shops and restaurants Bay Village's narrow streets, historic facades, brick sidewalks, and gas street lamps create an appealing and quiet pedestrian environment in a primarily residential neighborhood. Residents enjoy easy walking access to the surrounding parks, shops, restaurants, and theaters of Downtown, Back Bay, and the South End."
   ]
  },
  {
   "cell_type": "markdown",
   "metadata": {},
   "source": [
    "### 4. Beacon Hill"
   ]
  },
  {
   "cell_type": "markdown",
   "metadata": {},
   "source": [
    "protected historic neighborhood\n",
    "likely Boston's best known neighborhood\n",
    "Maasachussets State House\n",
    "Classic red brick houses from the early nineteeth century\n",
    "Eclectic boutiques, antique stores, and restaurants serve the neighborhood and Beacon Hill's frequent tourists. The Beacon Hill Business Association supports business owners and nonprofits in the area. \n",
    "89.5% of Beacon Hill’s population has a bachelor’s degree or higher. \n",
    "The median age in Beacon Hill is 31.3. "
   ]
  },
  {
   "cell_type": "markdown",
   "metadata": {},
   "source": [
    "### 5. Brighton"
   ]
  },
  {
   "cell_type": "markdown",
   "metadata": {},
   "source": [
    "peaceful neighborhood is a great place for young families and professionals\n",
    "residential and commercial\n",
    "Families, who have called Brighton home for generations, share the neighborhood with recent immigrants, students from nearby colleges, and young professionals\n",
    "This diversity of population attracts a diversity of businesses, nonprofits, medical and educational institutions to the area.\n",
    "ethnic grocery stores to cozy neighborhood pubs. Major tenants of the neighborhood include St. Elizabeth's Medical Center, Boston College, WGBH, and the New Balance Athletic Shoe's world headquarters"
   ]
  },
  {
   "cell_type": "markdown",
   "metadata": {},
   "source": [
    "### 6. Charlestown"
   ]
  },
  {
   "cell_type": "markdown",
   "metadata": {},
   "source": [
    "neighborhood’s Irish roots \n",
    "The neighborhood has historical roots, but it has turned into a busy, modern-day neighborhood.\n",
    "city's oldest neighborhood\n",
    "public housing\n",
    "waterfront condominiums and apartments\n",
    "contemporary restaurants and shops thrive alongside the oldest tavern in Massachusetts (Warren Tavern)\n",
    "two marinas\n",
    "Bunker Hill Community College, Spauling Rehabilitation Hospital, and a branch of Massachusetts General Hospital"
   ]
  },
  {
   "cell_type": "markdown",
   "metadata": {},
   "source": [
    "### 7. Chinatown-Leather District"
   ]
  },
  {
   "cell_type": "markdown",
   "metadata": {},
   "source": [
    "Chinese quarter\n",
    "water features and bamboo, Chinatown Park\n",
    "South Station serves as a major rail and bus hub for Boston\n",
    "The number of housing units in Chinatown grew 54.5% from 2000 to 2010.\n",
    "49.2% of households in Chinatown are families"
   ]
  },
  {
   "cell_type": "markdown",
   "metadata": {},
   "source": [
    "### 8. Dorchester"
   ]
  },
  {
   "cell_type": "markdown",
   "metadata": {},
   "source": [
    "The biggest and most diverse neighborhood in the City\n",
    "Long-time residents mingle together with new immigrants from Vietnam, Cape Verde, Ireland, and many other countries.\n",
    "This wonderful mix of residents from all cultures and backgrounds makes it an incredibly vibrant place to live, work, and spend time. Former residents can often be seen and heard claiming to be “OFD” — Originally From Dorchester.\n",
    "waterfront, residential neighborhoods, commercial corridors, and a university campus\n",
    "numerous parks\n",
    "University of Massachussets Boston"
   ]
  },
  {
   "cell_type": "markdown",
   "metadata": {},
   "source": [
    "### 9. Downtown"
   ]
  },
  {
   "cell_type": "markdown",
   "metadata": {},
   "source": [
    "Home to City Hall, numerous corporate headquarters, condos and apartments, and some of Boston’s most beloved tourist attractions \n",
    "in the heart of Boston\n",
    "Housing options in downtown are varied, ranging from historic apartment buildings to modern glass towers. \n",
    "Over 200,000 people work downtown every day\n",
    "major retail area, offering a range of apparel stores, national retailers, bakeries, and both fast casual and fine restaurants to suit every taste\n",
    "Historic theaters, including the Opera House\n",
    "hotels\n",
    "Suffolk University, Emerson College, and Urban College"
   ]
  },
  {
   "cell_type": "markdown",
   "metadata": {},
   "source": [
    "### 10.East Boston"
   ]
  },
  {
   "cell_type": "markdown",
   "metadata": {},
   "source": [
    "waterfront\n",
    "the neighborhood of immigrants\n",
    "many ethnic restaurants\n",
    "residential neighborhoods, transportation links, and recreational opportunities\n",
    "East Boston is currently home to a blend of longtime residents, young professionals, and predominantly Colombian and Salvadoran immigrants\n",
    "Logan International Airport\n",
    "Almost 50% of East Boston’s population is foreign born, the highest percentage of all Boston’s neighborhoods. Over half of East Boston’s foreign born population is from Colombia or El Salvador.\n",
    "family oriented: Almost 60% of East Boston’s households are families "
   ]
  },
  {
   "cell_type": "markdown",
   "metadata": {},
   "source": [
    "### 11. Fenway-Kenmore"
   ]
  },
  {
   "cell_type": "markdown",
   "metadata": {},
   "source": [
    "Fenway Park and Red Sox\n",
    "Museum of Fine Arts and Symphony Hall\n",
    "clubs\n",
    "higher education institutions\n",
    "buzzing mix of families, young professionals, and students\n",
    "Berklee College of Music\n",
    "Huntington Avenue is celebrated as Boston’s “Avenue of the Arts”.\n",
    "music venues and nightlife\n",
    "numerous academic and medical institutions \n",
    "Almost 70% of Fenway’s population is enrolled in school. \n",
    "44.2% of Fenway’s population works in the educational services, health care and social assistance industry.\n"
   ]
  },
  {
   "cell_type": "markdown",
   "metadata": {},
   "source": [
    "### 12. Hyde Park"
   ]
  },
  {
   "cell_type": "markdown",
   "metadata": {},
   "source": [
    "suburban area\n",
    "Today, Hyde Park offers its residents a unique blend of accessible city amenities and quiet suburban lifestyle\n",
    "deiversed population\n",
    "significant open and green space\n",
    "A thriving industrial section of the neighborhood is home to numerous businesses.  "
   ]
  },
  {
   "cell_type": "markdown",
   "metadata": {},
   "source": [
    "### 13. Jamaica Plain"
   ]
  },
  {
   "cell_type": "markdown",
   "metadata": {},
   "source": [
    "diverse\n",
    "suburb\n",
    "home to Latinos, young families, a growing gay community, and young professionals\n",
    "fishing, sailing, and running \n",
    "botanical garden\n",
    "5% of Jamaica Plain’s population commutes to work by bicycle – the highest percentage of any Boston neighborhood. \n",
    "25.3% of Jamaica Plain’s population is Hispanic."
   ]
  },
  {
   "cell_type": "markdown",
   "metadata": {},
   "source": [
    "### 14. Mattapan "
   ]
  },
  {
   "cell_type": "markdown",
   "metadata": {},
   "source": [
    "home to diverse cultures and many immigrant-owned businesses\n",
    "At the dawn of 21st century, immigrants traveling in New England found Mattapan to be a \"good place to sit.\" Irish, Jewish, and Haitian immigrants called the neighborhood home. Now, Mattapan is home to a large African American and Caribbean community.\n",
    "significant amount of green space\n",
    "Blue Hill Avenue and Mattapan Square are the neighborhood’s main commercial districts, home to banks, law offices, restaurants, retail shops, health centers, and places of worship\n",
    "67.3% of households in Mattapan are families.\n",
    "Mattapan has the highest percentage of residents who speak French at home, at 18.4%. "
   ]
  },
  {
   "cell_type": "markdown",
   "metadata": {},
   "source": [
    "### 15. Mid-Dorchester"
   ]
  },
  {
   "cell_type": "markdown",
   "metadata": {},
   "source": [
    "The City is bringing lots of new development to the area, including housing and light industrial and commercial opportunities. With the improvement of the Fairmount/ Indigo Line, there's now easy access to jobs and the downtown financial area."
   ]
  },
  {
   "cell_type": "markdown",
   "metadata": {},
   "source": [
    "### 16. Mission Hill"
   ]
  },
  {
   "cell_type": "markdown",
   "metadata": {},
   "source": [
    "largely residential neighborhood \n",
    "traditional architecture\n",
    "Mission Hill’s population grew 17% from 2000 to 2010. \n",
    "53% of Mission Hill residents are non-white\n"
   ]
  },
  {
   "cell_type": "markdown",
   "metadata": {},
   "source": [
    "### 17. North End"
   ]
  },
  {
   "cell_type": "markdown",
   "metadata": {},
   "source": [
    "Italian-American community\n",
    "some of the City's best restaurants and old-world cafes\n",
    "one of the most visited parts of Boston\n",
    "Boston's oldest residential community \n",
    "Boston's \"Little Italy\"\n",
    "historical sites\n",
    "80.9% of North End’s population has a bachelor’s degree or higher. \n",
    "The North End experienced a 5.1% population increase from 2000 to 2010.  "
   ]
  },
  {
   "cell_type": "markdown",
   "metadata": {},
   "source": [
    "### 18. Roslindale"
   ]
  },
  {
   "cell_type": "markdown",
   "metadata": {},
   "source": [
    "garden suburb \n",
    "plenty natural beauty\n",
    "primarely residential community\n",
    "13.2% of Roslindale’s population is enrolled in nursery, kindergarten, elementary, or middle school. \n",
    "40.7% of Roslindale’s residents speak a language other than English at home."
   ]
  },
  {
   "cell_type": "markdown",
   "metadata": {},
   "source": [
    "### 19. Roxbury"
   ]
  },
  {
   "cell_type": "markdown",
   "metadata": {},
   "source": [
    "historic neighborhood\n",
    "Today, Roxbury is the heart of Black culture in Boston\n",
    "geographic heart of Boston\n",
    "Hispanic, and Asian families, along with young professionals\n",
    "parks, substantial green space\n",
    "Roxbury Community College and the John D. O'Bryant School of Mathematics and Science \n",
    "Roxbury is home to over 570 acres of parks, playgrounds, and athletic fields, the most in the city.  Roxbury has over 23% of park space in Boston. \n",
    "Roxbury’s population grew by 16.8% from 2000 to 2010.  "
   ]
  },
  {
   "cell_type": "markdown",
   "metadata": {},
   "source": [
    "### 20. South Boston"
   ]
  },
  {
   "cell_type": "markdown",
   "metadata": {},
   "source": [
    "An urban neighborhood with a strong sense of history and tradition\n",
    "South Boston is home to both long-time residents and a new wave of young professionals who are drawn to the area’s open space, emerging nightlife, and easy access to downtown. The neighborhood boasts miles of beaches and waterfront parks\n",
    "Between 2000 and 2010, South Boston’s population with a bachelor’s degree or higher increased from 28.2% to 54.8%.\n",
    "South Boston’s Black or African American population grew by 47.9% from 2000 to 2010. "
   ]
  },
  {
   "cell_type": "markdown",
   "metadata": {},
   "source": [
    "### 21. South End "
   ]
  },
  {
   "cell_type": "markdown",
   "metadata": {},
   "source": [
    "The South End is truly a cosmopolitan neighborhood. It is just minutes away from Downtown and the Back Bay, and has recently become one of the City’s most popular neighborhoods.\n",
    "Victorian townhouses\n",
    "home to active young families, professionals, and immigrants, and is popular with Boston’s gay community\n",
    "United States' largest Victorian residential district\n",
    "Boston Center for the Arts\n",
    "Boston Medical Center and Boston University School of Medicine\n",
    "44.7% of South End residents are non-white. \n",
    "11.2% of South End’s population speaks Chinese at home"
   ]
  },
  {
   "cell_type": "markdown",
   "metadata": {},
   "source": [
    "### 22. West End"
   ]
  },
  {
   "cell_type": "markdown",
   "metadata": {},
   "source": [
    "home to prominent Boston institutions, including Massachusetts General Hospital and TD Garden\n",
    "up-and-coming neighborhood in Boston\n",
    "large apartment towers\n",
    "small neighborhood\n",
    "City of Cambridge - walking distance\n",
    "The Liberty Hotel and Clink Bar, both housed in a converted historic jail, are hip neighborhood institutions\n",
    "93.4% of West End’s population has a bachelor’s degree or higher, the highest percentage of all Boston neighborhoods. \n",
    "32.2% of West End’s population is foreign born. "
   ]
  },
  {
   "cell_type": "markdown",
   "metadata": {},
   "source": [
    "### 23. West Roxbury "
   ]
  },
  {
   "cell_type": "markdown",
   "metadata": {},
   "source": [
    "civic activism and youth programs\n",
    "suburban vibe\n",
    "green spaces\n",
    "swimming\n",
    "hiking\n",
    "West Roxbury has the most open space in the city, with nearly 1,200 acres. \n"
   ]
  },
  {
   "cell_type": "code",
   "execution_count": 2,
   "metadata": {},
   "outputs": [
    {
     "name": "stdout",
     "output_type": "stream",
     "text": "Everything works fine!\n"
    }
   ],
   "source": [
    "import numpy as np \n",
    "import pandas as pd\n",
    "import json\n",
    "from geopy.geocoders import Nominatim\n",
    "import geocoder\n",
    "import requests\n",
    "from bs4 import BeautifulSoup\n",
    "from pandas.io.json import json_normalize\n",
    "import matplotlib.cm as cm\n",
    "import matplotlib.colors as colors\n",
    "from sklearn.cluster import KMeans\n",
    "import folium\n",
    "\n",
    "print('Everything works fine!')"
   ]
  },
  {
   "cell_type": "code",
   "execution_count": 3,
   "metadata": {},
   "outputs": [
    {
     "name": "stdout",
     "output_type": "stream",
     "text": "['Allston', 'Back Bay', 'Bay Village', 'Beacon Hill', 'Brighton', 'Charlestown', 'Chinatown-Leather District', 'Dorchester', 'Downtown', 'East Boston', 'Fenway-Kenmore', 'Hyde Park', 'Jamaica Plain', 'Mattapan', 'Mid-Dorchester', 'Mission Hill', 'North End', 'Roslindale', 'Roxbury', 'South Boston', 'South End', 'West End', 'West Roxbury']\n"
    }
   ],
   "source": [
    "res = requests.get(\n",
    "    'https://www.boston.gov/neighborhoods')\n",
    "\n",
    "soup = BeautifulSoup(res.text, 'html.parser')\n",
    "\n",
    "boston_neighborhoods = []\n",
    "\n",
    "for row in soup.find_all('div', class_='g p-b500')[0].find_all('h3'):\n",
    "    boston_neighborhoods.append(row.text)\n",
    "print(boston_neighborhoods)\n"
   ]
  },
  {
   "cell_type": "code",
   "execution_count": 4,
   "metadata": {},
   "outputs": [
    {
     "data": {
      "text/html": "<div>\n<style scoped>\n    .dataframe tbody tr th:only-of-type {\n        vertical-align: middle;\n    }\n\n    .dataframe tbody tr th {\n        vertical-align: top;\n    }\n\n    .dataframe thead th {\n        text-align: right;\n    }\n</style>\n<table border=\"1\" class=\"dataframe\">\n  <thead>\n    <tr style=\"text-align: right;\">\n      <th></th>\n      <th>Boston Neighborhoods</th>\n    </tr>\n  </thead>\n  <tbody>\n    <tr>\n      <th>0</th>\n      <td>Allston</td>\n    </tr>\n    <tr>\n      <th>1</th>\n      <td>Back Bay</td>\n    </tr>\n    <tr>\n      <th>2</th>\n      <td>Bay Village</td>\n    </tr>\n    <tr>\n      <th>3</th>\n      <td>Beacon Hill</td>\n    </tr>\n    <tr>\n      <th>4</th>\n      <td>Brighton</td>\n    </tr>\n    <tr>\n      <th>5</th>\n      <td>Charlestown</td>\n    </tr>\n    <tr>\n      <th>6</th>\n      <td>Chinatown-Leather District</td>\n    </tr>\n    <tr>\n      <th>7</th>\n      <td>Dorchester</td>\n    </tr>\n    <tr>\n      <th>8</th>\n      <td>Downtown</td>\n    </tr>\n    <tr>\n      <th>9</th>\n      <td>East Boston</td>\n    </tr>\n    <tr>\n      <th>10</th>\n      <td>Fenway-Kenmore</td>\n    </tr>\n    <tr>\n      <th>11</th>\n      <td>Hyde Park</td>\n    </tr>\n    <tr>\n      <th>12</th>\n      <td>Jamaica Plain</td>\n    </tr>\n    <tr>\n      <th>13</th>\n      <td>Mattapan</td>\n    </tr>\n    <tr>\n      <th>14</th>\n      <td>Mid-Dorchester</td>\n    </tr>\n    <tr>\n      <th>15</th>\n      <td>Mission Hill</td>\n    </tr>\n    <tr>\n      <th>16</th>\n      <td>North End</td>\n    </tr>\n    <tr>\n      <th>17</th>\n      <td>Roslindale</td>\n    </tr>\n    <tr>\n      <th>18</th>\n      <td>Roxbury</td>\n    </tr>\n    <tr>\n      <th>19</th>\n      <td>South Boston</td>\n    </tr>\n    <tr>\n      <th>20</th>\n      <td>South End</td>\n    </tr>\n    <tr>\n      <th>21</th>\n      <td>West End</td>\n    </tr>\n    <tr>\n      <th>22</th>\n      <td>West Roxbury</td>\n    </tr>\n  </tbody>\n</table>\n</div>",
      "text/plain": "          Boston Neighborhoods\n0                      Allston\n1                     Back Bay\n2                  Bay Village\n3                  Beacon Hill\n4                     Brighton\n5                  Charlestown\n6   Chinatown-Leather District\n7                   Dorchester\n8                     Downtown\n9                  East Boston\n10              Fenway-Kenmore\n11                   Hyde Park\n12               Jamaica Plain\n13                    Mattapan\n14              Mid-Dorchester\n15                Mission Hill\n16                   North End\n17                  Roslindale\n18                     Roxbury\n19                South Boston\n20                   South End\n21                    West End\n22                West Roxbury"
     },
     "execution_count": 4,
     "metadata": {},
     "output_type": "execute_result"
    }
   ],
   "source": [
    "df = pd.DataFrame({'Boston Neighborhoods': boston_neighborhoods})\n",
    "df"
   ]
  },
  {
   "cell_type": "code",
   "execution_count": 5,
   "metadata": {},
   "outputs": [
    {
     "data": {
      "text/plain": "23"
     },
     "execution_count": 5,
     "metadata": {},
     "output_type": "execute_result"
    }
   ],
   "source": [
    "df.shape[0]"
   ]
  },
  {
   "cell_type": "code",
   "execution_count": 6,
   "metadata": {},
   "outputs": [],
   "source": [
    "def find_latlng(neighborhood):\n",
    "    lat_lng_coords = None\n",
    "    while(lat_lng_coords is None):\n",
    "        g = geocoder.arcgis('{}, Boston, Massachusetts'.format(neighborhood))\n",
    "        lat_lng_coords = g.latlng\n",
    "    return lat_lng_coords"
   ]
  },
  {
   "cell_type": "code",
   "execution_count": 7,
   "metadata": {},
   "outputs": [],
   "source": [
    "lat_long = [find_latlng(neighborhood) for neighborhood in df['Boston Neighborhoods']]"
   ]
  },
  {
   "cell_type": "code",
   "execution_count": 8,
   "metadata": {},
   "outputs": [
    {
     "data": {
      "text/plain": "[[42.35046649714098, -71.11100415506229],\n [42.34999000000005, -71.08764999999994],\n [42.348168000000015, -71.06847074999999],\n [42.35842000000008, -71.06859999999995],\n [42.35213123053123, -71.12492353661709],\n [42.36776992509806, -71.05901694825978],\n [42.35251000000005, -71.06089999999995],\n [42.35134867454975, -71.05285041243937],\n [42.35829000000007, -71.05662999999998],\n [42.35141360528571, -71.05671282961363],\n [42.34355000000005, -71.10156999999998],\n [42.274893442956426, -71.1199472126674],\n [42.30584990221593, -71.11909514176067],\n [42.278224926536424, -71.09608297802978],\n [42.35134867454975, -71.05285041243937],\n [42.33578000000006, -71.10980999999998],\n [42.36549000000008, -71.05296999999996],\n [42.28181311006276, -71.13711121314374],\n [42.33029675765322, -71.0894809461078],\n [42.35224995700159, -71.0556905214992],\n [42.34256000000005, -71.07357999999994],\n [42.36394000000007, -71.06738999999999],\n [42.28219344914676, -71.14599477055154]]"
     },
     "execution_count": 8,
     "metadata": {},
     "output_type": "execute_result"
    }
   ],
   "source": [
    "lat_long"
   ]
  },
  {
   "cell_type": "code",
   "execution_count": 9,
   "metadata": {},
   "outputs": [
    {
     "data": {
      "text/html": "<div>\n<style scoped>\n    .dataframe tbody tr th:only-of-type {\n        vertical-align: middle;\n    }\n\n    .dataframe tbody tr th {\n        vertical-align: top;\n    }\n\n    .dataframe thead th {\n        text-align: right;\n    }\n</style>\n<table border=\"1\" class=\"dataframe\">\n  <thead>\n    <tr style=\"text-align: right;\">\n      <th></th>\n      <th>Latitude</th>\n      <th>Longitude</th>\n    </tr>\n  </thead>\n  <tbody>\n    <tr>\n      <th>0</th>\n      <td>42.350466</td>\n      <td>-71.111004</td>\n    </tr>\n    <tr>\n      <th>1</th>\n      <td>42.349990</td>\n      <td>-71.087650</td>\n    </tr>\n    <tr>\n      <th>2</th>\n      <td>42.348168</td>\n      <td>-71.068471</td>\n    </tr>\n    <tr>\n      <th>3</th>\n      <td>42.358420</td>\n      <td>-71.068600</td>\n    </tr>\n    <tr>\n      <th>4</th>\n      <td>42.352131</td>\n      <td>-71.124924</td>\n    </tr>\n    <tr>\n      <th>5</th>\n      <td>42.367770</td>\n      <td>-71.059017</td>\n    </tr>\n    <tr>\n      <th>6</th>\n      <td>42.352510</td>\n      <td>-71.060900</td>\n    </tr>\n    <tr>\n      <th>7</th>\n      <td>42.351349</td>\n      <td>-71.052850</td>\n    </tr>\n    <tr>\n      <th>8</th>\n      <td>42.358290</td>\n      <td>-71.056630</td>\n    </tr>\n    <tr>\n      <th>9</th>\n      <td>42.351414</td>\n      <td>-71.056713</td>\n    </tr>\n    <tr>\n      <th>10</th>\n      <td>42.343550</td>\n      <td>-71.101570</td>\n    </tr>\n    <tr>\n      <th>11</th>\n      <td>42.274893</td>\n      <td>-71.119947</td>\n    </tr>\n    <tr>\n      <th>12</th>\n      <td>42.305850</td>\n      <td>-71.119095</td>\n    </tr>\n    <tr>\n      <th>13</th>\n      <td>42.278225</td>\n      <td>-71.096083</td>\n    </tr>\n    <tr>\n      <th>14</th>\n      <td>42.351349</td>\n      <td>-71.052850</td>\n    </tr>\n    <tr>\n      <th>15</th>\n      <td>42.335780</td>\n      <td>-71.109810</td>\n    </tr>\n    <tr>\n      <th>16</th>\n      <td>42.365490</td>\n      <td>-71.052970</td>\n    </tr>\n    <tr>\n      <th>17</th>\n      <td>42.281813</td>\n      <td>-71.137111</td>\n    </tr>\n    <tr>\n      <th>18</th>\n      <td>42.330297</td>\n      <td>-71.089481</td>\n    </tr>\n    <tr>\n      <th>19</th>\n      <td>42.352250</td>\n      <td>-71.055691</td>\n    </tr>\n    <tr>\n      <th>20</th>\n      <td>42.342560</td>\n      <td>-71.073580</td>\n    </tr>\n    <tr>\n      <th>21</th>\n      <td>42.363940</td>\n      <td>-71.067390</td>\n    </tr>\n    <tr>\n      <th>22</th>\n      <td>42.282193</td>\n      <td>-71.145995</td>\n    </tr>\n  </tbody>\n</table>\n</div>",
      "text/plain": "     Latitude  Longitude\n0   42.350466 -71.111004\n1   42.349990 -71.087650\n2   42.348168 -71.068471\n3   42.358420 -71.068600\n4   42.352131 -71.124924\n5   42.367770 -71.059017\n6   42.352510 -71.060900\n7   42.351349 -71.052850\n8   42.358290 -71.056630\n9   42.351414 -71.056713\n10  42.343550 -71.101570\n11  42.274893 -71.119947\n12  42.305850 -71.119095\n13  42.278225 -71.096083\n14  42.351349 -71.052850\n15  42.335780 -71.109810\n16  42.365490 -71.052970\n17  42.281813 -71.137111\n18  42.330297 -71.089481\n19  42.352250 -71.055691\n20  42.342560 -71.073580\n21  42.363940 -71.067390\n22  42.282193 -71.145995"
     },
     "execution_count": 9,
     "metadata": {},
     "output_type": "execute_result"
    }
   ],
   "source": [
    "df_coordinates = pd.DataFrame(lat_long, columns=('Latitude', 'Longitude'))\n",
    "df_coordinates"
   ]
  },
  {
   "cell_type": "code",
   "execution_count": 10,
   "metadata": {},
   "outputs": [
    {
     "data": {
      "text/html": "<div>\n<style scoped>\n    .dataframe tbody tr th:only-of-type {\n        vertical-align: middle;\n    }\n\n    .dataframe tbody tr th {\n        vertical-align: top;\n    }\n\n    .dataframe thead th {\n        text-align: right;\n    }\n</style>\n<table border=\"1\" class=\"dataframe\">\n  <thead>\n    <tr style=\"text-align: right;\">\n      <th></th>\n      <th>Boston Neighborhoods</th>\n      <th>Latitude</th>\n      <th>Longitude</th>\n    </tr>\n  </thead>\n  <tbody>\n    <tr>\n      <th>0</th>\n      <td>Allston</td>\n      <td>42.350466</td>\n      <td>-71.111004</td>\n    </tr>\n    <tr>\n      <th>1</th>\n      <td>Back Bay</td>\n      <td>42.349990</td>\n      <td>-71.087650</td>\n    </tr>\n    <tr>\n      <th>2</th>\n      <td>Bay Village</td>\n      <td>42.348168</td>\n      <td>-71.068471</td>\n    </tr>\n    <tr>\n      <th>3</th>\n      <td>Beacon Hill</td>\n      <td>42.358420</td>\n      <td>-71.068600</td>\n    </tr>\n    <tr>\n      <th>4</th>\n      <td>Brighton</td>\n      <td>42.352131</td>\n      <td>-71.124924</td>\n    </tr>\n    <tr>\n      <th>5</th>\n      <td>Charlestown</td>\n      <td>42.367770</td>\n      <td>-71.059017</td>\n    </tr>\n    <tr>\n      <th>6</th>\n      <td>Chinatown-Leather District</td>\n      <td>42.352510</td>\n      <td>-71.060900</td>\n    </tr>\n    <tr>\n      <th>7</th>\n      <td>Dorchester</td>\n      <td>42.351349</td>\n      <td>-71.052850</td>\n    </tr>\n    <tr>\n      <th>8</th>\n      <td>Downtown</td>\n      <td>42.358290</td>\n      <td>-71.056630</td>\n    </tr>\n    <tr>\n      <th>9</th>\n      <td>East Boston</td>\n      <td>42.351414</td>\n      <td>-71.056713</td>\n    </tr>\n    <tr>\n      <th>10</th>\n      <td>Fenway-Kenmore</td>\n      <td>42.343550</td>\n      <td>-71.101570</td>\n    </tr>\n    <tr>\n      <th>11</th>\n      <td>Hyde Park</td>\n      <td>42.274893</td>\n      <td>-71.119947</td>\n    </tr>\n    <tr>\n      <th>12</th>\n      <td>Jamaica Plain</td>\n      <td>42.305850</td>\n      <td>-71.119095</td>\n    </tr>\n    <tr>\n      <th>13</th>\n      <td>Mattapan</td>\n      <td>42.278225</td>\n      <td>-71.096083</td>\n    </tr>\n    <tr>\n      <th>14</th>\n      <td>Mid-Dorchester</td>\n      <td>42.351349</td>\n      <td>-71.052850</td>\n    </tr>\n    <tr>\n      <th>15</th>\n      <td>Mission Hill</td>\n      <td>42.335780</td>\n      <td>-71.109810</td>\n    </tr>\n    <tr>\n      <th>16</th>\n      <td>North End</td>\n      <td>42.365490</td>\n      <td>-71.052970</td>\n    </tr>\n    <tr>\n      <th>17</th>\n      <td>Roslindale</td>\n      <td>42.281813</td>\n      <td>-71.137111</td>\n    </tr>\n    <tr>\n      <th>18</th>\n      <td>Roxbury</td>\n      <td>42.330297</td>\n      <td>-71.089481</td>\n    </tr>\n    <tr>\n      <th>19</th>\n      <td>South Boston</td>\n      <td>42.352250</td>\n      <td>-71.055691</td>\n    </tr>\n    <tr>\n      <th>20</th>\n      <td>South End</td>\n      <td>42.342560</td>\n      <td>-71.073580</td>\n    </tr>\n    <tr>\n      <th>21</th>\n      <td>West End</td>\n      <td>42.363940</td>\n      <td>-71.067390</td>\n    </tr>\n    <tr>\n      <th>22</th>\n      <td>West Roxbury</td>\n      <td>42.282193</td>\n      <td>-71.145995</td>\n    </tr>\n  </tbody>\n</table>\n</div>",
      "text/plain": "          Boston Neighborhoods   Latitude  Longitude\n0                      Allston  42.350466 -71.111004\n1                     Back Bay  42.349990 -71.087650\n2                  Bay Village  42.348168 -71.068471\n3                  Beacon Hill  42.358420 -71.068600\n4                     Brighton  42.352131 -71.124924\n5                  Charlestown  42.367770 -71.059017\n6   Chinatown-Leather District  42.352510 -71.060900\n7                   Dorchester  42.351349 -71.052850\n8                     Downtown  42.358290 -71.056630\n9                  East Boston  42.351414 -71.056713\n10              Fenway-Kenmore  42.343550 -71.101570\n11                   Hyde Park  42.274893 -71.119947\n12               Jamaica Plain  42.305850 -71.119095\n13                    Mattapan  42.278225 -71.096083\n14              Mid-Dorchester  42.351349 -71.052850\n15                Mission Hill  42.335780 -71.109810\n16                   North End  42.365490 -71.052970\n17                  Roslindale  42.281813 -71.137111\n18                     Roxbury  42.330297 -71.089481\n19                South Boston  42.352250 -71.055691\n20                   South End  42.342560 -71.073580\n21                    West End  42.363940 -71.067390\n22                West Roxbury  42.282193 -71.145995"
     },
     "execution_count": 10,
     "metadata": {},
     "output_type": "execute_result"
    }
   ],
   "source": [
    "df = df.assign(Latitude=df_coordinates.Latitude.values, Longitude=df_coordinates.Longitude.values)\n",
    "df"
   ]
  },
  {
   "cell_type": "code",
   "execution_count": 11,
   "metadata": {},
   "outputs": [],
   "source": [
    "df['Zip Code'] = ['02134', '02116', '02116', '02108', '02135', '02129', '02111', '02121', '02201', '02128', '[02115, 02215]', '02136', '02130', '02126', '[02121, 02122, 02124, 02125]', '[02120, 02115]', '02113', '02131', '02119', '02127', '02118', '02114', '02132']"
   ]
  },
  {
   "cell_type": "code",
   "execution_count": 12,
   "metadata": {},
   "outputs": [
    {
     "data": {
      "text/html": "<div>\n<style scoped>\n    .dataframe tbody tr th:only-of-type {\n        vertical-align: middle;\n    }\n\n    .dataframe tbody tr th {\n        vertical-align: top;\n    }\n\n    .dataframe thead th {\n        text-align: right;\n    }\n</style>\n<table border=\"1\" class=\"dataframe\">\n  <thead>\n    <tr style=\"text-align: right;\">\n      <th></th>\n      <th>Boston Neighborhoods</th>\n      <th>Latitude</th>\n      <th>Longitude</th>\n      <th>Zip Code</th>\n    </tr>\n  </thead>\n  <tbody>\n    <tr>\n      <th>0</th>\n      <td>Allston</td>\n      <td>42.350466</td>\n      <td>-71.111004</td>\n      <td>02134</td>\n    </tr>\n    <tr>\n      <th>1</th>\n      <td>Back Bay</td>\n      <td>42.349990</td>\n      <td>-71.087650</td>\n      <td>02116</td>\n    </tr>\n    <tr>\n      <th>2</th>\n      <td>Bay Village</td>\n      <td>42.348168</td>\n      <td>-71.068471</td>\n      <td>02116</td>\n    </tr>\n    <tr>\n      <th>3</th>\n      <td>Beacon Hill</td>\n      <td>42.358420</td>\n      <td>-71.068600</td>\n      <td>02108</td>\n    </tr>\n    <tr>\n      <th>4</th>\n      <td>Brighton</td>\n      <td>42.352131</td>\n      <td>-71.124924</td>\n      <td>02135</td>\n    </tr>\n    <tr>\n      <th>5</th>\n      <td>Charlestown</td>\n      <td>42.367770</td>\n      <td>-71.059017</td>\n      <td>02129</td>\n    </tr>\n    <tr>\n      <th>6</th>\n      <td>Chinatown-Leather District</td>\n      <td>42.352510</td>\n      <td>-71.060900</td>\n      <td>02111</td>\n    </tr>\n    <tr>\n      <th>7</th>\n      <td>Dorchester</td>\n      <td>42.351349</td>\n      <td>-71.052850</td>\n      <td>02121</td>\n    </tr>\n    <tr>\n      <th>8</th>\n      <td>Downtown</td>\n      <td>42.358290</td>\n      <td>-71.056630</td>\n      <td>02201</td>\n    </tr>\n    <tr>\n      <th>9</th>\n      <td>East Boston</td>\n      <td>42.351414</td>\n      <td>-71.056713</td>\n      <td>02128</td>\n    </tr>\n    <tr>\n      <th>10</th>\n      <td>Fenway-Kenmore</td>\n      <td>42.343550</td>\n      <td>-71.101570</td>\n      <td>[02115, 02215]</td>\n    </tr>\n    <tr>\n      <th>11</th>\n      <td>Hyde Park</td>\n      <td>42.274893</td>\n      <td>-71.119947</td>\n      <td>02136</td>\n    </tr>\n    <tr>\n      <th>12</th>\n      <td>Jamaica Plain</td>\n      <td>42.305850</td>\n      <td>-71.119095</td>\n      <td>02130</td>\n    </tr>\n    <tr>\n      <th>13</th>\n      <td>Mattapan</td>\n      <td>42.278225</td>\n      <td>-71.096083</td>\n      <td>02126</td>\n    </tr>\n    <tr>\n      <th>14</th>\n      <td>Mid-Dorchester</td>\n      <td>42.351349</td>\n      <td>-71.052850</td>\n      <td>[02121, 02122, 02124, 02125]</td>\n    </tr>\n    <tr>\n      <th>15</th>\n      <td>Mission Hill</td>\n      <td>42.335780</td>\n      <td>-71.109810</td>\n      <td>[02120, 02115]</td>\n    </tr>\n    <tr>\n      <th>16</th>\n      <td>North End</td>\n      <td>42.365490</td>\n      <td>-71.052970</td>\n      <td>02113</td>\n    </tr>\n    <tr>\n      <th>17</th>\n      <td>Roslindale</td>\n      <td>42.281813</td>\n      <td>-71.137111</td>\n      <td>02131</td>\n    </tr>\n    <tr>\n      <th>18</th>\n      <td>Roxbury</td>\n      <td>42.330297</td>\n      <td>-71.089481</td>\n      <td>02119</td>\n    </tr>\n    <tr>\n      <th>19</th>\n      <td>South Boston</td>\n      <td>42.352250</td>\n      <td>-71.055691</td>\n      <td>02127</td>\n    </tr>\n    <tr>\n      <th>20</th>\n      <td>South End</td>\n      <td>42.342560</td>\n      <td>-71.073580</td>\n      <td>02118</td>\n    </tr>\n    <tr>\n      <th>21</th>\n      <td>West End</td>\n      <td>42.363940</td>\n      <td>-71.067390</td>\n      <td>02114</td>\n    </tr>\n    <tr>\n      <th>22</th>\n      <td>West Roxbury</td>\n      <td>42.282193</td>\n      <td>-71.145995</td>\n      <td>02132</td>\n    </tr>\n  </tbody>\n</table>\n</div>",
      "text/plain": "          Boston Neighborhoods   Latitude  Longitude  \\\n0                      Allston  42.350466 -71.111004   \n1                     Back Bay  42.349990 -71.087650   \n2                  Bay Village  42.348168 -71.068471   \n3                  Beacon Hill  42.358420 -71.068600   \n4                     Brighton  42.352131 -71.124924   \n5                  Charlestown  42.367770 -71.059017   \n6   Chinatown-Leather District  42.352510 -71.060900   \n7                   Dorchester  42.351349 -71.052850   \n8                     Downtown  42.358290 -71.056630   \n9                  East Boston  42.351414 -71.056713   \n10              Fenway-Kenmore  42.343550 -71.101570   \n11                   Hyde Park  42.274893 -71.119947   \n12               Jamaica Plain  42.305850 -71.119095   \n13                    Mattapan  42.278225 -71.096083   \n14              Mid-Dorchester  42.351349 -71.052850   \n15                Mission Hill  42.335780 -71.109810   \n16                   North End  42.365490 -71.052970   \n17                  Roslindale  42.281813 -71.137111   \n18                     Roxbury  42.330297 -71.089481   \n19                South Boston  42.352250 -71.055691   \n20                   South End  42.342560 -71.073580   \n21                    West End  42.363940 -71.067390   \n22                West Roxbury  42.282193 -71.145995   \n\n                        Zip Code  \n0                          02134  \n1                          02116  \n2                          02116  \n3                          02108  \n4                          02135  \n5                          02129  \n6                          02111  \n7                          02121  \n8                          02201  \n9                          02128  \n10                [02115, 02215]  \n11                         02136  \n12                         02130  \n13                         02126  \n14  [02121, 02122, 02124, 02125]  \n15                [02120, 02115]  \n16                         02113  \n17                         02131  \n18                         02119  \n19                         02127  \n20                         02118  \n21                         02114  \n22                         02132  "
     },
     "execution_count": 12,
     "metadata": {},
     "output_type": "execute_result"
    }
   ],
   "source": [
    "df['Zip Code']\n",
    "df"
   ]
  },
  {
   "cell_type": "code",
   "execution_count": 13,
   "metadata": {},
   "outputs": [
    {
     "data": {
      "text/html": "<div>\n<style scoped>\n    .dataframe tbody tr th:only-of-type {\n        vertical-align: middle;\n    }\n\n    .dataframe tbody tr th {\n        vertical-align: top;\n    }\n\n    .dataframe thead th {\n        text-align: right;\n    }\n</style>\n<table border=\"1\" class=\"dataframe\">\n  <thead>\n    <tr style=\"text-align: right;\">\n      <th></th>\n      <th>Boston Neighborhoods</th>\n      <th>Latitude</th>\n      <th>Longitude</th>\n      <th>Zip Code</th>\n    </tr>\n  </thead>\n  <tbody>\n    <tr>\n      <th>0</th>\n      <td>Allston</td>\n      <td>42.350466</td>\n      <td>-71.111004</td>\n      <td>02134</td>\n    </tr>\n    <tr>\n      <th>1</th>\n      <td>Back Bay</td>\n      <td>42.349990</td>\n      <td>-71.087650</td>\n      <td>02116</td>\n    </tr>\n    <tr>\n      <th>2</th>\n      <td>Bay Village</td>\n      <td>42.348168</td>\n      <td>-71.068471</td>\n      <td>02116</td>\n    </tr>\n    <tr>\n      <th>3</th>\n      <td>Beacon Hill</td>\n      <td>42.358420</td>\n      <td>-71.068600</td>\n      <td>02108</td>\n    </tr>\n    <tr>\n      <th>4</th>\n      <td>Brighton</td>\n      <td>42.352131</td>\n      <td>-71.124924</td>\n      <td>02135</td>\n    </tr>\n    <tr>\n      <th>5</th>\n      <td>Charlestown</td>\n      <td>42.367770</td>\n      <td>-71.059017</td>\n      <td>02129</td>\n    </tr>\n    <tr>\n      <th>6</th>\n      <td>Chinatown-Leather District</td>\n      <td>42.352510</td>\n      <td>-71.060900</td>\n      <td>02111</td>\n    </tr>\n    <tr>\n      <th>7</th>\n      <td>Dorchester</td>\n      <td>42.351349</td>\n      <td>-71.052850</td>\n      <td>02121</td>\n    </tr>\n    <tr>\n      <th>8</th>\n      <td>Downtown</td>\n      <td>42.358290</td>\n      <td>-71.056630</td>\n      <td>02201</td>\n    </tr>\n    <tr>\n      <th>9</th>\n      <td>East Boston</td>\n      <td>42.351414</td>\n      <td>-71.056713</td>\n      <td>02128</td>\n    </tr>\n    <tr>\n      <th>10</th>\n      <td>Fenway-Kenmore</td>\n      <td>42.343550</td>\n      <td>-71.101570</td>\n      <td>02115, 02215</td>\n    </tr>\n    <tr>\n      <th>11</th>\n      <td>Hyde Park</td>\n      <td>42.274893</td>\n      <td>-71.119947</td>\n      <td>02136</td>\n    </tr>\n    <tr>\n      <th>12</th>\n      <td>Jamaica Plain</td>\n      <td>42.305850</td>\n      <td>-71.119095</td>\n      <td>02130</td>\n    </tr>\n    <tr>\n      <th>13</th>\n      <td>Mattapan</td>\n      <td>42.278225</td>\n      <td>-71.096083</td>\n      <td>02126</td>\n    </tr>\n    <tr>\n      <th>14</th>\n      <td>Mid-Dorchester</td>\n      <td>42.351349</td>\n      <td>-71.052850</td>\n      <td>02121, 02122, 02124, 02125</td>\n    </tr>\n    <tr>\n      <th>15</th>\n      <td>Mission Hill</td>\n      <td>42.335780</td>\n      <td>-71.109810</td>\n      <td>02120, 02115</td>\n    </tr>\n    <tr>\n      <th>16</th>\n      <td>North End</td>\n      <td>42.365490</td>\n      <td>-71.052970</td>\n      <td>02113</td>\n    </tr>\n    <tr>\n      <th>17</th>\n      <td>Roslindale</td>\n      <td>42.281813</td>\n      <td>-71.137111</td>\n      <td>02131</td>\n    </tr>\n    <tr>\n      <th>18</th>\n      <td>Roxbury</td>\n      <td>42.330297</td>\n      <td>-71.089481</td>\n      <td>02119</td>\n    </tr>\n    <tr>\n      <th>19</th>\n      <td>South Boston</td>\n      <td>42.352250</td>\n      <td>-71.055691</td>\n      <td>02127</td>\n    </tr>\n    <tr>\n      <th>20</th>\n      <td>South End</td>\n      <td>42.342560</td>\n      <td>-71.073580</td>\n      <td>02118</td>\n    </tr>\n    <tr>\n      <th>21</th>\n      <td>West End</td>\n      <td>42.363940</td>\n      <td>-71.067390</td>\n      <td>02114</td>\n    </tr>\n    <tr>\n      <th>22</th>\n      <td>West Roxbury</td>\n      <td>42.282193</td>\n      <td>-71.145995</td>\n      <td>02132</td>\n    </tr>\n  </tbody>\n</table>\n</div>",
      "text/plain": "          Boston Neighborhoods   Latitude  Longitude  \\\n0                      Allston  42.350466 -71.111004   \n1                     Back Bay  42.349990 -71.087650   \n2                  Bay Village  42.348168 -71.068471   \n3                  Beacon Hill  42.358420 -71.068600   \n4                     Brighton  42.352131 -71.124924   \n5                  Charlestown  42.367770 -71.059017   \n6   Chinatown-Leather District  42.352510 -71.060900   \n7                   Dorchester  42.351349 -71.052850   \n8                     Downtown  42.358290 -71.056630   \n9                  East Boston  42.351414 -71.056713   \n10              Fenway-Kenmore  42.343550 -71.101570   \n11                   Hyde Park  42.274893 -71.119947   \n12               Jamaica Plain  42.305850 -71.119095   \n13                    Mattapan  42.278225 -71.096083   \n14              Mid-Dorchester  42.351349 -71.052850   \n15                Mission Hill  42.335780 -71.109810   \n16                   North End  42.365490 -71.052970   \n17                  Roslindale  42.281813 -71.137111   \n18                     Roxbury  42.330297 -71.089481   \n19                South Boston  42.352250 -71.055691   \n20                   South End  42.342560 -71.073580   \n21                    West End  42.363940 -71.067390   \n22                West Roxbury  42.282193 -71.145995   \n\n                      Zip Code  \n0                        02134  \n1                        02116  \n2                        02116  \n3                        02108  \n4                        02135  \n5                        02129  \n6                        02111  \n7                        02121  \n8                        02201  \n9                        02128  \n10                02115, 02215  \n11                       02136  \n12                       02130  \n13                       02126  \n14  02121, 02122, 02124, 02125  \n15                02120, 02115  \n16                       02113  \n17                       02131  \n18                       02119  \n19                       02127  \n20                       02118  \n21                       02114  \n22                       02132  "
     },
     "execution_count": 13,
     "metadata": {},
     "output_type": "execute_result"
    }
   ],
   "source": [
    "df['Zip Code'] = df['Zip Code'].str.strip('[]')\n",
    "df"
   ]
  },
  {
   "cell_type": "code",
   "execution_count": 60,
   "metadata": {},
   "outputs": [],
   "source": [
    "df['BPD Districts'] = ['D-14', 'D-4', '[A-1, A-15]', '[A-1, A-15]', 'D-14', '[A-1, A-15]', '[A-1, A-15]', 'C-11', '[A-1, A-15]', 'A-7', 'D-4', 'E-18', 'E-13', 'B-3', 'C-11', 'B-2', '[A-1, A-15]', 'E-5', 'B-2', 'C-6', 'D-4', '[A-1, A-15]', 'E-5']"
   ]
  },
  {
   "cell_type": "code",
   "execution_count": 61,
   "metadata": {},
   "outputs": [
    {
     "data": {
      "text/html": "<div>\n<style scoped>\n    .dataframe tbody tr th:only-of-type {\n        vertical-align: middle;\n    }\n\n    .dataframe tbody tr th {\n        vertical-align: top;\n    }\n\n    .dataframe thead th {\n        text-align: right;\n    }\n</style>\n<table border=\"1\" class=\"dataframe\">\n  <thead>\n    <tr style=\"text-align: right;\">\n      <th></th>\n      <th>Boston Neighborhoods</th>\n      <th>Latitude</th>\n      <th>Longitude</th>\n      <th>Zip Code</th>\n      <th>BPD Districts</th>\n    </tr>\n  </thead>\n  <tbody>\n    <tr>\n      <th>0</th>\n      <td>Allston</td>\n      <td>42.350466</td>\n      <td>-71.111004</td>\n      <td>02134</td>\n      <td>D-14</td>\n    </tr>\n    <tr>\n      <th>1</th>\n      <td>Back Bay</td>\n      <td>42.349990</td>\n      <td>-71.087650</td>\n      <td>02116</td>\n      <td>D-4</td>\n    </tr>\n    <tr>\n      <th>2</th>\n      <td>Bay Village</td>\n      <td>42.348168</td>\n      <td>-71.068471</td>\n      <td>02116</td>\n      <td>A-1, A-15</td>\n    </tr>\n    <tr>\n      <th>3</th>\n      <td>Beacon Hill</td>\n      <td>42.358420</td>\n      <td>-71.068600</td>\n      <td>02108</td>\n      <td>A-1, A-15</td>\n    </tr>\n    <tr>\n      <th>4</th>\n      <td>Brighton</td>\n      <td>42.352131</td>\n      <td>-71.124924</td>\n      <td>02135</td>\n      <td>D-14</td>\n    </tr>\n    <tr>\n      <th>5</th>\n      <td>Charlestown</td>\n      <td>42.367770</td>\n      <td>-71.059017</td>\n      <td>02129</td>\n      <td>A-1, A-15</td>\n    </tr>\n    <tr>\n      <th>6</th>\n      <td>Chinatown-Leather District</td>\n      <td>42.352510</td>\n      <td>-71.060900</td>\n      <td>02111</td>\n      <td>A-1, A-15</td>\n    </tr>\n    <tr>\n      <th>7</th>\n      <td>Dorchester</td>\n      <td>42.351349</td>\n      <td>-71.052850</td>\n      <td>02121</td>\n      <td>C-11</td>\n    </tr>\n    <tr>\n      <th>8</th>\n      <td>Downtown</td>\n      <td>42.358290</td>\n      <td>-71.056630</td>\n      <td>02201</td>\n      <td>A-1, A-15</td>\n    </tr>\n    <tr>\n      <th>9</th>\n      <td>East Boston</td>\n      <td>42.351414</td>\n      <td>-71.056713</td>\n      <td>02128</td>\n      <td>A-7</td>\n    </tr>\n    <tr>\n      <th>10</th>\n      <td>Fenway-Kenmore</td>\n      <td>42.343550</td>\n      <td>-71.101570</td>\n      <td>02115, 02215</td>\n      <td>D-4</td>\n    </tr>\n    <tr>\n      <th>11</th>\n      <td>Hyde Park</td>\n      <td>42.274893</td>\n      <td>-71.119947</td>\n      <td>02136</td>\n      <td>E-18</td>\n    </tr>\n    <tr>\n      <th>12</th>\n      <td>Jamaica Plain</td>\n      <td>42.305850</td>\n      <td>-71.119095</td>\n      <td>02130</td>\n      <td>E-13</td>\n    </tr>\n    <tr>\n      <th>13</th>\n      <td>Mattapan</td>\n      <td>42.278225</td>\n      <td>-71.096083</td>\n      <td>02126</td>\n      <td>B-3</td>\n    </tr>\n    <tr>\n      <th>14</th>\n      <td>Mid-Dorchester</td>\n      <td>42.351349</td>\n      <td>-71.052850</td>\n      <td>02121, 02122, 02124, 02125</td>\n      <td>C-11</td>\n    </tr>\n    <tr>\n      <th>15</th>\n      <td>Mission Hill</td>\n      <td>42.335780</td>\n      <td>-71.109810</td>\n      <td>02120, 02115</td>\n      <td>B-2</td>\n    </tr>\n    <tr>\n      <th>16</th>\n      <td>North End</td>\n      <td>42.365490</td>\n      <td>-71.052970</td>\n      <td>02113</td>\n      <td>A-1, A-15</td>\n    </tr>\n    <tr>\n      <th>17</th>\n      <td>Roslindale</td>\n      <td>42.281813</td>\n      <td>-71.137111</td>\n      <td>02131</td>\n      <td>E-5</td>\n    </tr>\n    <tr>\n      <th>18</th>\n      <td>Roxbury</td>\n      <td>42.330297</td>\n      <td>-71.089481</td>\n      <td>02119</td>\n      <td>B-2</td>\n    </tr>\n    <tr>\n      <th>19</th>\n      <td>South Boston</td>\n      <td>42.352250</td>\n      <td>-71.055691</td>\n      <td>02127</td>\n      <td>C-6</td>\n    </tr>\n    <tr>\n      <th>20</th>\n      <td>South End</td>\n      <td>42.342560</td>\n      <td>-71.073580</td>\n      <td>02118</td>\n      <td>D-4</td>\n    </tr>\n    <tr>\n      <th>21</th>\n      <td>West End</td>\n      <td>42.363940</td>\n      <td>-71.067390</td>\n      <td>02114</td>\n      <td>A-1, A-15</td>\n    </tr>\n    <tr>\n      <th>22</th>\n      <td>West Roxbury</td>\n      <td>42.282193</td>\n      <td>-71.145995</td>\n      <td>02132</td>\n      <td>E-5</td>\n    </tr>\n  </tbody>\n</table>\n</div>",
      "text/plain": "          Boston Neighborhoods   Latitude  Longitude  \\\n0                      Allston  42.350466 -71.111004   \n1                     Back Bay  42.349990 -71.087650   \n2                  Bay Village  42.348168 -71.068471   \n3                  Beacon Hill  42.358420 -71.068600   \n4                     Brighton  42.352131 -71.124924   \n5                  Charlestown  42.367770 -71.059017   \n6   Chinatown-Leather District  42.352510 -71.060900   \n7                   Dorchester  42.351349 -71.052850   \n8                     Downtown  42.358290 -71.056630   \n9                  East Boston  42.351414 -71.056713   \n10              Fenway-Kenmore  42.343550 -71.101570   \n11                   Hyde Park  42.274893 -71.119947   \n12               Jamaica Plain  42.305850 -71.119095   \n13                    Mattapan  42.278225 -71.096083   \n14              Mid-Dorchester  42.351349 -71.052850   \n15                Mission Hill  42.335780 -71.109810   \n16                   North End  42.365490 -71.052970   \n17                  Roslindale  42.281813 -71.137111   \n18                     Roxbury  42.330297 -71.089481   \n19                South Boston  42.352250 -71.055691   \n20                   South End  42.342560 -71.073580   \n21                    West End  42.363940 -71.067390   \n22                West Roxbury  42.282193 -71.145995   \n\n                      Zip Code BPD Districts  \n0                        02134          D-14  \n1                        02116           D-4  \n2                        02116     A-1, A-15  \n3                        02108     A-1, A-15  \n4                        02135          D-14  \n5                        02129     A-1, A-15  \n6                        02111     A-1, A-15  \n7                        02121          C-11  \n8                        02201     A-1, A-15  \n9                        02128           A-7  \n10                02115, 02215           D-4  \n11                       02136          E-18  \n12                       02130          E-13  \n13                       02126           B-3  \n14  02121, 02122, 02124, 02125          C-11  \n15                02120, 02115           B-2  \n16                       02113     A-1, A-15  \n17                       02131           E-5  \n18                       02119           B-2  \n19                       02127           C-6  \n20                       02118           D-4  \n21                       02114     A-1, A-15  \n22                       02132           E-5  "
     },
     "execution_count": 61,
     "metadata": {},
     "output_type": "execute_result"
    }
   ],
   "source": [
    "df['BPD Districts'] = df['BPD Districts'].str.strip('[]')\n",
    "df"
   ]
  },
  {
   "cell_type": "code",
   "execution_count": 63,
   "metadata": {},
   "outputs": [
    {
     "name": "stdout",
     "output_type": "stream",
     "text": "The geograpical coordinates of Boston, Massachusetts are 42.3602534, -71.0582912.\n"
    }
   ],
   "source": [
    "address = 'Boston, Massachusetts'\n",
    "\n",
    "geolocator = Nominatim(user_agent=\"boston_explorer\")\n",
    "location = geolocator.geocode(address)\n",
    "latitude = location.latitude\n",
    "longitude = location.longitude\n",
    "\n",
    "print('The geograpical coordinates of '+ address + ' are {}, {}.'.format(latitude, longitude))"
   ]
  },
  {
   "cell_type": "code",
   "execution_count": 64,
   "metadata": {},
   "outputs": [
    {
     "data": {
      "text/html": "<div style=\"width:100%;\"><div style=\"position:relative;width:100%;height:0;padding-bottom:60%;\"><iframe src=\"about:blank\" style=\"position:absolute;width:100%;height:100%;left:0;top:0;border:none !important;\" data-html=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 onload=\"this.contentDocument.open();this.contentDocument.write(atob(this.getAttribute('data-html')));this.contentDocument.close();\" allowfullscreen webkitallowfullscreen mozallowfullscreen></iframe></div></div>",
      "text/plain": "<folium.folium.Map at 0xb505710>"
     },
     "execution_count": 64,
     "metadata": {},
     "output_type": "execute_result"
    }
   ],
   "source": [
    "map_boston = folium.Map(location=[latitude, longitude], zoom_start=11)\n",
    "\n",
    "for lat, lng, neighborhood in zip(df['Latitude'], df['Longitude'], df['Boston Neighborhoods']):\n",
    "    label = '{}'.format(neighborhood)\n",
    "    folium.Marker([lat, lng], popup=label).add_to(map_boston) \n",
    "    \n",
    "map_boston"
   ]
  },
  {
   "cell_type": "code",
   "execution_count": 17,
   "metadata": {},
   "outputs": [
    {
     "name": "stdout",
     "output_type": "stream",
     "text": "CLIENT_ID: DLEPKVUPBD22IWQUTN2PAYMXRPPSSNG322V3KVLF35CLNV0F\nCLIENT_SECRET:MFVKOQGWMBP3IU35Y04EJECLOGISGUEQPFSKQZ2VE2JMBUSE\n"
    }
   ],
   "source": [
    "CLIENT_ID = 'DLEPKVUPBD22IWQUTN2PAYMXRPPSSNG322V3KVLF35CLNV0F'\n",
    "CLIENT_SECRET = 'MFVKOQGWMBP3IU35Y04EJECLOGISGUEQPFSKQZ2VE2JMBUSE'\n",
    "VERSION = '20180605'\n",
    "\n",
    "print('CLIENT_ID: ' + CLIENT_ID)\n",
    "print('CLIENT_SECRET:' + CLIENT_SECRET)"
   ]
  },
  {
   "cell_type": "markdown",
   "metadata": {},
   "source": [
    "### 1. Allston\n",
    "\n",
    "There is a river (Charles River) and a bicycle path on the north and east, offering plenty of recreational opportunities.\n",
    "\n",
    "diverse community, including longtime residents, students from nearby Boston University and Harvard, recent immigrants, and young professionals Supports business owners and nonprofits in the area. Harvard University, which owns more land in Boston than in Cambridge, is a major tenant of the neighborhood. Business school and athletic facilities. 64.55% of Allston’s population is between the ages of 20-34 making Allston the neighborhood with the highest percentage of young adults. 358 acres of land dedicated to academic space, the most in Boston."
   ]
  },
  {
   "cell_type": "code",
   "execution_count": 39,
   "metadata": {},
   "outputs": [],
   "source": [
    "def getNearbyVenues(names, latitudes, longitudes, radius=1000):\n",
    "\n",
    "    venues_list = []\n",
    "    for name, lat, lng in zip(names, latitudes, longitudes):\n",
    "        print(name)\n",
    "\n",
    "        # create the API request URL\n",
    "        url = 'https://api.foursquare.com/v2/venues/explore?&client_id={}&client_secret={}&v={}&ll={},{}&radius={}&limit={}'.format(\n",
    "            CLIENT_ID,\n",
    "            CLIENT_SECRET,\n",
    "            VERSION,\n",
    "            lat,\n",
    "            lng,\n",
    "            radius,\n",
    "            LIMIT)\n",
    "\n",
    "        # make the GET request\n",
    "        results = requests.get(url).json()[\"response\"]['groups'][0]['items']\n",
    "\n",
    "        # return only relevant information for each nearby venue\n",
    "        venues_list.append([(\n",
    "            name,\n",
    "            lat,\n",
    "            lng,\n",
    "            v['venue']['name'],\n",
    "            v['venue']['location']['lat'],\n",
    "            v['venue']['location']['lng'],\n",
    "            v['venue']['categories'][0]['name']) for v in results])\n",
    "\n",
    "    nearby_venues = pd.DataFrame(\n",
    "        [item for venue_list in venues_list for item in venue_list])\n",
    "    nearby_venues.columns = ['Neighborhood',\n",
    "                             'Neighborhood Latitude',\n",
    "                             'Neighborhood Longitude',\n",
    "                             'Venue',\n",
    "                             'Venue Latitude',\n",
    "                             'Venue Longitude',\n",
    "                             'Venue Category']\n",
    "\n",
    "    return(nearby_venues)"
   ]
  },
  {
   "cell_type": "code",
   "execution_count": 40,
   "metadata": {},
   "outputs": [
    {
     "name": "stdout",
     "output_type": "stream",
     "text": "Allston\nBack Bay\nBay Village\nBeacon Hill\nBrighton\nCharlestown\nChinatown-Leather District\nDorchester\nDowntown\nEast Boston\nFenway-Kenmore\nHyde Park\nJamaica Plain\nMattapan\nMid-Dorchester\nMission Hill\nNorth End\nRoslindale\nRoxbury\nSouth Boston\nSouth End\nWest End\nWest Roxbury\n"
    },
    {
     "data": {
      "text/html": "<div>\n<style scoped>\n    .dataframe tbody tr th:only-of-type {\n        vertical-align: middle;\n    }\n\n    .dataframe tbody tr th {\n        vertical-align: top;\n    }\n\n    .dataframe thead th {\n        text-align: right;\n    }\n</style>\n<table border=\"1\" class=\"dataframe\">\n  <thead>\n    <tr style=\"text-align: right;\">\n      <th></th>\n      <th>Neighborhood</th>\n      <th>Neighborhood Latitude</th>\n      <th>Neighborhood Longitude</th>\n      <th>Venue</th>\n      <th>Venue Latitude</th>\n      <th>Venue Longitude</th>\n      <th>Venue Category</th>\n    </tr>\n  </thead>\n  <tbody>\n    <tr>\n      <th>0</th>\n      <td>Allston</td>\n      <td>42.350466</td>\n      <td>-71.111004</td>\n      <td>Boston House of Pizza</td>\n      <td>42.350281</td>\n      <td>-71.113864</td>\n      <td>Pizza Place</td>\n    </tr>\n    <tr>\n      <th>1</th>\n      <td>Allston</td>\n      <td>42.350466</td>\n      <td>-71.111004</td>\n      <td>OTTO</td>\n      <td>42.350388</td>\n      <td>-71.115236</td>\n      <td>Pizza Place</td>\n    </tr>\n    <tr>\n      <th>2</th>\n      <td>Allston</td>\n      <td>42.350466</td>\n      <td>-71.111004</td>\n      <td>Pavement Coffeehouse</td>\n      <td>42.350030</td>\n      <td>-71.107020</td>\n      <td>Café</td>\n    </tr>\n    <tr>\n      <th>3</th>\n      <td>Allston</td>\n      <td>42.350466</td>\n      <td>-71.111004</td>\n      <td>Southwest Day Spa</td>\n      <td>42.345855</td>\n      <td>-71.108433</td>\n      <td>Spa</td>\n    </tr>\n    <tr>\n      <th>4</th>\n      <td>Allston</td>\n      <td>42.350466</td>\n      <td>-71.111004</td>\n      <td>Amazon@Boston</td>\n      <td>42.350761</td>\n      <td>-71.114298</td>\n      <td>Shipping Store</td>\n    </tr>\n    <tr>\n      <th>...</th>\n      <td>...</td>\n      <td>...</td>\n      <td>...</td>\n      <td>...</td>\n      <td>...</td>\n      <td>...</td>\n      <td>...</td>\n    </tr>\n    <tr>\n      <th>1906</th>\n      <td>West Roxbury</td>\n      <td>42.282193</td>\n      <td>-71.145995</td>\n      <td>The Astro Diner</td>\n      <td>42.286431</td>\n      <td>-71.136289</td>\n      <td>Diner</td>\n    </tr>\n    <tr>\n      <th>1907</th>\n      <td>West Roxbury</td>\n      <td>42.282193</td>\n      <td>-71.145995</td>\n      <td>Comcast</td>\n      <td>42.275460</td>\n      <td>-71.138938</td>\n      <td>Electronics Store</td>\n    </tr>\n    <tr>\n      <th>1908</th>\n      <td>West Roxbury</td>\n      <td>42.282193</td>\n      <td>-71.145995</td>\n      <td>Get In shape For Women</td>\n      <td>42.274542</td>\n      <td>-71.151069</td>\n      <td>Gym / Fitness Center</td>\n    </tr>\n    <tr>\n      <th>1909</th>\n      <td>West Roxbury</td>\n      <td>42.282193</td>\n      <td>-71.145995</td>\n      <td>City Lock Company, Inc</td>\n      <td>42.282840</td>\n      <td>-71.157500</td>\n      <td>Locksmith</td>\n    </tr>\n    <tr>\n      <th>1910</th>\n      <td>West Roxbury</td>\n      <td>42.282193</td>\n      <td>-71.145995</td>\n      <td>Bellevue Hill Park</td>\n      <td>42.273567</td>\n      <td>-71.146736</td>\n      <td>Park</td>\n    </tr>\n  </tbody>\n</table>\n<p>1911 rows × 7 columns</p>\n</div>",
      "text/plain": "      Neighborhood  Neighborhood Latitude  Neighborhood Longitude  \\\n0          Allston              42.350466              -71.111004   \n1          Allston              42.350466              -71.111004   \n2          Allston              42.350466              -71.111004   \n3          Allston              42.350466              -71.111004   \n4          Allston              42.350466              -71.111004   \n...            ...                    ...                     ...   \n1906  West Roxbury              42.282193              -71.145995   \n1907  West Roxbury              42.282193              -71.145995   \n1908  West Roxbury              42.282193              -71.145995   \n1909  West Roxbury              42.282193              -71.145995   \n1910  West Roxbury              42.282193              -71.145995   \n\n                       Venue  Venue Latitude  Venue Longitude  \\\n0      Boston House of Pizza       42.350281       -71.113864   \n1                       OTTO       42.350388       -71.115236   \n2       Pavement Coffeehouse       42.350030       -71.107020   \n3          Southwest Day Spa       42.345855       -71.108433   \n4              Amazon@Boston       42.350761       -71.114298   \n...                      ...             ...              ...   \n1906         The Astro Diner       42.286431       -71.136289   \n1907                 Comcast       42.275460       -71.138938   \n1908  Get In shape For Women       42.274542       -71.151069   \n1909  City Lock Company, Inc       42.282840       -71.157500   \n1910      Bellevue Hill Park       42.273567       -71.146736   \n\n            Venue Category  \n0              Pizza Place  \n1              Pizza Place  \n2                     Café  \n3                      Spa  \n4           Shipping Store  \n...                    ...  \n1906                 Diner  \n1907     Electronics Store  \n1908  Gym / Fitness Center  \n1909             Locksmith  \n1910                  Park  \n\n[1911 rows x 7 columns]"
     },
     "execution_count": 40,
     "metadata": {},
     "output_type": "execute_result"
    }
   ],
   "source": [
    "boston_venues = getNearbyVenues(names=df['Boston Neighborhoods'],\n",
    "                                  latitudes=df['Latitude'],\n",
    "                                  longitudes=df['Longitude']\n",
    "                                  )\n",
    "boston_venues"
   ]
  },
  {
   "cell_type": "code",
   "execution_count": 41,
   "metadata": {},
   "outputs": [
    {
     "data": {
      "text/html": "<div>\n<style scoped>\n    .dataframe tbody tr th:only-of-type {\n        vertical-align: middle;\n    }\n\n    .dataframe tbody tr th {\n        vertical-align: top;\n    }\n\n    .dataframe thead th {\n        text-align: right;\n    }\n</style>\n<table border=\"1\" class=\"dataframe\">\n  <thead>\n    <tr style=\"text-align: right;\">\n      <th></th>\n      <th>Neighborhood Latitude</th>\n      <th>Neighborhood Longitude</th>\n      <th>Venue</th>\n      <th>Venue Latitude</th>\n      <th>Venue Longitude</th>\n      <th>Venue Category</th>\n    </tr>\n    <tr>\n      <th>Neighborhood</th>\n      <th></th>\n      <th></th>\n      <th></th>\n      <th></th>\n      <th></th>\n      <th></th>\n    </tr>\n  </thead>\n  <tbody>\n    <tr>\n      <th>Allston</th>\n      <td>58</td>\n      <td>58</td>\n      <td>58</td>\n      <td>58</td>\n      <td>58</td>\n      <td>58</td>\n    </tr>\n    <tr>\n      <th>Back Bay</th>\n      <td>100</td>\n      <td>100</td>\n      <td>100</td>\n      <td>100</td>\n      <td>100</td>\n      <td>100</td>\n    </tr>\n    <tr>\n      <th>Bay Village</th>\n      <td>100</td>\n      <td>100</td>\n      <td>100</td>\n      <td>100</td>\n      <td>100</td>\n      <td>100</td>\n    </tr>\n    <tr>\n      <th>Beacon Hill</th>\n      <td>100</td>\n      <td>100</td>\n      <td>100</td>\n      <td>100</td>\n      <td>100</td>\n      <td>100</td>\n    </tr>\n    <tr>\n      <th>Brighton</th>\n      <td>100</td>\n      <td>100</td>\n      <td>100</td>\n      <td>100</td>\n      <td>100</td>\n      <td>100</td>\n    </tr>\n    <tr>\n      <th>Charlestown</th>\n      <td>100</td>\n      <td>100</td>\n      <td>100</td>\n      <td>100</td>\n      <td>100</td>\n      <td>100</td>\n    </tr>\n    <tr>\n      <th>Chinatown-Leather District</th>\n      <td>100</td>\n      <td>100</td>\n      <td>100</td>\n      <td>100</td>\n      <td>100</td>\n      <td>100</td>\n    </tr>\n    <tr>\n      <th>Dorchester</th>\n      <td>100</td>\n      <td>100</td>\n      <td>100</td>\n      <td>100</td>\n      <td>100</td>\n      <td>100</td>\n    </tr>\n    <tr>\n      <th>Downtown</th>\n      <td>100</td>\n      <td>100</td>\n      <td>100</td>\n      <td>100</td>\n      <td>100</td>\n      <td>100</td>\n    </tr>\n    <tr>\n      <th>East Boston</th>\n      <td>100</td>\n      <td>100</td>\n      <td>100</td>\n      <td>100</td>\n      <td>100</td>\n      <td>100</td>\n    </tr>\n    <tr>\n      <th>Fenway-Kenmore</th>\n      <td>100</td>\n      <td>100</td>\n      <td>100</td>\n      <td>100</td>\n      <td>100</td>\n      <td>100</td>\n    </tr>\n    <tr>\n      <th>Hyde Park</th>\n      <td>27</td>\n      <td>27</td>\n      <td>27</td>\n      <td>27</td>\n      <td>27</td>\n      <td>27</td>\n    </tr>\n    <tr>\n      <th>Jamaica Plain</th>\n      <td>64</td>\n      <td>64</td>\n      <td>64</td>\n      <td>64</td>\n      <td>64</td>\n      <td>64</td>\n    </tr>\n    <tr>\n      <th>Mattapan</th>\n      <td>26</td>\n      <td>26</td>\n      <td>26</td>\n      <td>26</td>\n      <td>26</td>\n      <td>26</td>\n    </tr>\n    <tr>\n      <th>Mid-Dorchester</th>\n      <td>100</td>\n      <td>100</td>\n      <td>100</td>\n      <td>100</td>\n      <td>100</td>\n      <td>100</td>\n    </tr>\n    <tr>\n      <th>Mission Hill</th>\n      <td>89</td>\n      <td>89</td>\n      <td>89</td>\n      <td>89</td>\n      <td>89</td>\n      <td>89</td>\n    </tr>\n    <tr>\n      <th>North End</th>\n      <td>100</td>\n      <td>100</td>\n      <td>100</td>\n      <td>100</td>\n      <td>100</td>\n      <td>100</td>\n    </tr>\n    <tr>\n      <th>Roslindale</th>\n      <td>47</td>\n      <td>47</td>\n      <td>47</td>\n      <td>47</td>\n      <td>47</td>\n      <td>47</td>\n    </tr>\n    <tr>\n      <th>Roxbury</th>\n      <td>54</td>\n      <td>54</td>\n      <td>54</td>\n      <td>54</td>\n      <td>54</td>\n      <td>54</td>\n    </tr>\n    <tr>\n      <th>South Boston</th>\n      <td>100</td>\n      <td>100</td>\n      <td>100</td>\n      <td>100</td>\n      <td>100</td>\n      <td>100</td>\n    </tr>\n    <tr>\n      <th>South End</th>\n      <td>100</td>\n      <td>100</td>\n      <td>100</td>\n      <td>100</td>\n      <td>100</td>\n      <td>100</td>\n    </tr>\n    <tr>\n      <th>West End</th>\n      <td>100</td>\n      <td>100</td>\n      <td>100</td>\n      <td>100</td>\n      <td>100</td>\n      <td>100</td>\n    </tr>\n    <tr>\n      <th>West Roxbury</th>\n      <td>46</td>\n      <td>46</td>\n      <td>46</td>\n      <td>46</td>\n      <td>46</td>\n      <td>46</td>\n    </tr>\n  </tbody>\n</table>\n</div>",
      "text/plain": "                            Neighborhood Latitude  Neighborhood Longitude  \\\nNeighborhood                                                                \nAllston                                        58                      58   \nBack Bay                                      100                     100   \nBay Village                                   100                     100   \nBeacon Hill                                   100                     100   \nBrighton                                      100                     100   \nCharlestown                                   100                     100   \nChinatown-Leather District                    100                     100   \nDorchester                                    100                     100   \nDowntown                                      100                     100   \nEast Boston                                   100                     100   \nFenway-Kenmore                                100                     100   \nHyde Park                                      27                      27   \nJamaica Plain                                  64                      64   \nMattapan                                       26                      26   \nMid-Dorchester                                100                     100   \nMission Hill                                   89                      89   \nNorth End                                     100                     100   \nRoslindale                                     47                      47   \nRoxbury                                        54                      54   \nSouth Boston                                  100                     100   \nSouth End                                     100                     100   \nWest End                                      100                     100   \nWest Roxbury                                   46                      46   \n\n                            Venue  Venue Latitude  Venue Longitude  \\\nNeighborhood                                                         \nAllston                        58              58               58   \nBack Bay                      100             100              100   \nBay Village                   100             100              100   \nBeacon Hill                   100             100              100   \nBrighton                      100             100              100   \nCharlestown                   100             100              100   \nChinatown-Leather District    100             100              100   \nDorchester                    100             100              100   \nDowntown                      100             100              100   \nEast Boston                   100             100              100   \nFenway-Kenmore                100             100              100   \nHyde Park                      27              27               27   \nJamaica Plain                  64              64               64   \nMattapan                       26              26               26   \nMid-Dorchester                100             100              100   \nMission Hill                   89              89               89   \nNorth End                     100             100              100   \nRoslindale                     47              47               47   \nRoxbury                        54              54               54   \nSouth Boston                  100             100              100   \nSouth End                     100             100              100   \nWest End                      100             100              100   \nWest Roxbury                   46              46               46   \n\n                            Venue Category  \nNeighborhood                                \nAllston                                 58  \nBack Bay                               100  \nBay Village                            100  \nBeacon Hill                            100  \nBrighton                               100  \nCharlestown                            100  \nChinatown-Leather District             100  \nDorchester                             100  \nDowntown                               100  \nEast Boston                            100  \nFenway-Kenmore                         100  \nHyde Park                               27  \nJamaica Plain                           64  \nMattapan                                26  \nMid-Dorchester                         100  \nMission Hill                            89  \nNorth End                              100  \nRoslindale                              47  \nRoxbury                                 54  \nSouth Boston                           100  \nSouth End                              100  \nWest End                               100  \nWest Roxbury                            46  "
     },
     "execution_count": 41,
     "metadata": {},
     "output_type": "execute_result"
    }
   ],
   "source": [
    "boston_venues.groupby('Neighborhood').count()"
   ]
  },
  {
   "cell_type": "code",
   "execution_count": 42,
   "metadata": {},
   "outputs": [
    {
     "data": {
      "text/plain": "221"
     },
     "execution_count": 42,
     "metadata": {},
     "output_type": "execute_result"
    }
   ],
   "source": [
    "len(boston_venues['Venue Category'].unique())"
   ]
  },
  {
   "cell_type": "code",
   "execution_count": 47,
   "metadata": {},
   "outputs": [
    {
     "data": {
      "text/html": "<div>\n<style scoped>\n    .dataframe tbody tr th:only-of-type {\n        vertical-align: middle;\n    }\n\n    .dataframe tbody tr th {\n        vertical-align: top;\n    }\n\n    .dataframe thead th {\n        text-align: right;\n    }\n</style>\n<table border=\"1\" class=\"dataframe\">\n  <thead>\n    <tr style=\"text-align: right;\">\n      <th></th>\n      <th>Yoga Studio</th>\n      <th>Accessories Store</th>\n      <th>African Restaurant</th>\n      <th>American Restaurant</th>\n      <th>Antique Shop</th>\n      <th>Aquarium</th>\n      <th>Arepa Restaurant</th>\n      <th>Art Gallery</th>\n      <th>Art Museum</th>\n      <th>Arts &amp; Crafts Store</th>\n      <th>...</th>\n      <th>Train Station</th>\n      <th>Turkish Restaurant</th>\n      <th>Udon Restaurant</th>\n      <th>Vegetarian / Vegan Restaurant</th>\n      <th>Veterinarian</th>\n      <th>Video Store</th>\n      <th>Vietnamese Restaurant</th>\n      <th>Wine Bar</th>\n      <th>Wine Shop</th>\n      <th>Women's Store</th>\n    </tr>\n  </thead>\n  <tbody>\n    <tr>\n      <th>0</th>\n      <td>0</td>\n      <td>0</td>\n      <td>0</td>\n      <td>0</td>\n      <td>0</td>\n      <td>0</td>\n      <td>0</td>\n      <td>0</td>\n      <td>0</td>\n      <td>0</td>\n      <td>...</td>\n      <td>0</td>\n      <td>0</td>\n      <td>0</td>\n      <td>0</td>\n      <td>0</td>\n      <td>0</td>\n      <td>0</td>\n      <td>0</td>\n      <td>0</td>\n      <td>0</td>\n    </tr>\n    <tr>\n      <th>1</th>\n      <td>0</td>\n      <td>0</td>\n      <td>0</td>\n      <td>0</td>\n      <td>0</td>\n      <td>0</td>\n      <td>0</td>\n      <td>0</td>\n      <td>0</td>\n      <td>0</td>\n      <td>...</td>\n      <td>0</td>\n      <td>0</td>\n      <td>0</td>\n      <td>0</td>\n      <td>0</td>\n      <td>0</td>\n      <td>0</td>\n      <td>0</td>\n      <td>0</td>\n      <td>0</td>\n    </tr>\n    <tr>\n      <th>2</th>\n      <td>0</td>\n      <td>0</td>\n      <td>0</td>\n      <td>0</td>\n      <td>0</td>\n      <td>0</td>\n      <td>0</td>\n      <td>0</td>\n      <td>0</td>\n      <td>0</td>\n      <td>...</td>\n      <td>0</td>\n      <td>0</td>\n      <td>0</td>\n      <td>0</td>\n      <td>0</td>\n      <td>0</td>\n      <td>0</td>\n      <td>0</td>\n      <td>0</td>\n      <td>0</td>\n    </tr>\n    <tr>\n      <th>3</th>\n      <td>0</td>\n      <td>0</td>\n      <td>0</td>\n      <td>0</td>\n      <td>0</td>\n      <td>0</td>\n      <td>0</td>\n      <td>0</td>\n      <td>0</td>\n      <td>0</td>\n      <td>...</td>\n      <td>0</td>\n      <td>0</td>\n      <td>0</td>\n      <td>0</td>\n      <td>0</td>\n      <td>0</td>\n      <td>0</td>\n      <td>0</td>\n      <td>0</td>\n      <td>0</td>\n    </tr>\n    <tr>\n      <th>4</th>\n      <td>0</td>\n      <td>0</td>\n      <td>0</td>\n      <td>0</td>\n      <td>0</td>\n      <td>0</td>\n      <td>0</td>\n      <td>0</td>\n      <td>0</td>\n      <td>0</td>\n      <td>...</td>\n      <td>0</td>\n      <td>0</td>\n      <td>0</td>\n      <td>0</td>\n      <td>0</td>\n      <td>0</td>\n      <td>0</td>\n      <td>0</td>\n      <td>0</td>\n      <td>0</td>\n    </tr>\n    <tr>\n      <th>5</th>\n      <td>0</td>\n      <td>0</td>\n      <td>0</td>\n      <td>0</td>\n      <td>0</td>\n      <td>0</td>\n      <td>0</td>\n      <td>0</td>\n      <td>0</td>\n      <td>0</td>\n      <td>...</td>\n      <td>0</td>\n      <td>0</td>\n      <td>0</td>\n      <td>0</td>\n      <td>0</td>\n      <td>0</td>\n      <td>0</td>\n      <td>0</td>\n      <td>0</td>\n      <td>0</td>\n    </tr>\n    <tr>\n      <th>6</th>\n      <td>0</td>\n      <td>0</td>\n      <td>0</td>\n      <td>0</td>\n      <td>0</td>\n      <td>0</td>\n      <td>0</td>\n      <td>0</td>\n      <td>0</td>\n      <td>0</td>\n      <td>...</td>\n      <td>0</td>\n      <td>0</td>\n      <td>0</td>\n      <td>0</td>\n      <td>0</td>\n      <td>0</td>\n      <td>0</td>\n      <td>0</td>\n      <td>0</td>\n      <td>0</td>\n    </tr>\n    <tr>\n      <th>7</th>\n      <td>1</td>\n      <td>0</td>\n      <td>0</td>\n      <td>0</td>\n      <td>0</td>\n      <td>0</td>\n      <td>0</td>\n      <td>0</td>\n      <td>0</td>\n      <td>0</td>\n      <td>...</td>\n      <td>0</td>\n      <td>0</td>\n      <td>0</td>\n      <td>0</td>\n      <td>0</td>\n      <td>0</td>\n      <td>0</td>\n      <td>0</td>\n      <td>0</td>\n      <td>0</td>\n    </tr>\n    <tr>\n      <th>8</th>\n      <td>0</td>\n      <td>0</td>\n      <td>0</td>\n      <td>0</td>\n      <td>0</td>\n      <td>0</td>\n      <td>0</td>\n      <td>0</td>\n      <td>0</td>\n      <td>0</td>\n      <td>...</td>\n      <td>0</td>\n      <td>0</td>\n      <td>0</td>\n      <td>0</td>\n      <td>0</td>\n      <td>0</td>\n      <td>0</td>\n      <td>0</td>\n      <td>0</td>\n      <td>0</td>\n    </tr>\n    <tr>\n      <th>9</th>\n      <td>0</td>\n      <td>0</td>\n      <td>0</td>\n      <td>0</td>\n      <td>0</td>\n      <td>0</td>\n      <td>0</td>\n      <td>0</td>\n      <td>0</td>\n      <td>0</td>\n      <td>...</td>\n      <td>0</td>\n      <td>0</td>\n      <td>0</td>\n      <td>0</td>\n      <td>0</td>\n      <td>0</td>\n      <td>0</td>\n      <td>0</td>\n      <td>0</td>\n      <td>0</td>\n    </tr>\n    <tr>\n      <th>10</th>\n      <td>0</td>\n      <td>0</td>\n      <td>0</td>\n      <td>0</td>\n      <td>0</td>\n      <td>0</td>\n      <td>0</td>\n      <td>0</td>\n      <td>0</td>\n      <td>0</td>\n      <td>...</td>\n      <td>0</td>\n      <td>0</td>\n      <td>0</td>\n      <td>0</td>\n      <td>0</td>\n      <td>0</td>\n      <td>0</td>\n      <td>0</td>\n      <td>0</td>\n      <td>0</td>\n    </tr>\n  </tbody>\n</table>\n<p>11 rows × 221 columns</p>\n</div>",
      "text/plain": "    Yoga Studio  Accessories Store  African Restaurant  American Restaurant  \\\n0             0                  0                   0                    0   \n1             0                  0                   0                    0   \n2             0                  0                   0                    0   \n3             0                  0                   0                    0   \n4             0                  0                   0                    0   \n5             0                  0                   0                    0   \n6             0                  0                   0                    0   \n7             1                  0                   0                    0   \n8             0                  0                   0                    0   \n9             0                  0                   0                    0   \n10            0                  0                   0                    0   \n\n    Antique Shop  Aquarium  Arepa Restaurant  Art Gallery  Art Museum  \\\n0              0         0                 0            0           0   \n1              0         0                 0            0           0   \n2              0         0                 0            0           0   \n3              0         0                 0            0           0   \n4              0         0                 0            0           0   \n5              0         0                 0            0           0   \n6              0         0                 0            0           0   \n7              0         0                 0            0           0   \n8              0         0                 0            0           0   \n9              0         0                 0            0           0   \n10             0         0                 0            0           0   \n\n    Arts & Crafts Store  ...  Train Station  Turkish Restaurant  \\\n0                     0  ...              0                   0   \n1                     0  ...              0                   0   \n2                     0  ...              0                   0   \n3                     0  ...              0                   0   \n4                     0  ...              0                   0   \n5                     0  ...              0                   0   \n6                     0  ...              0                   0   \n7                     0  ...              0                   0   \n8                     0  ...              0                   0   \n9                     0  ...              0                   0   \n10                    0  ...              0                   0   \n\n    Udon Restaurant  Vegetarian / Vegan Restaurant  Veterinarian  Video Store  \\\n0                 0                              0             0            0   \n1                 0                              0             0            0   \n2                 0                              0             0            0   \n3                 0                              0             0            0   \n4                 0                              0             0            0   \n5                 0                              0             0            0   \n6                 0                              0             0            0   \n7                 0                              0             0            0   \n8                 0                              0             0            0   \n9                 0                              0             0            0   \n10                0                              0             0            0   \n\n    Vietnamese Restaurant  Wine Bar  Wine Shop  Women's Store  \n0                       0         0          0              0  \n1                       0         0          0              0  \n2                       0         0          0              0  \n3                       0         0          0              0  \n4                       0         0          0              0  \n5                       0         0          0              0  \n6                       0         0          0              0  \n7                       0         0          0              0  \n8                       0         0          0              0  \n9                       0         0          0              0  \n10                      0         0          0              0  \n\n[11 rows x 221 columns]"
     },
     "execution_count": 47,
     "metadata": {},
     "output_type": "execute_result"
    }
   ],
   "source": [
    "boston_onehot = pd.get_dummies(\n",
    "    boston_venues[['Venue Category']], prefix=\"\", prefix_sep=\"\")\n",
    "boston_onehot['Neighborhood'] = boston_venues['Neighborhood']\n",
    "\n",
    "fixed_columns = [boston_onehot.columns[-1]] + \\\n",
    "    list(boston_onehot.columns[:-1])\n",
    "boston_onehot = boston_onehot[fixed_columns]\n",
    "\n",
    "boston_onehot.head(11)"
   ]
  },
  {
   "cell_type": "code",
   "execution_count": 48,
   "metadata": {},
   "outputs": [
    {
     "data": {
      "text/html": "<div>\n<style scoped>\n    .dataframe tbody tr th:only-of-type {\n        vertical-align: middle;\n    }\n\n    .dataframe tbody tr th {\n        vertical-align: top;\n    }\n\n    .dataframe thead th {\n        text-align: right;\n    }\n</style>\n<table border=\"1\" class=\"dataframe\">\n  <thead>\n    <tr style=\"text-align: right;\">\n      <th></th>\n      <th>Neighborhood</th>\n      <th>Yoga Studio</th>\n      <th>Accessories Store</th>\n      <th>African Restaurant</th>\n      <th>American Restaurant</th>\n      <th>Antique Shop</th>\n      <th>Aquarium</th>\n      <th>Arepa Restaurant</th>\n      <th>Art Gallery</th>\n      <th>Art Museum</th>\n      <th>...</th>\n      <th>Train Station</th>\n      <th>Turkish Restaurant</th>\n      <th>Udon Restaurant</th>\n      <th>Vegetarian / Vegan Restaurant</th>\n      <th>Veterinarian</th>\n      <th>Video Store</th>\n      <th>Vietnamese Restaurant</th>\n      <th>Wine Bar</th>\n      <th>Wine Shop</th>\n      <th>Women's Store</th>\n    </tr>\n  </thead>\n  <tbody>\n    <tr>\n      <th>0</th>\n      <td>Allston</td>\n      <td>0.017241</td>\n      <td>0.00000</td>\n      <td>0.000000</td>\n      <td>0.017241</td>\n      <td>0.000000</td>\n      <td>0.00</td>\n      <td>0.00</td>\n      <td>0.000000</td>\n      <td>0.000000</td>\n      <td>...</td>\n      <td>0.000000</td>\n      <td>0.000000</td>\n      <td>0.017241</td>\n      <td>0.000000</td>\n      <td>0.000000</td>\n      <td>0.000000</td>\n      <td>0.000000</td>\n      <td>0.00</td>\n      <td>0.000000</td>\n      <td>0.00</td>\n    </tr>\n    <tr>\n      <th>1</th>\n      <td>Back Bay</td>\n      <td>0.000000</td>\n      <td>0.01000</td>\n      <td>0.000000</td>\n      <td>0.050000</td>\n      <td>0.000000</td>\n      <td>0.00</td>\n      <td>0.00</td>\n      <td>0.000000</td>\n      <td>0.000000</td>\n      <td>...</td>\n      <td>0.000000</td>\n      <td>0.000000</td>\n      <td>0.000000</td>\n      <td>0.000000</td>\n      <td>0.000000</td>\n      <td>0.000000</td>\n      <td>0.030000</td>\n      <td>0.01</td>\n      <td>0.010000</td>\n      <td>0.01</td>\n    </tr>\n    <tr>\n      <th>2</th>\n      <td>Bay Village</td>\n      <td>0.010000</td>\n      <td>0.01000</td>\n      <td>0.000000</td>\n      <td>0.050000</td>\n      <td>0.000000</td>\n      <td>0.00</td>\n      <td>0.00</td>\n      <td>0.000000</td>\n      <td>0.000000</td>\n      <td>...</td>\n      <td>0.000000</td>\n      <td>0.000000</td>\n      <td>0.000000</td>\n      <td>0.000000</td>\n      <td>0.000000</td>\n      <td>0.000000</td>\n      <td>0.000000</td>\n      <td>0.01</td>\n      <td>0.020000</td>\n      <td>0.00</td>\n    </tr>\n    <tr>\n      <th>3</th>\n      <td>Beacon Hill</td>\n      <td>0.020000</td>\n      <td>0.00000</td>\n      <td>0.000000</td>\n      <td>0.030000</td>\n      <td>0.000000</td>\n      <td>0.00</td>\n      <td>0.00</td>\n      <td>0.000000</td>\n      <td>0.000000</td>\n      <td>...</td>\n      <td>0.000000</td>\n      <td>0.000000</td>\n      <td>0.000000</td>\n      <td>0.000000</td>\n      <td>0.000000</td>\n      <td>0.000000</td>\n      <td>0.000000</td>\n      <td>0.00</td>\n      <td>0.000000</td>\n      <td>0.00</td>\n    </tr>\n    <tr>\n      <th>4</th>\n      <td>Brighton</td>\n      <td>0.020000</td>\n      <td>0.00000</td>\n      <td>0.000000</td>\n      <td>0.010000</td>\n      <td>0.000000</td>\n      <td>0.00</td>\n      <td>0.00</td>\n      <td>0.000000</td>\n      <td>0.000000</td>\n      <td>...</td>\n      <td>0.000000</td>\n      <td>0.000000</td>\n      <td>0.000000</td>\n      <td>0.000000</td>\n      <td>0.000000</td>\n      <td>0.000000</td>\n      <td>0.020000</td>\n      <td>0.00</td>\n      <td>0.000000</td>\n      <td>0.00</td>\n    </tr>\n    <tr>\n      <th>5</th>\n      <td>Charlestown</td>\n      <td>0.020000</td>\n      <td>0.00000</td>\n      <td>0.000000</td>\n      <td>0.010000</td>\n      <td>0.000000</td>\n      <td>0.00</td>\n      <td>0.00</td>\n      <td>0.000000</td>\n      <td>0.000000</td>\n      <td>...</td>\n      <td>0.000000</td>\n      <td>0.000000</td>\n      <td>0.000000</td>\n      <td>0.000000</td>\n      <td>0.000000</td>\n      <td>0.000000</td>\n      <td>0.000000</td>\n      <td>0.00</td>\n      <td>0.000000</td>\n      <td>0.00</td>\n    </tr>\n    <tr>\n      <th>6</th>\n      <td>Chinatown-Leather District</td>\n      <td>0.000000</td>\n      <td>0.00000</td>\n      <td>0.000000</td>\n      <td>0.040000</td>\n      <td>0.000000</td>\n      <td>0.00</td>\n      <td>0.00</td>\n      <td>0.000000</td>\n      <td>0.000000</td>\n      <td>...</td>\n      <td>0.000000</td>\n      <td>0.000000</td>\n      <td>0.000000</td>\n      <td>0.010000</td>\n      <td>0.000000</td>\n      <td>0.000000</td>\n      <td>0.000000</td>\n      <td>0.02</td>\n      <td>0.010000</td>\n      <td>0.00</td>\n    </tr>\n    <tr>\n      <th>7</th>\n      <td>Dorchester</td>\n      <td>0.000000</td>\n      <td>0.00000</td>\n      <td>0.000000</td>\n      <td>0.020000</td>\n      <td>0.000000</td>\n      <td>0.00</td>\n      <td>0.00</td>\n      <td>0.000000</td>\n      <td>0.010000</td>\n      <td>...</td>\n      <td>0.000000</td>\n      <td>0.000000</td>\n      <td>0.000000</td>\n      <td>0.020000</td>\n      <td>0.000000</td>\n      <td>0.000000</td>\n      <td>0.000000</td>\n      <td>0.02</td>\n      <td>0.010000</td>\n      <td>0.00</td>\n    </tr>\n    <tr>\n      <th>8</th>\n      <td>Downtown</td>\n      <td>0.000000</td>\n      <td>0.00000</td>\n      <td>0.000000</td>\n      <td>0.040000</td>\n      <td>0.000000</td>\n      <td>0.01</td>\n      <td>0.00</td>\n      <td>0.000000</td>\n      <td>0.000000</td>\n      <td>...</td>\n      <td>0.000000</td>\n      <td>0.000000</td>\n      <td>0.000000</td>\n      <td>0.010000</td>\n      <td>0.000000</td>\n      <td>0.000000</td>\n      <td>0.000000</td>\n      <td>0.00</td>\n      <td>0.010000</td>\n      <td>0.00</td>\n    </tr>\n    <tr>\n      <th>9</th>\n      <td>East Boston</td>\n      <td>0.000000</td>\n      <td>0.00000</td>\n      <td>0.000000</td>\n      <td>0.020000</td>\n      <td>0.000000</td>\n      <td>0.00</td>\n      <td>0.00</td>\n      <td>0.000000</td>\n      <td>0.010000</td>\n      <td>...</td>\n      <td>0.000000</td>\n      <td>0.000000</td>\n      <td>0.000000</td>\n      <td>0.010000</td>\n      <td>0.000000</td>\n      <td>0.000000</td>\n      <td>0.000000</td>\n      <td>0.02</td>\n      <td>0.010000</td>\n      <td>0.00</td>\n    </tr>\n    <tr>\n      <th>10</th>\n      <td>Fenway-Kenmore</td>\n      <td>0.010000</td>\n      <td>0.00000</td>\n      <td>0.000000</td>\n      <td>0.050000</td>\n      <td>0.000000</td>\n      <td>0.00</td>\n      <td>0.00</td>\n      <td>0.010000</td>\n      <td>0.020000</td>\n      <td>...</td>\n      <td>0.000000</td>\n      <td>0.000000</td>\n      <td>0.020000</td>\n      <td>0.010000</td>\n      <td>0.000000</td>\n      <td>0.000000</td>\n      <td>0.010000</td>\n      <td>0.01</td>\n      <td>0.000000</td>\n      <td>0.00</td>\n    </tr>\n    <tr>\n      <th>11</th>\n      <td>Hyde Park</td>\n      <td>0.000000</td>\n      <td>0.00000</td>\n      <td>0.000000</td>\n      <td>0.000000</td>\n      <td>0.000000</td>\n      <td>0.00</td>\n      <td>0.00</td>\n      <td>0.000000</td>\n      <td>0.000000</td>\n      <td>...</td>\n      <td>0.037037</td>\n      <td>0.000000</td>\n      <td>0.000000</td>\n      <td>0.000000</td>\n      <td>0.000000</td>\n      <td>0.037037</td>\n      <td>0.000000</td>\n      <td>0.00</td>\n      <td>0.000000</td>\n      <td>0.00</td>\n    </tr>\n    <tr>\n      <th>12</th>\n      <td>Jamaica Plain</td>\n      <td>0.046875</td>\n      <td>0.03125</td>\n      <td>0.000000</td>\n      <td>0.031250</td>\n      <td>0.000000</td>\n      <td>0.00</td>\n      <td>0.00</td>\n      <td>0.031250</td>\n      <td>0.000000</td>\n      <td>...</td>\n      <td>0.000000</td>\n      <td>0.000000</td>\n      <td>0.000000</td>\n      <td>0.000000</td>\n      <td>0.000000</td>\n      <td>0.000000</td>\n      <td>0.000000</td>\n      <td>0.00</td>\n      <td>0.000000</td>\n      <td>0.00</td>\n    </tr>\n    <tr>\n      <th>13</th>\n      <td>Mattapan</td>\n      <td>0.000000</td>\n      <td>0.00000</td>\n      <td>0.000000</td>\n      <td>0.000000</td>\n      <td>0.000000</td>\n      <td>0.00</td>\n      <td>0.00</td>\n      <td>0.000000</td>\n      <td>0.000000</td>\n      <td>...</td>\n      <td>0.038462</td>\n      <td>0.000000</td>\n      <td>0.000000</td>\n      <td>0.000000</td>\n      <td>0.000000</td>\n      <td>0.000000</td>\n      <td>0.000000</td>\n      <td>0.00</td>\n      <td>0.000000</td>\n      <td>0.00</td>\n    </tr>\n    <tr>\n      <th>14</th>\n      <td>Mid-Dorchester</td>\n      <td>0.000000</td>\n      <td>0.00000</td>\n      <td>0.000000</td>\n      <td>0.020000</td>\n      <td>0.000000</td>\n      <td>0.00</td>\n      <td>0.00</td>\n      <td>0.000000</td>\n      <td>0.010000</td>\n      <td>...</td>\n      <td>0.000000</td>\n      <td>0.000000</td>\n      <td>0.000000</td>\n      <td>0.020000</td>\n      <td>0.000000</td>\n      <td>0.000000</td>\n      <td>0.000000</td>\n      <td>0.02</td>\n      <td>0.010000</td>\n      <td>0.00</td>\n    </tr>\n    <tr>\n      <th>15</th>\n      <td>Mission Hill</td>\n      <td>0.011236</td>\n      <td>0.00000</td>\n      <td>0.000000</td>\n      <td>0.022472</td>\n      <td>0.000000</td>\n      <td>0.00</td>\n      <td>0.00</td>\n      <td>0.000000</td>\n      <td>0.011236</td>\n      <td>...</td>\n      <td>0.000000</td>\n      <td>0.011236</td>\n      <td>0.000000</td>\n      <td>0.011236</td>\n      <td>0.000000</td>\n      <td>0.000000</td>\n      <td>0.000000</td>\n      <td>0.00</td>\n      <td>0.011236</td>\n      <td>0.00</td>\n    </tr>\n    <tr>\n      <th>16</th>\n      <td>North End</td>\n      <td>0.010000</td>\n      <td>0.00000</td>\n      <td>0.000000</td>\n      <td>0.020000</td>\n      <td>0.000000</td>\n      <td>0.01</td>\n      <td>0.00</td>\n      <td>0.000000</td>\n      <td>0.000000</td>\n      <td>...</td>\n      <td>0.000000</td>\n      <td>0.000000</td>\n      <td>0.000000</td>\n      <td>0.000000</td>\n      <td>0.000000</td>\n      <td>0.000000</td>\n      <td>0.000000</td>\n      <td>0.00</td>\n      <td>0.000000</td>\n      <td>0.00</td>\n    </tr>\n    <tr>\n      <th>17</th>\n      <td>Roslindale</td>\n      <td>0.000000</td>\n      <td>0.00000</td>\n      <td>0.000000</td>\n      <td>0.042553</td>\n      <td>0.000000</td>\n      <td>0.00</td>\n      <td>0.00</td>\n      <td>0.000000</td>\n      <td>0.000000</td>\n      <td>...</td>\n      <td>0.021277</td>\n      <td>0.000000</td>\n      <td>0.000000</td>\n      <td>0.000000</td>\n      <td>0.000000</td>\n      <td>0.000000</td>\n      <td>0.000000</td>\n      <td>0.00</td>\n      <td>0.000000</td>\n      <td>0.00</td>\n    </tr>\n    <tr>\n      <th>18</th>\n      <td>Roxbury</td>\n      <td>0.000000</td>\n      <td>0.00000</td>\n      <td>0.037037</td>\n      <td>0.037037</td>\n      <td>0.018519</td>\n      <td>0.00</td>\n      <td>0.00</td>\n      <td>0.018519</td>\n      <td>0.000000</td>\n      <td>...</td>\n      <td>0.000000</td>\n      <td>0.000000</td>\n      <td>0.000000</td>\n      <td>0.000000</td>\n      <td>0.000000</td>\n      <td>0.000000</td>\n      <td>0.000000</td>\n      <td>0.00</td>\n      <td>0.000000</td>\n      <td>0.00</td>\n    </tr>\n    <tr>\n      <th>19</th>\n      <td>South Boston</td>\n      <td>0.000000</td>\n      <td>0.00000</td>\n      <td>0.000000</td>\n      <td>0.020000</td>\n      <td>0.000000</td>\n      <td>0.00</td>\n      <td>0.00</td>\n      <td>0.000000</td>\n      <td>0.010000</td>\n      <td>...</td>\n      <td>0.000000</td>\n      <td>0.000000</td>\n      <td>0.000000</td>\n      <td>0.010000</td>\n      <td>0.000000</td>\n      <td>0.000000</td>\n      <td>0.000000</td>\n      <td>0.02</td>\n      <td>0.010000</td>\n      <td>0.00</td>\n    </tr>\n    <tr>\n      <th>20</th>\n      <td>South End</td>\n      <td>0.010000</td>\n      <td>0.01000</td>\n      <td>0.000000</td>\n      <td>0.060000</td>\n      <td>0.000000</td>\n      <td>0.00</td>\n      <td>0.01</td>\n      <td>0.010000</td>\n      <td>0.000000</td>\n      <td>...</td>\n      <td>0.000000</td>\n      <td>0.000000</td>\n      <td>0.000000</td>\n      <td>0.000000</td>\n      <td>0.000000</td>\n      <td>0.000000</td>\n      <td>0.000000</td>\n      <td>0.04</td>\n      <td>0.020000</td>\n      <td>0.01</td>\n    </tr>\n    <tr>\n      <th>21</th>\n      <td>West End</td>\n      <td>0.010000</td>\n      <td>0.00000</td>\n      <td>0.000000</td>\n      <td>0.010000</td>\n      <td>0.000000</td>\n      <td>0.00</td>\n      <td>0.00</td>\n      <td>0.000000</td>\n      <td>0.000000</td>\n      <td>...</td>\n      <td>0.000000</td>\n      <td>0.000000</td>\n      <td>0.000000</td>\n      <td>0.000000</td>\n      <td>0.000000</td>\n      <td>0.000000</td>\n      <td>0.000000</td>\n      <td>0.00</td>\n      <td>0.000000</td>\n      <td>0.00</td>\n    </tr>\n    <tr>\n      <th>22</th>\n      <td>West Roxbury</td>\n      <td>0.021739</td>\n      <td>0.00000</td>\n      <td>0.000000</td>\n      <td>0.043478</td>\n      <td>0.000000</td>\n      <td>0.00</td>\n      <td>0.00</td>\n      <td>0.000000</td>\n      <td>0.000000</td>\n      <td>...</td>\n      <td>0.000000</td>\n      <td>0.000000</td>\n      <td>0.000000</td>\n      <td>0.000000</td>\n      <td>0.021739</td>\n      <td>0.021739</td>\n      <td>0.021739</td>\n      <td>0.00</td>\n      <td>0.000000</td>\n      <td>0.00</td>\n    </tr>\n  </tbody>\n</table>\n<p>23 rows × 221 columns</p>\n</div>",
      "text/plain": "                  Neighborhood  Yoga Studio  Accessories Store  \\\n0                      Allston     0.017241            0.00000   \n1                     Back Bay     0.000000            0.01000   \n2                  Bay Village     0.010000            0.01000   \n3                  Beacon Hill     0.020000            0.00000   \n4                     Brighton     0.020000            0.00000   \n5                  Charlestown     0.020000            0.00000   \n6   Chinatown-Leather District     0.000000            0.00000   \n7                   Dorchester     0.000000            0.00000   \n8                     Downtown     0.000000            0.00000   \n9                  East Boston     0.000000            0.00000   \n10              Fenway-Kenmore     0.010000            0.00000   \n11                   Hyde Park     0.000000            0.00000   \n12               Jamaica Plain     0.046875            0.03125   \n13                    Mattapan     0.000000            0.00000   \n14              Mid-Dorchester     0.000000            0.00000   \n15                Mission Hill     0.011236            0.00000   \n16                   North End     0.010000            0.00000   \n17                  Roslindale     0.000000            0.00000   \n18                     Roxbury     0.000000            0.00000   \n19                South Boston     0.000000            0.00000   \n20                   South End     0.010000            0.01000   \n21                    West End     0.010000            0.00000   \n22                West Roxbury     0.021739            0.00000   \n\n    African Restaurant  American Restaurant  Antique Shop  Aquarium  \\\n0             0.000000             0.017241      0.000000      0.00   \n1             0.000000             0.050000      0.000000      0.00   \n2             0.000000             0.050000      0.000000      0.00   \n3             0.000000             0.030000      0.000000      0.00   \n4             0.000000             0.010000      0.000000      0.00   \n5             0.000000             0.010000      0.000000      0.00   \n6             0.000000             0.040000      0.000000      0.00   \n7             0.000000             0.020000      0.000000      0.00   \n8             0.000000             0.040000      0.000000      0.01   \n9             0.000000             0.020000      0.000000      0.00   \n10            0.000000             0.050000      0.000000      0.00   \n11            0.000000             0.000000      0.000000      0.00   \n12            0.000000             0.031250      0.000000      0.00   \n13            0.000000             0.000000      0.000000      0.00   \n14            0.000000             0.020000      0.000000      0.00   \n15            0.000000             0.022472      0.000000      0.00   \n16            0.000000             0.020000      0.000000      0.01   \n17            0.000000             0.042553      0.000000      0.00   \n18            0.037037             0.037037      0.018519      0.00   \n19            0.000000             0.020000      0.000000      0.00   \n20            0.000000             0.060000      0.000000      0.00   \n21            0.000000             0.010000      0.000000      0.00   \n22            0.000000             0.043478      0.000000      0.00   \n\n    Arepa Restaurant  Art Gallery  Art Museum  ...  Train Station  \\\n0               0.00     0.000000    0.000000  ...       0.000000   \n1               0.00     0.000000    0.000000  ...       0.000000   \n2               0.00     0.000000    0.000000  ...       0.000000   \n3               0.00     0.000000    0.000000  ...       0.000000   \n4               0.00     0.000000    0.000000  ...       0.000000   \n5               0.00     0.000000    0.000000  ...       0.000000   \n6               0.00     0.000000    0.000000  ...       0.000000   \n7               0.00     0.000000    0.010000  ...       0.000000   \n8               0.00     0.000000    0.000000  ...       0.000000   \n9               0.00     0.000000    0.010000  ...       0.000000   \n10              0.00     0.010000    0.020000  ...       0.000000   \n11              0.00     0.000000    0.000000  ...       0.037037   \n12              0.00     0.031250    0.000000  ...       0.000000   \n13              0.00     0.000000    0.000000  ...       0.038462   \n14              0.00     0.000000    0.010000  ...       0.000000   \n15              0.00     0.000000    0.011236  ...       0.000000   \n16              0.00     0.000000    0.000000  ...       0.000000   \n17              0.00     0.000000    0.000000  ...       0.021277   \n18              0.00     0.018519    0.000000  ...       0.000000   \n19              0.00     0.000000    0.010000  ...       0.000000   \n20              0.01     0.010000    0.000000  ...       0.000000   \n21              0.00     0.000000    0.000000  ...       0.000000   \n22              0.00     0.000000    0.000000  ...       0.000000   \n\n    Turkish Restaurant  Udon Restaurant  Vegetarian / Vegan Restaurant  \\\n0             0.000000         0.017241                       0.000000   \n1             0.000000         0.000000                       0.000000   \n2             0.000000         0.000000                       0.000000   \n3             0.000000         0.000000                       0.000000   \n4             0.000000         0.000000                       0.000000   \n5             0.000000         0.000000                       0.000000   \n6             0.000000         0.000000                       0.010000   \n7             0.000000         0.000000                       0.020000   \n8             0.000000         0.000000                       0.010000   \n9             0.000000         0.000000                       0.010000   \n10            0.000000         0.020000                       0.010000   \n11            0.000000         0.000000                       0.000000   \n12            0.000000         0.000000                       0.000000   \n13            0.000000         0.000000                       0.000000   \n14            0.000000         0.000000                       0.020000   \n15            0.011236         0.000000                       0.011236   \n16            0.000000         0.000000                       0.000000   \n17            0.000000         0.000000                       0.000000   \n18            0.000000         0.000000                       0.000000   \n19            0.000000         0.000000                       0.010000   \n20            0.000000         0.000000                       0.000000   \n21            0.000000         0.000000                       0.000000   \n22            0.000000         0.000000                       0.000000   \n\n    Veterinarian  Video Store  Vietnamese Restaurant  Wine Bar  Wine Shop  \\\n0       0.000000     0.000000               0.000000      0.00   0.000000   \n1       0.000000     0.000000               0.030000      0.01   0.010000   \n2       0.000000     0.000000               0.000000      0.01   0.020000   \n3       0.000000     0.000000               0.000000      0.00   0.000000   \n4       0.000000     0.000000               0.020000      0.00   0.000000   \n5       0.000000     0.000000               0.000000      0.00   0.000000   \n6       0.000000     0.000000               0.000000      0.02   0.010000   \n7       0.000000     0.000000               0.000000      0.02   0.010000   \n8       0.000000     0.000000               0.000000      0.00   0.010000   \n9       0.000000     0.000000               0.000000      0.02   0.010000   \n10      0.000000     0.000000               0.010000      0.01   0.000000   \n11      0.000000     0.037037               0.000000      0.00   0.000000   \n12      0.000000     0.000000               0.000000      0.00   0.000000   \n13      0.000000     0.000000               0.000000      0.00   0.000000   \n14      0.000000     0.000000               0.000000      0.02   0.010000   \n15      0.000000     0.000000               0.000000      0.00   0.011236   \n16      0.000000     0.000000               0.000000      0.00   0.000000   \n17      0.000000     0.000000               0.000000      0.00   0.000000   \n18      0.000000     0.000000               0.000000      0.00   0.000000   \n19      0.000000     0.000000               0.000000      0.02   0.010000   \n20      0.000000     0.000000               0.000000      0.04   0.020000   \n21      0.000000     0.000000               0.000000      0.00   0.000000   \n22      0.021739     0.021739               0.021739      0.00   0.000000   \n\n    Women's Store  \n0            0.00  \n1            0.01  \n2            0.00  \n3            0.00  \n4            0.00  \n5            0.00  \n6            0.00  \n7            0.00  \n8            0.00  \n9            0.00  \n10           0.00  \n11           0.00  \n12           0.00  \n13           0.00  \n14           0.00  \n15           0.00  \n16           0.00  \n17           0.00  \n18           0.00  \n19           0.00  \n20           0.01  \n21           0.00  \n22           0.00  \n\n[23 rows x 221 columns]"
     },
     "execution_count": 48,
     "metadata": {},
     "output_type": "execute_result"
    }
   ],
   "source": [
    "boston_grouped = boston_onehot.groupby('Neighborhood').mean().reset_index()\n",
    "boston_grouped"
   ]
  },
  {
   "cell_type": "code",
   "execution_count": 49,
   "metadata": {},
   "outputs": [
    {
     "name": "stdout",
     "output_type": "stream",
     "text": "----Allston----\n                venue  freq\n0         Pizza Place  0.10\n1         Coffee Shop  0.07\n2  Chinese Restaurant  0.05\n3                Park  0.05\n4  Mexican Restaurant  0.05\n\n\n----Back Bay----\n                 venue  freq\n0       Clothing Store  0.06\n1  American Restaurant  0.05\n2                Hotel  0.04\n3   Seafood Restaurant  0.03\n4                  Spa  0.03\n\n\n----Bay Village----\n                 venue  freq\n0                  Spa  0.07\n1                  Gym  0.05\n2  American Restaurant  0.05\n3              Theater  0.05\n4   Seafood Restaurant  0.04\n\n\n----Beacon Hill----\n                 venue  freq\n0   Italian Restaurant  0.05\n1                Hotel  0.04\n2          Pizza Place  0.04\n3  American Restaurant  0.03\n4           Steakhouse  0.03\n\n\n----Brighton----\n                venue  freq\n0         Pizza Place  0.07\n1         Coffee Shop  0.05\n2   Korean Restaurant  0.04\n3  Chinese Restaurant  0.04\n4  Mexican Restaurant  0.04\n\n\n----Charlestown----\n                venue  freq\n0  Italian Restaurant  0.22\n1                Park  0.08\n2         Pizza Place  0.06\n3              Bakery  0.05\n4  Seafood Restaurant  0.05\n\n\n----Chinatown-Leather District----\n                 venue  freq\n0          Coffee Shop  0.07\n1   Chinese Restaurant  0.05\n2     Asian Restaurant  0.05\n3               Bakery  0.04\n4  American Restaurant  0.04\n\n\n----Dorchester----\n                venue  freq\n0         Coffee Shop  0.06\n1  Italian Restaurant  0.05\n2    Asian Restaurant  0.05\n3               Hotel  0.04\n4              Bakery  0.04\n\n\n----Downtown----\n                venue  freq\n0  Seafood Restaurant  0.08\n1       Historic Site  0.07\n2         Coffee Shop  0.06\n3                Park  0.05\n4               Hotel  0.04\n\n\n----East Boston----\n                venue  freq\n0         Coffee Shop  0.09\n1    Asian Restaurant  0.06\n2              Bakery  0.05\n3  Chinese Restaurant  0.05\n4      Sandwich Place  0.04\n\n\n----Fenway-Kenmore----\n                 venue  freq\n0  American Restaurant  0.05\n1                 Café  0.04\n2                 Park  0.04\n3      Thai Restaurant  0.04\n4                Hotel  0.03\n\n\n----Hyde Park----\n            venue  freq\n0    Liquor Store  0.11\n1            Park  0.11\n2     Pizza Place  0.11\n3     Supermarket  0.07\n4  Cosmetics Shop  0.04\n\n\n----Jamaica Plain----\n         venue  freq\n0  Pizza Place  0.08\n1  Yoga Studio  0.05\n2       Bakery  0.05\n3         Park  0.05\n4          Bar  0.03\n\n\n----Mattapan----\n                  venue  freq\n0  Caribbean Restaurant  0.15\n1          Home Service  0.12\n2           Pizza Place  0.08\n3              Pharmacy  0.08\n4                Bakery  0.08\n\n\n----Mid-Dorchester----\n                venue  freq\n0         Coffee Shop  0.06\n1  Italian Restaurant  0.05\n2    Asian Restaurant  0.05\n3               Hotel  0.04\n4              Bakery  0.04\n\n\n----Mission Hill----\n                venue  freq\n0                Café  0.07\n1          Donut Shop  0.06\n2  Italian Restaurant  0.06\n3                Park  0.06\n4      Sandwich Place  0.06\n\n\n----North End----\n                venue  freq\n0  Italian Restaurant  0.31\n1                Park  0.07\n2         Pizza Place  0.06\n3  Seafood Restaurant  0.06\n4              Bakery  0.05\n\n\n----Roslindale----\n                venue  freq\n0         Pizza Place  0.13\n1  Chinese Restaurant  0.06\n2  Italian Restaurant  0.06\n3                Park  0.04\n4         Coffee Shop  0.04\n\n\n----Roxbury----\n            venue  freq\n0     Pizza Place  0.07\n1      Donut Shop  0.07\n2            Café  0.07\n3             Gym  0.06\n4  Sandwich Place  0.06\n\n\n----South Boston----\n                venue  freq\n0         Coffee Shop  0.09\n1    Asian Restaurant  0.06\n2              Bakery  0.06\n3      Sandwich Place  0.05\n4  Italian Restaurant  0.05\n\n\n----South End----\n                 venue  freq\n0   Italian Restaurant  0.07\n1  American Restaurant  0.06\n2             Wine Bar  0.04\n3          Coffee Shop  0.04\n4    French Restaurant  0.04\n\n\n----West End----\n                venue  freq\n0               Hotel  0.07\n1                Park  0.06\n2  Italian Restaurant  0.04\n3          Restaurant  0.04\n4         Coffee Shop  0.03\n\n\n----West Roxbury----\n          venue  freq\n0   Pizza Place  0.09\n1  Liquor Store  0.04\n2           Bar  0.04\n3          Park  0.04\n4      Pharmacy  0.04\n\n\n"
    }
   ],
   "source": [
    "num_top_venues = 5\n",
    "for hood in boston_grouped['Neighborhood']:\n",
    "    print(\"----\"+hood+\"----\")\n",
    "    temp = boston_grouped[boston_grouped['Neighborhood']\n",
    "                            == hood].T.reset_index()\n",
    "    temp.columns = ['venue', 'freq']\n",
    "    temp = temp.iloc[1:]\n",
    "    temp['freq'] = temp['freq'].astype(float)\n",
    "    temp = temp.round({'freq': 2})\n",
    "    print(temp.sort_values('freq', ascending=False).reset_index(\n",
    "        drop=True).head(num_top_venues))\n",
    "    print('\\n')"
   ]
  },
  {
   "cell_type": "code",
   "execution_count": 50,
   "metadata": {},
   "outputs": [],
   "source": [
    "def return_most_common_venues(row, num_top_venues):\n",
    "    row_categories = row.iloc[1:]\n",
    "    row_categories_sorted = row_categories.sort_values(ascending=False)\n",
    "\n",
    "    return row_categories_sorted.index.values[0:num_top_venues]"
   ]
  },
  {
   "cell_type": "code",
   "execution_count": 51,
   "metadata": {},
   "outputs": [],
   "source": [
    "num_top_venues = 10\n",
    "indicators = ['st', 'nd', 'rd']\n",
    "\n",
    "\n",
    "columns = ['Neighborhood']\n",
    "for ind in np.arange(num_top_venues):\n",
    "    try:\n",
    "        columns.append('{}{} Most Common Venue'.format(ind+1, indicators[ind]))\n",
    "    except:\n",
    "        columns.append('{}th Most Common Venue'.format(ind+1))"
   ]
  },
  {
   "cell_type": "code",
   "execution_count": 53,
   "metadata": {},
   "outputs": [
    {
     "data": {
      "text/html": "<div>\n<style scoped>\n    .dataframe tbody tr th:only-of-type {\n        vertical-align: middle;\n    }\n\n    .dataframe tbody tr th {\n        vertical-align: top;\n    }\n\n    .dataframe thead th {\n        text-align: right;\n    }\n</style>\n<table border=\"1\" class=\"dataframe\">\n  <thead>\n    <tr style=\"text-align: right;\">\n      <th></th>\n      <th>Neighborhood</th>\n      <th>1st Most Common Venue</th>\n      <th>2nd Most Common Venue</th>\n      <th>3rd Most Common Venue</th>\n      <th>4th Most Common Venue</th>\n      <th>5th Most Common Venue</th>\n      <th>6th Most Common Venue</th>\n      <th>7th Most Common Venue</th>\n      <th>8th Most Common Venue</th>\n      <th>9th Most Common Venue</th>\n      <th>10th Most Common Venue</th>\n    </tr>\n  </thead>\n  <tbody>\n    <tr>\n      <th>0</th>\n      <td>Allston</td>\n      <td>Pizza Place</td>\n      <td>Coffee Shop</td>\n      <td>Chinese Restaurant</td>\n      <td>Mexican Restaurant</td>\n      <td>Bakery</td>\n      <td>Park</td>\n      <td>Grocery Store</td>\n      <td>Sporting Goods Shop</td>\n      <td>Japanese Restaurant</td>\n      <td>Thai Restaurant</td>\n    </tr>\n    <tr>\n      <th>1</th>\n      <td>Back Bay</td>\n      <td>Clothing Store</td>\n      <td>American Restaurant</td>\n      <td>Hotel</td>\n      <td>Ice Cream Shop</td>\n      <td>Bar</td>\n      <td>Gym / Fitness Center</td>\n      <td>Coffee Shop</td>\n      <td>Seafood Restaurant</td>\n      <td>Spa</td>\n      <td>Vietnamese Restaurant</td>\n    </tr>\n    <tr>\n      <th>2</th>\n      <td>Bay Village</td>\n      <td>Spa</td>\n      <td>Gym</td>\n      <td>American Restaurant</td>\n      <td>Theater</td>\n      <td>Seafood Restaurant</td>\n      <td>Hotel</td>\n      <td>Italian Restaurant</td>\n      <td>Steakhouse</td>\n      <td>Sandwich Place</td>\n      <td>Juice Bar</td>\n    </tr>\n    <tr>\n      <th>3</th>\n      <td>Beacon Hill</td>\n      <td>Italian Restaurant</td>\n      <td>Hotel</td>\n      <td>Pizza Place</td>\n      <td>American Restaurant</td>\n      <td>Park</td>\n      <td>Spa</td>\n      <td>Restaurant</td>\n      <td>Steakhouse</td>\n      <td>French Restaurant</td>\n      <td>Sandwich Place</td>\n    </tr>\n    <tr>\n      <th>4</th>\n      <td>Brighton</td>\n      <td>Pizza Place</td>\n      <td>Coffee Shop</td>\n      <td>Korean Restaurant</td>\n      <td>Chinese Restaurant</td>\n      <td>Mexican Restaurant</td>\n      <td>Fried Chicken Joint</td>\n      <td>Rock Club</td>\n      <td>Sushi Restaurant</td>\n      <td>Thai Restaurant</td>\n      <td>Gym</td>\n    </tr>\n    <tr>\n      <th>5</th>\n      <td>Charlestown</td>\n      <td>Italian Restaurant</td>\n      <td>Park</td>\n      <td>Pizza Place</td>\n      <td>Bakery</td>\n      <td>Seafood Restaurant</td>\n      <td>Café</td>\n      <td>Coffee Shop</td>\n      <td>Yoga Studio</td>\n      <td>Sandwich Place</td>\n      <td>Sports Bar</td>\n    </tr>\n    <tr>\n      <th>6</th>\n      <td>Chinatown-Leather District</td>\n      <td>Coffee Shop</td>\n      <td>Chinese Restaurant</td>\n      <td>Asian Restaurant</td>\n      <td>American Restaurant</td>\n      <td>Theater</td>\n      <td>Bakery</td>\n      <td>Sandwich Place</td>\n      <td>Hotel</td>\n      <td>Park</td>\n      <td>Café</td>\n    </tr>\n    <tr>\n      <th>7</th>\n      <td>Dorchester</td>\n      <td>Coffee Shop</td>\n      <td>Italian Restaurant</td>\n      <td>Asian Restaurant</td>\n      <td>Chinese Restaurant</td>\n      <td>Bakery</td>\n      <td>Hotel</td>\n      <td>French Restaurant</td>\n      <td>Bar</td>\n      <td>Salad Place</td>\n      <td>Park</td>\n    </tr>\n    <tr>\n      <th>8</th>\n      <td>Downtown</td>\n      <td>Seafood Restaurant</td>\n      <td>Historic Site</td>\n      <td>Coffee Shop</td>\n      <td>Park</td>\n      <td>Hotel</td>\n      <td>New American Restaurant</td>\n      <td>American Restaurant</td>\n      <td>Sandwich Place</td>\n      <td>Italian Restaurant</td>\n      <td>Bakery</td>\n    </tr>\n    <tr>\n      <th>9</th>\n      <td>East Boston</td>\n      <td>Coffee Shop</td>\n      <td>Asian Restaurant</td>\n      <td>Bakery</td>\n      <td>Chinese Restaurant</td>\n      <td>Sandwich Place</td>\n      <td>Park</td>\n      <td>Italian Restaurant</td>\n      <td>French Restaurant</td>\n      <td>Tea Room</td>\n      <td>Salad Place</td>\n    </tr>\n    <tr>\n      <th>10</th>\n      <td>Fenway-Kenmore</td>\n      <td>American Restaurant</td>\n      <td>Thai Restaurant</td>\n      <td>Park</td>\n      <td>Café</td>\n      <td>Hotel</td>\n      <td>Bakery</td>\n      <td>Mexican Restaurant</td>\n      <td>Coffee Shop</td>\n      <td>Garden</td>\n      <td>Sandwich Place</td>\n    </tr>\n    <tr>\n      <th>11</th>\n      <td>Hyde Park</td>\n      <td>Pizza Place</td>\n      <td>Park</td>\n      <td>Liquor Store</td>\n      <td>Supermarket</td>\n      <td>Latin American Restaurant</td>\n      <td>Plaza</td>\n      <td>Cosmetics Shop</td>\n      <td>Discount Store</td>\n      <td>Donut Shop</td>\n      <td>Buffet</td>\n    </tr>\n    <tr>\n      <th>12</th>\n      <td>Jamaica Plain</td>\n      <td>Pizza Place</td>\n      <td>Yoga Studio</td>\n      <td>Park</td>\n      <td>Bakery</td>\n      <td>Trail</td>\n      <td>Pub</td>\n      <td>Liquor Store</td>\n      <td>Convenience Store</td>\n      <td>Thrift / Vintage Store</td>\n      <td>Coffee Shop</td>\n    </tr>\n    <tr>\n      <th>13</th>\n      <td>Mattapan</td>\n      <td>Caribbean Restaurant</td>\n      <td>Home Service</td>\n      <td>Pharmacy</td>\n      <td>Bakery</td>\n      <td>Pizza Place</td>\n      <td>Hot Dog Joint</td>\n      <td>Cosmetics Shop</td>\n      <td>Rental Car Location</td>\n      <td>Nightclub</td>\n      <td>Scenic Lookout</td>\n    </tr>\n    <tr>\n      <th>14</th>\n      <td>Mid-Dorchester</td>\n      <td>Coffee Shop</td>\n      <td>Italian Restaurant</td>\n      <td>Asian Restaurant</td>\n      <td>Chinese Restaurant</td>\n      <td>Bakery</td>\n      <td>Hotel</td>\n      <td>French Restaurant</td>\n      <td>Bar</td>\n      <td>Salad Place</td>\n      <td>Park</td>\n    </tr>\n    <tr>\n      <th>15</th>\n      <td>Mission Hill</td>\n      <td>Café</td>\n      <td>Coffee Shop</td>\n      <td>Italian Restaurant</td>\n      <td>Sandwich Place</td>\n      <td>Donut Shop</td>\n      <td>Park</td>\n      <td>Gym</td>\n      <td>Pizza Place</td>\n      <td>Sushi Restaurant</td>\n      <td>Chinese Restaurant</td>\n    </tr>\n    <tr>\n      <th>16</th>\n      <td>North End</td>\n      <td>Italian Restaurant</td>\n      <td>Park</td>\n      <td>Pizza Place</td>\n      <td>Seafood Restaurant</td>\n      <td>Bakery</td>\n      <td>Coffee Shop</td>\n      <td>Café</td>\n      <td>Historic Site</td>\n      <td>Sandwich Place</td>\n      <td>Grocery Store</td>\n    </tr>\n    <tr>\n      <th>17</th>\n      <td>Roslindale</td>\n      <td>Pizza Place</td>\n      <td>Chinese Restaurant</td>\n      <td>Italian Restaurant</td>\n      <td>Cheese Shop</td>\n      <td>Park</td>\n      <td>American Restaurant</td>\n      <td>Bar</td>\n      <td>Coffee Shop</td>\n      <td>Pharmacy</td>\n      <td>Pet Store</td>\n    </tr>\n    <tr>\n      <th>18</th>\n      <td>Roxbury</td>\n      <td>Café</td>\n      <td>Pizza Place</td>\n      <td>Donut Shop</td>\n      <td>Sandwich Place</td>\n      <td>Gym</td>\n      <td>African Restaurant</td>\n      <td>American Restaurant</td>\n      <td>Grocery Store</td>\n      <td>Coffee Shop</td>\n      <td>Soccer Field</td>\n    </tr>\n    <tr>\n      <th>19</th>\n      <td>South Boston</td>\n      <td>Coffee Shop</td>\n      <td>Bakery</td>\n      <td>Asian Restaurant</td>\n      <td>Sandwich Place</td>\n      <td>Italian Restaurant</td>\n      <td>Chinese Restaurant</td>\n      <td>Hotel</td>\n      <td>French Restaurant</td>\n      <td>Park</td>\n      <td>Salad Place</td>\n    </tr>\n    <tr>\n      <th>20</th>\n      <td>South End</td>\n      <td>Italian Restaurant</td>\n      <td>American Restaurant</td>\n      <td>Coffee Shop</td>\n      <td>French Restaurant</td>\n      <td>Wine Bar</td>\n      <td>Pet Store</td>\n      <td>Park</td>\n      <td>Gym</td>\n      <td>Mexican Restaurant</td>\n      <td>Dog Run</td>\n    </tr>\n    <tr>\n      <th>21</th>\n      <td>West End</td>\n      <td>Hotel</td>\n      <td>Park</td>\n      <td>Restaurant</td>\n      <td>Italian Restaurant</td>\n      <td>Science Museum</td>\n      <td>Seafood Restaurant</td>\n      <td>Bakery</td>\n      <td>Pizza Place</td>\n      <td>Coffee Shop</td>\n      <td>Sports Bar</td>\n    </tr>\n    <tr>\n      <th>22</th>\n      <td>West Roxbury</td>\n      <td>Pizza Place</td>\n      <td>Park</td>\n      <td>American Restaurant</td>\n      <td>Bank</td>\n      <td>Bar</td>\n      <td>Pharmacy</td>\n      <td>Italian Restaurant</td>\n      <td>Liquor Store</td>\n      <td>Diner</td>\n      <td>Mediterranean Restaurant</td>\n    </tr>\n  </tbody>\n</table>\n</div>",
      "text/plain": "                  Neighborhood 1st Most Common Venue 2nd Most Common Venue  \\\n0                      Allston           Pizza Place           Coffee Shop   \n1                     Back Bay        Clothing Store   American Restaurant   \n2                  Bay Village                   Spa                   Gym   \n3                  Beacon Hill    Italian Restaurant                 Hotel   \n4                     Brighton           Pizza Place           Coffee Shop   \n5                  Charlestown    Italian Restaurant                  Park   \n6   Chinatown-Leather District           Coffee Shop    Chinese Restaurant   \n7                   Dorchester           Coffee Shop    Italian Restaurant   \n8                     Downtown    Seafood Restaurant         Historic Site   \n9                  East Boston           Coffee Shop      Asian Restaurant   \n10              Fenway-Kenmore   American Restaurant       Thai Restaurant   \n11                   Hyde Park           Pizza Place                  Park   \n12               Jamaica Plain           Pizza Place           Yoga Studio   \n13                    Mattapan  Caribbean Restaurant          Home Service   \n14              Mid-Dorchester           Coffee Shop    Italian Restaurant   \n15                Mission Hill                  Café           Coffee Shop   \n16                   North End    Italian Restaurant                  Park   \n17                  Roslindale           Pizza Place    Chinese Restaurant   \n18                     Roxbury                  Café           Pizza Place   \n19                South Boston           Coffee Shop                Bakery   \n20                   South End    Italian Restaurant   American Restaurant   \n21                    West End                 Hotel                  Park   \n22                West Roxbury           Pizza Place                  Park   \n\n   3rd Most Common Venue 4th Most Common Venue      5th Most Common Venue  \\\n0     Chinese Restaurant    Mexican Restaurant                     Bakery   \n1                  Hotel        Ice Cream Shop                        Bar   \n2    American Restaurant               Theater         Seafood Restaurant   \n3            Pizza Place   American Restaurant                       Park   \n4      Korean Restaurant    Chinese Restaurant         Mexican Restaurant   \n5            Pizza Place                Bakery         Seafood Restaurant   \n6       Asian Restaurant   American Restaurant                    Theater   \n7       Asian Restaurant    Chinese Restaurant                     Bakery   \n8            Coffee Shop                  Park                      Hotel   \n9                 Bakery    Chinese Restaurant             Sandwich Place   \n10                  Park                  Café                      Hotel   \n11          Liquor Store           Supermarket  Latin American Restaurant   \n12                  Park                Bakery                      Trail   \n13              Pharmacy                Bakery                Pizza Place   \n14      Asian Restaurant    Chinese Restaurant                     Bakery   \n15    Italian Restaurant        Sandwich Place                 Donut Shop   \n16           Pizza Place    Seafood Restaurant                     Bakery   \n17    Italian Restaurant           Cheese Shop                       Park   \n18            Donut Shop        Sandwich Place                        Gym   \n19      Asian Restaurant        Sandwich Place         Italian Restaurant   \n20           Coffee Shop     French Restaurant                   Wine Bar   \n21            Restaurant    Italian Restaurant             Science Museum   \n22   American Restaurant                  Bank                        Bar   \n\n      6th Most Common Venue 7th Most Common Venue 8th Most Common Venue  \\\n0                      Park         Grocery Store   Sporting Goods Shop   \n1      Gym / Fitness Center           Coffee Shop    Seafood Restaurant   \n2                     Hotel    Italian Restaurant            Steakhouse   \n3                       Spa            Restaurant            Steakhouse   \n4       Fried Chicken Joint             Rock Club      Sushi Restaurant   \n5                      Café           Coffee Shop           Yoga Studio   \n6                    Bakery        Sandwich Place                 Hotel   \n7                     Hotel     French Restaurant                   Bar   \n8   New American Restaurant   American Restaurant        Sandwich Place   \n9                      Park    Italian Restaurant     French Restaurant   \n10                   Bakery    Mexican Restaurant           Coffee Shop   \n11                    Plaza        Cosmetics Shop        Discount Store   \n12                      Pub          Liquor Store     Convenience Store   \n13            Hot Dog Joint        Cosmetics Shop   Rental Car Location   \n14                    Hotel     French Restaurant                   Bar   \n15                     Park                   Gym           Pizza Place   \n16              Coffee Shop                  Café         Historic Site   \n17      American Restaurant                   Bar           Coffee Shop   \n18       African Restaurant   American Restaurant         Grocery Store   \n19       Chinese Restaurant                 Hotel     French Restaurant   \n20                Pet Store                  Park                   Gym   \n21       Seafood Restaurant                Bakery           Pizza Place   \n22                 Pharmacy    Italian Restaurant          Liquor Store   \n\n     9th Most Common Venue    10th Most Common Venue  \n0      Japanese Restaurant           Thai Restaurant  \n1                      Spa     Vietnamese Restaurant  \n2           Sandwich Place                 Juice Bar  \n3        French Restaurant            Sandwich Place  \n4          Thai Restaurant                       Gym  \n5           Sandwich Place                Sports Bar  \n6                     Park                      Café  \n7              Salad Place                      Park  \n8       Italian Restaurant                    Bakery  \n9                 Tea Room               Salad Place  \n10                  Garden            Sandwich Place  \n11              Donut Shop                    Buffet  \n12  Thrift / Vintage Store               Coffee Shop  \n13               Nightclub            Scenic Lookout  \n14             Salad Place                      Park  \n15        Sushi Restaurant        Chinese Restaurant  \n16          Sandwich Place             Grocery Store  \n17                Pharmacy                 Pet Store  \n18             Coffee Shop              Soccer Field  \n19                    Park               Salad Place  \n20      Mexican Restaurant                   Dog Run  \n21             Coffee Shop                Sports Bar  \n22                   Diner  Mediterranean Restaurant  "
     },
     "execution_count": 53,
     "metadata": {},
     "output_type": "execute_result"
    }
   ],
   "source": [
    "neighborhoods_venues_sorted = pd.DataFrame(columns=columns)\n",
    "neighborhoods_venues_sorted['Neighborhood'] = boston_grouped['Neighborhood']\n",
    "\n",
    "for ind in np.arange(boston_grouped.shape[0]):\n",
    "    neighborhoods_venues_sorted.iloc[ind, 1:] = return_most_common_venues(\n",
    "        boston_grouped.iloc[ind, :], num_top_venues)\n",
    "\n",
    "neighborhoods_venues_sorted"
   ]
  },
  {
   "cell_type": "code",
   "execution_count": null,
   "metadata": {},
   "outputs": [],
   "source": [
    "kclusters = 5\n",
    "boston_grouped_clustering = boston_grouped.drop('Neighborhood', 1)\n",
    "kmeans = KMeans(n_clusters=kclusters, init='k-means++', random_state=0).fit(\n",
    "    boston_grouped_clustering)\n",
    "kmeans.labels_[0:10]"
   ]
  }
 ]
}