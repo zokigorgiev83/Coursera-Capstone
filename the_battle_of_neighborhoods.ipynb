{
 "nbformat": 4,
 "nbformat_minor": 2,
 "metadata": {
  "language_info": {
   "name": "python",
   "codemirror_mode": {
    "name": "ipython",
    "version": 3
   },
   "version": "3.7.6-final"
  },
  "orig_nbformat": 2,
  "file_extension": ".py",
  "mimetype": "text/x-python",
  "name": "python",
  "npconvert_exporter": "python",
  "pygments_lexer": "ipython3",
  "version": 3,
  "kernelspec": {
   "name": "python37432bitbasecondabccfe7c698b7497ca97c495668e27d58",
   "display_name": "Python 3.7.4 32-bit ('base': conda)"
  }
 },
 "cells": [
  {
   "cell_type": "markdown",
   "metadata": {},
   "source": [
    "# The Battle of Neighborhoods: Boston, Massachusetts"
   ]
  },
  {
   "cell_type": "markdown",
   "metadata": {},
   "source": [
    "Boston, Massachusetts is one of the most widely known cities in the United States. The city proper covers 127 km2 and, as of 2018, the estimated population is 694,583 (see [US Census Bureau](https://www.census.gov/quickfacts/fact/table/bostoncitymassachusetts/PST045218 \"US Census Bureau\")). It's not a very big city, which may even give an additional value to it: a tourist can explore city's many sides in a relatively short amount of time, and it could potentially be a very livable place."
   ]
  },
  {
   "cell_type": "markdown",
   "metadata": {},
   "source": [
    "### 1. Allston"
   ]
  },
  {
   "cell_type": "markdown",
   "metadata": {},
   "source": [
    "There is a river (Charles River) and a bicycle path on the north and east, offering plenty of recreational opportunities. \n",
    "\n",
    "diverse community, including longtime residents, students from nearby Boston University and Harvard, recent immigrants, and young professionals\n",
    "Supports business owners and nonprofits in the area. \n",
    "Harvard University, which owns more land in Boston than in Cambridge, is a major tenant of the neighborhood. \n",
    "Business school and athletic facilities.\n",
    "64.55% of Allston’s population is between the ages of 20-34 making Allston the neighborhood with the highest percentage of young adults.\n",
    "358 acres of land dedicated to academic space, the most in Boston. \n"
   ]
  },
  {
   "cell_type": "markdown",
   "metadata": {},
   "source": [
    "### 2. Back Bay "
   ]
  },
  {
   "cell_type": "markdown",
   "metadata": {},
   "source": [
    "protected historic district\n",
    "Today Back Bay is known for its elegant architecture and bustling commercial streets\n",
    "feature concerts and festivals\n",
    "the finish line of the Boston Marathon is here\n",
    "international retailers, salons, boutique offices, and restaurants\n",
    "business\n",
    "high-end hotels, restaurants, and office buildings\n",
    "89.5% of Back Bay’s population has a bachelor’s degree or higher\n",
    "The median age in Back Bay is 31.9"
   ]
  },
  {
   "cell_type": "markdown",
   "metadata": {},
   "source": [
    "### 3. Bay Village "
   ]
  },
  {
   "cell_type": "markdown",
   "metadata": {},
   "source": [
    "One of the smallest neighborhoods in Boston\n",
    "shops and restaurants\n",
    "Bay Village's narrow streets, historic facades, brick sidewalks, and gas street lamps create an appealing and quiet pedestrian environment in a primarily residential neighborhood. Residents enjoy easy walking access to the surrounding parks, shops, restaurants, and theaters of Downtown, Back Bay, and the South End. "
   ]
  },
  {
   "cell_type": "markdown",
   "metadata": {},
   "source": [
    "### 4. Beacon Hill"
   ]
  },
  {
   "cell_type": "markdown",
   "metadata": {},
   "source": [
    "protected historic neighborhood\n",
    "likely Boston's best known neighborhood\n",
    "Maasachussets State House\n",
    "Classic red brick houses from the early nineteeth century\n",
    "Eclectic boutiques, antique stores, and restaurants serve the neighborhood and Beacon Hill's frequent tourists. The Beacon Hill Business Association supports business owners and nonprofits in the area. \n",
    "89.5% of Beacon Hill’s population has a bachelor’s degree or higher. \n",
    "The median age in Beacon Hill is 31.3. "
   ]
  },
  {
   "cell_type": "markdown",
   "metadata": {},
   "source": [
    "### 5. Brighton"
   ]
  },
  {
   "cell_type": "markdown",
   "metadata": {},
   "source": [
    "peaceful neighborhood is a great place for young families and professionals\n",
    "residential and commercial\n",
    "Families, who have called Brighton home for generations, share the neighborhood with recent immigrants, students from nearby colleges, and young professionals\n",
    "This diversity of population attracts a diversity of businesses, nonprofits, medical and educational institutions to the area.\n",
    "ethnic grocery stores to cozy neighborhood pubs. Major tenants of the neighborhood include St. Elizabeth's Medical Center, Boston College, WGBH, and the New Balance Athletic Shoe's world headquarters"
   ]
  },
  {
   "cell_type": "markdown",
   "metadata": {},
   "source": [
    "### 6. Charlestown"
   ]
  },
  {
   "cell_type": "markdown",
   "metadata": {},
   "source": [
    "neighborhood’s Irish roots \n",
    "The neighborhood has historical roots, but it has turned into a busy, modern-day neighborhood.\n",
    "city's oldest neighborhood\n",
    "public housing\n",
    "waterfront condominiums and apartments\n",
    "contemporary restaurants and shops thrive alongside the oldest tavern in Massachusetts (Warren Tavern)\n",
    "two marinas\n",
    "Bunker Hill Community College, Spauling Rehabilitation Hospital, and a branch of Massachusetts General Hospital"
   ]
  },
  {
   "cell_type": "markdown",
   "metadata": {},
   "source": [
    "### 7. Chinatown-Leather District"
   ]
  },
  {
   "cell_type": "markdown",
   "metadata": {},
   "source": [
    "Chinese quarter\n",
    "water features and bamboo, Chinatown Park\n",
    "South Station serves as a major rail and bus hub for Boston\n",
    "The number of housing units in Chinatown grew 54.5% from 2000 to 2010.\n",
    "49.2% of households in Chinatown are families"
   ]
  },
  {
   "cell_type": "markdown",
   "metadata": {},
   "source": [
    "### 8. Dorchester"
   ]
  },
  {
   "cell_type": "markdown",
   "metadata": {},
   "source": [
    "The biggest and most diverse neighborhood in the City\n",
    "Long-time residents mingle together with new immigrants from Vietnam, Cape Verde, Ireland, and many other countries.\n",
    "This wonderful mix of residents from all cultures and backgrounds makes it an incredibly vibrant place to live, work, and spend time. Former residents can often be seen and heard claiming to be “OFD” — Originally From Dorchester.\n",
    "waterfront, residential neighborhoods, commercial corridors, and a university campus\n",
    "numerous parks\n",
    "University of Massachussets Boston"
   ]
  },
  {
   "cell_type": "markdown",
   "metadata": {},
   "source": [
    "### 9. Downtown"
   ]
  },
  {
   "cell_type": "markdown",
   "metadata": {},
   "source": [
    "Home to City Hall, numerous corporate headquarters, condos and apartments, and some of Boston’s most beloved tourist attractions \n",
    "in the heart of Boston\n",
    "Housing options in downtown are varied, ranging from historic apartment buildings to modern glass towers. \n",
    "Over 200,000 people work downtown every day\n",
    "major retail area, offering a range of apparel stores, national retailers, bakeries, and both fast casual and fine restaurants to suit every taste\n",
    "Historic theaters, including the Opera House\n",
    "hotels\n",
    "Suffolk University, Emerson College, and Urban College"
   ]
  },
  {
   "cell_type": "markdown",
   "metadata": {},
   "source": [
    "### 10.East Boston"
   ]
  },
  {
   "cell_type": "markdown",
   "metadata": {},
   "source": [
    "waterfront\n",
    "the neighborhood of immigrants\n",
    "many ethnic restaurants\n",
    "residential neighborhoods, transportation links, and recreational opportunities\n",
    "East Boston is currently home to a blend of longtime residents, young professionals, and predominantly Colombian and Salvadoran immigrants\n",
    "Logan International Airport\n",
    "Almost 50% of East Boston’s population is foreign born, the highest percentage of all Boston’s neighborhoods. Over half of East Boston’s foreign born population is from Colombia or El Salvador.\n",
    "family oriented: Almost 60% of East Boston’s households are families "
   ]
  },
  {
   "cell_type": "markdown",
   "metadata": {},
   "source": [
    "### 11. Fenway-Kenmore"
   ]
  },
  {
   "cell_type": "markdown",
   "metadata": {},
   "source": [
    "Fenway Park and Red Sox\n",
    "Museum of Fine Arts and Symphony Hall\n",
    "clubs\n",
    "higher education institutions\n",
    "buzzing mix of families, young professionals, and students\n",
    "Berklee College of Music\n",
    "Huntington Avenue is celebrated as Boston’s “Avenue of the Arts”.\n",
    "music venues and nightlife\n",
    "numerous academic and medical institutions \n",
    "Almost 70% of Fenway’s population is enrolled in school. \n",
    "44.2% of Fenway’s population works in the educational services, health care and social assistance industry.\n"
   ]
  },
  {
   "cell_type": "markdown",
   "metadata": {},
   "source": [
    "### 12. Hyde Park"
   ]
  },
  {
   "cell_type": "markdown",
   "metadata": {},
   "source": [
    "suburban area\n",
    "Today, Hyde Park offers its residents a unique blend of accessible city amenities and quiet suburban lifestyle\n",
    "deiversed population\n",
    "significant open and green space\n",
    "A thriving industrial section of the neighborhood is home to numerous businesses.  "
   ]
  },
  {
   "cell_type": "markdown",
   "metadata": {},
   "source": [
    "### 13. Jamaica Plain"
   ]
  },
  {
   "cell_type": "markdown",
   "metadata": {},
   "source": [
    "diverse\n",
    "suburb\n",
    "home to Latinos, young families, a growing gay community, and young professionals\n",
    "fishing, sailing, and running \n",
    "botanical garden\n",
    "5% of Jamaica Plain’s population commutes to work by bicycle – the highest percentage of any Boston neighborhood. \n",
    "25.3% of Jamaica Plain’s population is Hispanic."
   ]
  },
  {
   "cell_type": "markdown",
   "metadata": {},
   "source": [
    "### 14. Mattapan "
   ]
  },
  {
   "cell_type": "markdown",
   "metadata": {},
   "source": [
    "home to diverse cultures and many immigrant-owned businesses\n",
    "At the dawn of 21st century, immigrants traveling in New England found Mattapan to be a \"good place to sit.\" Irish, Jewish, and Haitian immigrants called the neighborhood home. Now, Mattapan is home to a large African American and Caribbean community.\n",
    "significant amount of green space\n",
    "Blue Hill Avenue and Mattapan Square are the neighborhood’s main commercial districts, home to banks, law offices, restaurants, retail shops, health centers, and places of worship\n",
    "67.3% of households in Mattapan are families.\n",
    "Mattapan has the highest percentage of residents who speak French at home, at 18.4%. "
   ]
  },
  {
   "cell_type": "markdown",
   "metadata": {},
   "source": [
    "### 15. Mid-Dorchester"
   ]
  },
  {
   "cell_type": "markdown",
   "metadata": {},
   "source": [
    "The City is bringing lots of new development to the area, including housing and light industrial and commercial opportunities. With the improvement of the Fairmount/ Indigo Line, there's now easy access to jobs and the downtown financial area."
   ]
  },
  {
   "cell_type": "markdown",
   "metadata": {},
   "source": [
    "### 16. Mission Hill"
   ]
  },
  {
   "cell_type": "markdown",
   "metadata": {},
   "source": [
    "largely residential neighborhood \n",
    "traditional architecture\n",
    "Mission Hill’s population grew 17% from 2000 to 2010. \n",
    "53% of Mission Hill residents are non-white\n"
   ]
  },
  {
   "cell_type": "markdown",
   "metadata": {},
   "source": [
    "### 17. North End"
   ]
  },
  {
   "cell_type": "markdown",
   "metadata": {},
   "source": [
    "Italian-American community\n",
    "some of the City's best restaurants and old-world cafes\n",
    "one of the most visited parts of Boston\n",
    "Boston's oldest residential community \n",
    "Boston's \"Little Italy\"\n",
    "historical sites\n",
    "80.9% of North End’s population has a bachelor’s degree or higher. \n",
    "The North End experienced a 5.1% population increase from 2000 to 2010.  "
   ]
  },
  {
   "cell_type": "markdown",
   "metadata": {},
   "source": [
    "### 18. Roslindale"
   ]
  },
  {
   "cell_type": "markdown",
   "metadata": {},
   "source": [
    "garden suburb \n",
    "plenty natural beauty\n",
    "primarely residential community\n",
    "13.2% of Roslindale’s population is enrolled in nursery, kindergarten, elementary, or middle school. \n",
    "40.7% of Roslindale’s residents speak a language other than English at home."
   ]
  },
  {
   "cell_type": "markdown",
   "metadata": {},
   "source": [
    "### 19. Roxbury"
   ]
  },
  {
   "cell_type": "markdown",
   "metadata": {},
   "source": [
    "historic neighborhood\n",
    "Today, Roxbury is the heart of Black culture in Boston\n",
    "geographic heart of Boston\n",
    "Hispanic, and Asian families, along with young professionals\n",
    "parks, substantial green space\n",
    "Roxbury Community College and the John D. O'Bryant School of Mathematics and Science \n",
    "Roxbury is home to over 570 acres of parks, playgrounds, and athletic fields, the most in the city.  Roxbury has over 23% of park space in Boston. \n",
    "Roxbury’s population grew by 16.8% from 2000 to 2010.  "
   ]
  },
  {
   "cell_type": "markdown",
   "metadata": {},
   "source": [
    "### 20. South Boston"
   ]
  },
  {
   "cell_type": "markdown",
   "metadata": {},
   "source": [
    "An urban neighborhood with a strong sense of history and tradition\n",
    "South Boston is home to both long-time residents and a new wave of young professionals who are drawn to the area’s open space, emerging nightlife, and easy access to downtown. The neighborhood boasts miles of beaches and waterfront parks\n",
    "Between 2000 and 2010, South Boston’s population with a bachelor’s degree or higher increased from 28.2% to 54.8%.\n",
    "South Boston’s Black or African American population grew by 47.9% from 2000 to 2010. "
   ]
  },
  {
   "cell_type": "markdown",
   "metadata": {},
   "source": [
    "### 21. South End "
   ]
  },
  {
   "cell_type": "markdown",
   "metadata": {},
   "source": [
    "The South End is truly a cosmopolitan neighborhood. It is just minutes away from Downtown and the Back Bay, and has recently become one of the City’s most popular neighborhoods.\n",
    "Victorian townhouses\n",
    "home to active young families, professionals, and immigrants, and is popular with Boston’s gay community\n",
    "United States' largest Victorian residential district\n",
    "Boston Center for the Arts\n",
    "Boston Medical Center and Boston University School of Medicine\n",
    "44.7% of South End residents are non-white. \n",
    "11.2% of South End’s population speaks Chinese at home"
   ]
  },
  {
   "cell_type": "markdown",
   "metadata": {},
   "source": [
    "### 22. West End"
   ]
  },
  {
   "cell_type": "markdown",
   "metadata": {},
   "source": [
    "home to prominent Boston institutions, including Massachusetts General Hospital and TD Garden\n",
    "up-and-coming neighborhood in Boston\n",
    "large apartment towers\n",
    "small neighborhood\n",
    "City of Cambridge - walking distance\n",
    "The Liberty Hotel and Clink Bar, both housed in a converted historic jail, are hip neighborhood institutions\n",
    "93.4% of West End’s population has a bachelor’s degree or higher, the highest percentage of all Boston neighborhoods. \n",
    "32.2% of West End’s population is foreign born. "
   ]
  },
  {
   "cell_type": "markdown",
   "metadata": {},
   "source": [
    "### 23. West Roxbury "
   ]
  },
  {
   "cell_type": "markdown",
   "metadata": {},
   "source": [
    "civic activism and youth programs\n",
    "suburban vibe\n",
    "green spaces\n",
    "swimming\n",
    "hiking\n",
    "West Roxbury has the most open space in the city, with nearly 1,200 acres. \n"
   ]
  },
  {
   "cell_type": "code",
   "execution_count": 1,
   "metadata": {},
   "outputs": [
    {
     "name": "stdout",
     "output_type": "stream",
     "text": "Everything works fine!\n"
    }
   ],
   "source": [
    "import numpy as np \n",
    "import pandas as pd\n",
    "import json\n",
    "from geopy.geocoders import Nominatim\n",
    "import geocoder\n",
    "import requests\n",
    "from bs4 import BeautifulSoup\n",
    "from pandas.io.json import json_normalize\n",
    "import matplotlib.cm as cm\n",
    "import matplotlib.colors as colors\n",
    "from sklearn.cluster import KMeans\n",
    "import folium\n",
    "\n",
    "print('Everything works fine!')"
   ]
  },
  {
   "cell_type": "code",
   "execution_count": 2,
   "metadata": {},
   "outputs": [
    {
     "name": "stdout",
     "output_type": "stream",
     "text": "['Allston', 'Back Bay', 'Bay Village', 'Beacon Hill', 'Brighton', 'Charlestown', 'Chinatown-Leather District', 'Dorchester', 'Downtown', 'East Boston', 'Fenway-Kenmore', 'Hyde Park', 'Jamaica Plain', 'Mattapan', 'Mid-Dorchester', 'Mission Hill', 'North End', 'Roslindale', 'Roxbury', 'South Boston', 'South End', 'West End', 'West Roxbury']\n"
    }
   ],
   "source": [
    "res = requests.get(\n",
    "    'https://www.boston.gov/neighborhoods')\n",
    "\n",
    "soup = BeautifulSoup(res.text, 'html.parser')\n",
    "\n",
    "boston_neighborhoods = []\n",
    "\n",
    "for row in soup.find_all('div', class_='g p-b500')[0].find_all('h3'):\n",
    "    boston_neighborhoods.append(row.text)\n",
    "print(boston_neighborhoods)\n"
   ]
  },
  {
   "cell_type": "code",
   "execution_count": 3,
   "metadata": {},
   "outputs": [
    {
     "data": {
      "text/html": "<div>\n<style scoped>\n    .dataframe tbody tr th:only-of-type {\n        vertical-align: middle;\n    }\n\n    .dataframe tbody tr th {\n        vertical-align: top;\n    }\n\n    .dataframe thead th {\n        text-align: right;\n    }\n</style>\n<table border=\"1\" class=\"dataframe\">\n  <thead>\n    <tr style=\"text-align: right;\">\n      <th></th>\n      <th>Boston Neighborhoods</th>\n    </tr>\n  </thead>\n  <tbody>\n    <tr>\n      <th>0</th>\n      <td>Allston</td>\n    </tr>\n    <tr>\n      <th>1</th>\n      <td>Back Bay</td>\n    </tr>\n    <tr>\n      <th>2</th>\n      <td>Bay Village</td>\n    </tr>\n    <tr>\n      <th>3</th>\n      <td>Beacon Hill</td>\n    </tr>\n    <tr>\n      <th>4</th>\n      <td>Brighton</td>\n    </tr>\n    <tr>\n      <th>5</th>\n      <td>Charlestown</td>\n    </tr>\n    <tr>\n      <th>6</th>\n      <td>Chinatown-Leather District</td>\n    </tr>\n    <tr>\n      <th>7</th>\n      <td>Dorchester</td>\n    </tr>\n    <tr>\n      <th>8</th>\n      <td>Downtown</td>\n    </tr>\n    <tr>\n      <th>9</th>\n      <td>East Boston</td>\n    </tr>\n    <tr>\n      <th>10</th>\n      <td>Fenway-Kenmore</td>\n    </tr>\n    <tr>\n      <th>11</th>\n      <td>Hyde Park</td>\n    </tr>\n    <tr>\n      <th>12</th>\n      <td>Jamaica Plain</td>\n    </tr>\n    <tr>\n      <th>13</th>\n      <td>Mattapan</td>\n    </tr>\n    <tr>\n      <th>14</th>\n      <td>Mid-Dorchester</td>\n    </tr>\n    <tr>\n      <th>15</th>\n      <td>Mission Hill</td>\n    </tr>\n    <tr>\n      <th>16</th>\n      <td>North End</td>\n    </tr>\n    <tr>\n      <th>17</th>\n      <td>Roslindale</td>\n    </tr>\n    <tr>\n      <th>18</th>\n      <td>Roxbury</td>\n    </tr>\n    <tr>\n      <th>19</th>\n      <td>South Boston</td>\n    </tr>\n    <tr>\n      <th>20</th>\n      <td>South End</td>\n    </tr>\n    <tr>\n      <th>21</th>\n      <td>West End</td>\n    </tr>\n    <tr>\n      <th>22</th>\n      <td>West Roxbury</td>\n    </tr>\n  </tbody>\n</table>\n</div>",
      "text/plain": "          Boston Neighborhoods\n0                      Allston\n1                     Back Bay\n2                  Bay Village\n3                  Beacon Hill\n4                     Brighton\n5                  Charlestown\n6   Chinatown-Leather District\n7                   Dorchester\n8                     Downtown\n9                  East Boston\n10              Fenway-Kenmore\n11                   Hyde Park\n12               Jamaica Plain\n13                    Mattapan\n14              Mid-Dorchester\n15                Mission Hill\n16                   North End\n17                  Roslindale\n18                     Roxbury\n19                South Boston\n20                   South End\n21                    West End\n22                West Roxbury"
     },
     "execution_count": 3,
     "metadata": {},
     "output_type": "execute_result"
    }
   ],
   "source": [
    "df = pd.DataFrame({'Boston Neighborhoods': boston_neighborhoods})\n",
    "df"
   ]
  },
  {
   "cell_type": "code",
   "execution_count": 37,
   "metadata": {},
   "outputs": [
    {
     "data": {
      "text/plain": "23"
     },
     "execution_count": 37,
     "metadata": {},
     "output_type": "execute_result"
    }
   ],
   "source": [
    "df.shape[0]"
   ]
  },
  {
   "cell_type": "code",
   "execution_count": 4,
   "metadata": {},
   "outputs": [],
   "source": [
    "def find_latlng(neighborhood):\n",
    "    lat_lng_coords = None\n",
    "    while(lat_lng_coords is None):\n",
    "        g = geocoder.arcgis('{}, Boston, Massachusetts'.format(neighborhood))\n",
    "        lat_lng_coords = g.latlng\n",
    "    return lat_lng_coords"
   ]
  },
  {
   "cell_type": "code",
   "execution_count": 5,
   "metadata": {},
   "outputs": [],
   "source": [
    "lat_long = [find_latlng(neighborhood) for neighborhood in df['Boston Neighborhoods']]"
   ]
  },
  {
   "cell_type": "code",
   "execution_count": 6,
   "metadata": {},
   "outputs": [
    {
     "data": {
      "text/plain": "[[42.35046649714098, -71.11100415506229],\n [42.34999000000005, -71.08764999999994],\n [42.348168000000015, -71.06847074999999],\n [42.35842000000008, -71.06859999999995],\n [42.35213123053123, -71.12492353661709],\n [42.36776992509806, -71.05901694825978],\n [42.35251000000005, -71.06089999999995],\n [42.35134867454975, -71.05285041243937],\n [42.35829000000007, -71.05662999999998],\n [42.35141360528571, -71.05671282961363],\n [42.34355000000005, -71.10156999999998],\n [42.274893442956426, -71.1199472126674],\n [42.30584990221593, -71.11909514176067],\n [42.278224926536424, -71.09608297802978],\n [42.35134867454975, -71.05285041243937],\n [42.33578000000006, -71.10980999999998],\n [42.36549000000008, -71.05296999999996],\n [42.28181311006276, -71.13711121314374],\n [42.33029675765322, -71.0894809461078],\n [42.35224995700159, -71.0556905214992],\n [42.34256000000005, -71.07357999999994],\n [42.36394000000007, -71.06738999999999],\n [42.28219344914676, -71.14599477055154]]"
     },
     "execution_count": 6,
     "metadata": {},
     "output_type": "execute_result"
    }
   ],
   "source": [
    "lat_long"
   ]
  },
  {
   "cell_type": "code",
   "execution_count": 7,
   "metadata": {},
   "outputs": [
    {
     "data": {
      "text/html": "<div>\n<style scoped>\n    .dataframe tbody tr th:only-of-type {\n        vertical-align: middle;\n    }\n\n    .dataframe tbody tr th {\n        vertical-align: top;\n    }\n\n    .dataframe thead th {\n        text-align: right;\n    }\n</style>\n<table border=\"1\" class=\"dataframe\">\n  <thead>\n    <tr style=\"text-align: right;\">\n      <th></th>\n      <th>Latitude</th>\n      <th>Longitude</th>\n    </tr>\n  </thead>\n  <tbody>\n    <tr>\n      <th>0</th>\n      <td>42.350466</td>\n      <td>-71.111004</td>\n    </tr>\n    <tr>\n      <th>1</th>\n      <td>42.349990</td>\n      <td>-71.087650</td>\n    </tr>\n    <tr>\n      <th>2</th>\n      <td>42.348168</td>\n      <td>-71.068471</td>\n    </tr>\n    <tr>\n      <th>3</th>\n      <td>42.358420</td>\n      <td>-71.068600</td>\n    </tr>\n    <tr>\n      <th>4</th>\n      <td>42.352131</td>\n      <td>-71.124924</td>\n    </tr>\n    <tr>\n      <th>5</th>\n      <td>42.367770</td>\n      <td>-71.059017</td>\n    </tr>\n    <tr>\n      <th>6</th>\n      <td>42.352510</td>\n      <td>-71.060900</td>\n    </tr>\n    <tr>\n      <th>7</th>\n      <td>42.351349</td>\n      <td>-71.052850</td>\n    </tr>\n    <tr>\n      <th>8</th>\n      <td>42.358290</td>\n      <td>-71.056630</td>\n    </tr>\n    <tr>\n      <th>9</th>\n      <td>42.351414</td>\n      <td>-71.056713</td>\n    </tr>\n    <tr>\n      <th>10</th>\n      <td>42.343550</td>\n      <td>-71.101570</td>\n    </tr>\n    <tr>\n      <th>11</th>\n      <td>42.274893</td>\n      <td>-71.119947</td>\n    </tr>\n    <tr>\n      <th>12</th>\n      <td>42.305850</td>\n      <td>-71.119095</td>\n    </tr>\n    <tr>\n      <th>13</th>\n      <td>42.278225</td>\n      <td>-71.096083</td>\n    </tr>\n    <tr>\n      <th>14</th>\n      <td>42.351349</td>\n      <td>-71.052850</td>\n    </tr>\n    <tr>\n      <th>15</th>\n      <td>42.335780</td>\n      <td>-71.109810</td>\n    </tr>\n    <tr>\n      <th>16</th>\n      <td>42.365490</td>\n      <td>-71.052970</td>\n    </tr>\n    <tr>\n      <th>17</th>\n      <td>42.281813</td>\n      <td>-71.137111</td>\n    </tr>\n    <tr>\n      <th>18</th>\n      <td>42.330297</td>\n      <td>-71.089481</td>\n    </tr>\n    <tr>\n      <th>19</th>\n      <td>42.352250</td>\n      <td>-71.055691</td>\n    </tr>\n    <tr>\n      <th>20</th>\n      <td>42.342560</td>\n      <td>-71.073580</td>\n    </tr>\n    <tr>\n      <th>21</th>\n      <td>42.363940</td>\n      <td>-71.067390</td>\n    </tr>\n    <tr>\n      <th>22</th>\n      <td>42.282193</td>\n      <td>-71.145995</td>\n    </tr>\n  </tbody>\n</table>\n</div>",
      "text/plain": "     Latitude  Longitude\n0   42.350466 -71.111004\n1   42.349990 -71.087650\n2   42.348168 -71.068471\n3   42.358420 -71.068600\n4   42.352131 -71.124924\n5   42.367770 -71.059017\n6   42.352510 -71.060900\n7   42.351349 -71.052850\n8   42.358290 -71.056630\n9   42.351414 -71.056713\n10  42.343550 -71.101570\n11  42.274893 -71.119947\n12  42.305850 -71.119095\n13  42.278225 -71.096083\n14  42.351349 -71.052850\n15  42.335780 -71.109810\n16  42.365490 -71.052970\n17  42.281813 -71.137111\n18  42.330297 -71.089481\n19  42.352250 -71.055691\n20  42.342560 -71.073580\n21  42.363940 -71.067390\n22  42.282193 -71.145995"
     },
     "execution_count": 7,
     "metadata": {},
     "output_type": "execute_result"
    }
   ],
   "source": [
    "df_coordinates = pd.DataFrame(lat_long, columns=('Latitude', 'Longitude'))\n",
    "df_coordinates"
   ]
  },
  {
   "cell_type": "code",
   "execution_count": 8,
   "metadata": {},
   "outputs": [
    {
     "data": {
      "text/html": "<div>\n<style scoped>\n    .dataframe tbody tr th:only-of-type {\n        vertical-align: middle;\n    }\n\n    .dataframe tbody tr th {\n        vertical-align: top;\n    }\n\n    .dataframe thead th {\n        text-align: right;\n    }\n</style>\n<table border=\"1\" class=\"dataframe\">\n  <thead>\n    <tr style=\"text-align: right;\">\n      <th></th>\n      <th>Boston Neighborhoods</th>\n      <th>Latitude</th>\n      <th>Longitude</th>\n    </tr>\n  </thead>\n  <tbody>\n    <tr>\n      <th>0</th>\n      <td>Allston</td>\n      <td>42.350466</td>\n      <td>-71.111004</td>\n    </tr>\n    <tr>\n      <th>1</th>\n      <td>Back Bay</td>\n      <td>42.349990</td>\n      <td>-71.087650</td>\n    </tr>\n    <tr>\n      <th>2</th>\n      <td>Bay Village</td>\n      <td>42.348168</td>\n      <td>-71.068471</td>\n    </tr>\n    <tr>\n      <th>3</th>\n      <td>Beacon Hill</td>\n      <td>42.358420</td>\n      <td>-71.068600</td>\n    </tr>\n    <tr>\n      <th>4</th>\n      <td>Brighton</td>\n      <td>42.352131</td>\n      <td>-71.124924</td>\n    </tr>\n    <tr>\n      <th>5</th>\n      <td>Charlestown</td>\n      <td>42.367770</td>\n      <td>-71.059017</td>\n    </tr>\n    <tr>\n      <th>6</th>\n      <td>Chinatown-Leather District</td>\n      <td>42.352510</td>\n      <td>-71.060900</td>\n    </tr>\n    <tr>\n      <th>7</th>\n      <td>Dorchester</td>\n      <td>42.351349</td>\n      <td>-71.052850</td>\n    </tr>\n    <tr>\n      <th>8</th>\n      <td>Downtown</td>\n      <td>42.358290</td>\n      <td>-71.056630</td>\n    </tr>\n    <tr>\n      <th>9</th>\n      <td>East Boston</td>\n      <td>42.351414</td>\n      <td>-71.056713</td>\n    </tr>\n    <tr>\n      <th>10</th>\n      <td>Fenway-Kenmore</td>\n      <td>42.343550</td>\n      <td>-71.101570</td>\n    </tr>\n    <tr>\n      <th>11</th>\n      <td>Hyde Park</td>\n      <td>42.274893</td>\n      <td>-71.119947</td>\n    </tr>\n    <tr>\n      <th>12</th>\n      <td>Jamaica Plain</td>\n      <td>42.305850</td>\n      <td>-71.119095</td>\n    </tr>\n    <tr>\n      <th>13</th>\n      <td>Mattapan</td>\n      <td>42.278225</td>\n      <td>-71.096083</td>\n    </tr>\n    <tr>\n      <th>14</th>\n      <td>Mid-Dorchester</td>\n      <td>42.351349</td>\n      <td>-71.052850</td>\n    </tr>\n    <tr>\n      <th>15</th>\n      <td>Mission Hill</td>\n      <td>42.335780</td>\n      <td>-71.109810</td>\n    </tr>\n    <tr>\n      <th>16</th>\n      <td>North End</td>\n      <td>42.365490</td>\n      <td>-71.052970</td>\n    </tr>\n    <tr>\n      <th>17</th>\n      <td>Roslindale</td>\n      <td>42.281813</td>\n      <td>-71.137111</td>\n    </tr>\n    <tr>\n      <th>18</th>\n      <td>Roxbury</td>\n      <td>42.330297</td>\n      <td>-71.089481</td>\n    </tr>\n    <tr>\n      <th>19</th>\n      <td>South Boston</td>\n      <td>42.352250</td>\n      <td>-71.055691</td>\n    </tr>\n    <tr>\n      <th>20</th>\n      <td>South End</td>\n      <td>42.342560</td>\n      <td>-71.073580</td>\n    </tr>\n    <tr>\n      <th>21</th>\n      <td>West End</td>\n      <td>42.363940</td>\n      <td>-71.067390</td>\n    </tr>\n    <tr>\n      <th>22</th>\n      <td>West Roxbury</td>\n      <td>42.282193</td>\n      <td>-71.145995</td>\n    </tr>\n  </tbody>\n</table>\n</div>",
      "text/plain": "          Boston Neighborhoods   Latitude  Longitude\n0                      Allston  42.350466 -71.111004\n1                     Back Bay  42.349990 -71.087650\n2                  Bay Village  42.348168 -71.068471\n3                  Beacon Hill  42.358420 -71.068600\n4                     Brighton  42.352131 -71.124924\n5                  Charlestown  42.367770 -71.059017\n6   Chinatown-Leather District  42.352510 -71.060900\n7                   Dorchester  42.351349 -71.052850\n8                     Downtown  42.358290 -71.056630\n9                  East Boston  42.351414 -71.056713\n10              Fenway-Kenmore  42.343550 -71.101570\n11                   Hyde Park  42.274893 -71.119947\n12               Jamaica Plain  42.305850 -71.119095\n13                    Mattapan  42.278225 -71.096083\n14              Mid-Dorchester  42.351349 -71.052850\n15                Mission Hill  42.335780 -71.109810\n16                   North End  42.365490 -71.052970\n17                  Roslindale  42.281813 -71.137111\n18                     Roxbury  42.330297 -71.089481\n19                South Boston  42.352250 -71.055691\n20                   South End  42.342560 -71.073580\n21                    West End  42.363940 -71.067390\n22                West Roxbury  42.282193 -71.145995"
     },
     "execution_count": 8,
     "metadata": {},
     "output_type": "execute_result"
    }
   ],
   "source": [
    "df = df.assign(Latitude=df_coordinates.Latitude.values, Longitude=df_coordinates.Longitude.values)\n",
    "df"
   ]
  },
  {
   "cell_type": "code",
   "execution_count": 24,
   "metadata": {},
   "outputs": [],
   "source": [
    "df['Zip Code'] = ['02134', '02116', '02116', '02108', '02135', '02129', '02111', '02121', '02201', '02128', '[02115, 02215]', '02136', '02130', '02126', '[02121, 02122, 02124, 02125]', '[02120, 02115]', '02113', '02131', '02119', '02127', '02118', '02114', '02132']"
   ]
  },
  {
   "cell_type": "code",
   "execution_count": 25,
   "metadata": {},
   "outputs": [
    {
     "data": {
      "text/html": "<div>\n<style scoped>\n    .dataframe tbody tr th:only-of-type {\n        vertical-align: middle;\n    }\n\n    .dataframe tbody tr th {\n        vertical-align: top;\n    }\n\n    .dataframe thead th {\n        text-align: right;\n    }\n</style>\n<table border=\"1\" class=\"dataframe\">\n  <thead>\n    <tr style=\"text-align: right;\">\n      <th></th>\n      <th>Boston Neighborhoods</th>\n      <th>Latitude</th>\n      <th>Longitude</th>\n      <th>Zip Code</th>\n    </tr>\n  </thead>\n  <tbody>\n    <tr>\n      <th>0</th>\n      <td>Allston</td>\n      <td>42.350466</td>\n      <td>-71.111004</td>\n      <td>02134</td>\n    </tr>\n    <tr>\n      <th>1</th>\n      <td>Back Bay</td>\n      <td>42.349990</td>\n      <td>-71.087650</td>\n      <td>02116</td>\n    </tr>\n    <tr>\n      <th>2</th>\n      <td>Bay Village</td>\n      <td>42.348168</td>\n      <td>-71.068471</td>\n      <td>02116</td>\n    </tr>\n    <tr>\n      <th>3</th>\n      <td>Beacon Hill</td>\n      <td>42.358420</td>\n      <td>-71.068600</td>\n      <td>02108</td>\n    </tr>\n    <tr>\n      <th>4</th>\n      <td>Brighton</td>\n      <td>42.352131</td>\n      <td>-71.124924</td>\n      <td>02135</td>\n    </tr>\n    <tr>\n      <th>5</th>\n      <td>Charlestown</td>\n      <td>42.367770</td>\n      <td>-71.059017</td>\n      <td>02129</td>\n    </tr>\n    <tr>\n      <th>6</th>\n      <td>Chinatown-Leather District</td>\n      <td>42.352510</td>\n      <td>-71.060900</td>\n      <td>02111</td>\n    </tr>\n    <tr>\n      <th>7</th>\n      <td>Dorchester</td>\n      <td>42.351349</td>\n      <td>-71.052850</td>\n      <td>02121</td>\n    </tr>\n    <tr>\n      <th>8</th>\n      <td>Downtown</td>\n      <td>42.358290</td>\n      <td>-71.056630</td>\n      <td>02201</td>\n    </tr>\n    <tr>\n      <th>9</th>\n      <td>East Boston</td>\n      <td>42.351414</td>\n      <td>-71.056713</td>\n      <td>02128</td>\n    </tr>\n    <tr>\n      <th>10</th>\n      <td>Fenway-Kenmore</td>\n      <td>42.343550</td>\n      <td>-71.101570</td>\n      <td>[02115, 02215]</td>\n    </tr>\n    <tr>\n      <th>11</th>\n      <td>Hyde Park</td>\n      <td>42.274893</td>\n      <td>-71.119947</td>\n      <td>02136</td>\n    </tr>\n    <tr>\n      <th>12</th>\n      <td>Jamaica Plain</td>\n      <td>42.305850</td>\n      <td>-71.119095</td>\n      <td>02130</td>\n    </tr>\n    <tr>\n      <th>13</th>\n      <td>Mattapan</td>\n      <td>42.278225</td>\n      <td>-71.096083</td>\n      <td>02126</td>\n    </tr>\n    <tr>\n      <th>14</th>\n      <td>Mid-Dorchester</td>\n      <td>42.351349</td>\n      <td>-71.052850</td>\n      <td>[02121, 02122, 02124, 02125]</td>\n    </tr>\n    <tr>\n      <th>15</th>\n      <td>Mission Hill</td>\n      <td>42.335780</td>\n      <td>-71.109810</td>\n      <td>[02120, 02115]</td>\n    </tr>\n    <tr>\n      <th>16</th>\n      <td>North End</td>\n      <td>42.365490</td>\n      <td>-71.052970</td>\n      <td>02113</td>\n    </tr>\n    <tr>\n      <th>17</th>\n      <td>Roslindale</td>\n      <td>42.281813</td>\n      <td>-71.137111</td>\n      <td>02131</td>\n    </tr>\n    <tr>\n      <th>18</th>\n      <td>Roxbury</td>\n      <td>42.330297</td>\n      <td>-71.089481</td>\n      <td>02119</td>\n    </tr>\n    <tr>\n      <th>19</th>\n      <td>South Boston</td>\n      <td>42.352250</td>\n      <td>-71.055691</td>\n      <td>02127</td>\n    </tr>\n    <tr>\n      <th>20</th>\n      <td>South End</td>\n      <td>42.342560</td>\n      <td>-71.073580</td>\n      <td>02118</td>\n    </tr>\n    <tr>\n      <th>21</th>\n      <td>West End</td>\n      <td>42.363940</td>\n      <td>-71.067390</td>\n      <td>02114</td>\n    </tr>\n    <tr>\n      <th>22</th>\n      <td>West Roxbury</td>\n      <td>42.282193</td>\n      <td>-71.145995</td>\n      <td>02132</td>\n    </tr>\n  </tbody>\n</table>\n</div>",
      "text/plain": "          Boston Neighborhoods   Latitude  Longitude  \\\n0                      Allston  42.350466 -71.111004   \n1                     Back Bay  42.349990 -71.087650   \n2                  Bay Village  42.348168 -71.068471   \n3                  Beacon Hill  42.358420 -71.068600   \n4                     Brighton  42.352131 -71.124924   \n5                  Charlestown  42.367770 -71.059017   \n6   Chinatown-Leather District  42.352510 -71.060900   \n7                   Dorchester  42.351349 -71.052850   \n8                     Downtown  42.358290 -71.056630   \n9                  East Boston  42.351414 -71.056713   \n10              Fenway-Kenmore  42.343550 -71.101570   \n11                   Hyde Park  42.274893 -71.119947   \n12               Jamaica Plain  42.305850 -71.119095   \n13                    Mattapan  42.278225 -71.096083   \n14              Mid-Dorchester  42.351349 -71.052850   \n15                Mission Hill  42.335780 -71.109810   \n16                   North End  42.365490 -71.052970   \n17                  Roslindale  42.281813 -71.137111   \n18                     Roxbury  42.330297 -71.089481   \n19                South Boston  42.352250 -71.055691   \n20                   South End  42.342560 -71.073580   \n21                    West End  42.363940 -71.067390   \n22                West Roxbury  42.282193 -71.145995   \n\n                        Zip Code  \n0                          02134  \n1                          02116  \n2                          02116  \n3                          02108  \n4                          02135  \n5                          02129  \n6                          02111  \n7                          02121  \n8                          02201  \n9                          02128  \n10                [02115, 02215]  \n11                         02136  \n12                         02130  \n13                         02126  \n14  [02121, 02122, 02124, 02125]  \n15                [02120, 02115]  \n16                         02113  \n17                         02131  \n18                         02119  \n19                         02127  \n20                         02118  \n21                         02114  \n22                         02132  "
     },
     "execution_count": 25,
     "metadata": {},
     "output_type": "execute_result"
    }
   ],
   "source": [
    "df['Zip Code']\n",
    "df"
   ]
  },
  {
   "cell_type": "code",
   "execution_count": 27,
   "metadata": {},
   "outputs": [
    {
     "data": {
      "text/html": "<div>\n<style scoped>\n    .dataframe tbody tr th:only-of-type {\n        vertical-align: middle;\n    }\n\n    .dataframe tbody tr th {\n        vertical-align: top;\n    }\n\n    .dataframe thead th {\n        text-align: right;\n    }\n</style>\n<table border=\"1\" class=\"dataframe\">\n  <thead>\n    <tr style=\"text-align: right;\">\n      <th></th>\n      <th>Boston Neighborhoods</th>\n      <th>Latitude</th>\n      <th>Longitude</th>\n      <th>Zip Code</th>\n    </tr>\n  </thead>\n  <tbody>\n    <tr>\n      <th>0</th>\n      <td>Allston</td>\n      <td>42.350466</td>\n      <td>-71.111004</td>\n      <td>02134</td>\n    </tr>\n    <tr>\n      <th>1</th>\n      <td>Back Bay</td>\n      <td>42.349990</td>\n      <td>-71.087650</td>\n      <td>02116</td>\n    </tr>\n    <tr>\n      <th>2</th>\n      <td>Bay Village</td>\n      <td>42.348168</td>\n      <td>-71.068471</td>\n      <td>02116</td>\n    </tr>\n    <tr>\n      <th>3</th>\n      <td>Beacon Hill</td>\n      <td>42.358420</td>\n      <td>-71.068600</td>\n      <td>02108</td>\n    </tr>\n    <tr>\n      <th>4</th>\n      <td>Brighton</td>\n      <td>42.352131</td>\n      <td>-71.124924</td>\n      <td>02135</td>\n    </tr>\n    <tr>\n      <th>5</th>\n      <td>Charlestown</td>\n      <td>42.367770</td>\n      <td>-71.059017</td>\n      <td>02129</td>\n    </tr>\n    <tr>\n      <th>6</th>\n      <td>Chinatown-Leather District</td>\n      <td>42.352510</td>\n      <td>-71.060900</td>\n      <td>02111</td>\n    </tr>\n    <tr>\n      <th>7</th>\n      <td>Dorchester</td>\n      <td>42.351349</td>\n      <td>-71.052850</td>\n      <td>02121</td>\n    </tr>\n    <tr>\n      <th>8</th>\n      <td>Downtown</td>\n      <td>42.358290</td>\n      <td>-71.056630</td>\n      <td>02201</td>\n    </tr>\n    <tr>\n      <th>9</th>\n      <td>East Boston</td>\n      <td>42.351414</td>\n      <td>-71.056713</td>\n      <td>02128</td>\n    </tr>\n    <tr>\n      <th>10</th>\n      <td>Fenway-Kenmore</td>\n      <td>42.343550</td>\n      <td>-71.101570</td>\n      <td>02115, 02215</td>\n    </tr>\n    <tr>\n      <th>11</th>\n      <td>Hyde Park</td>\n      <td>42.274893</td>\n      <td>-71.119947</td>\n      <td>02136</td>\n    </tr>\n    <tr>\n      <th>12</th>\n      <td>Jamaica Plain</td>\n      <td>42.305850</td>\n      <td>-71.119095</td>\n      <td>02130</td>\n    </tr>\n    <tr>\n      <th>13</th>\n      <td>Mattapan</td>\n      <td>42.278225</td>\n      <td>-71.096083</td>\n      <td>02126</td>\n    </tr>\n    <tr>\n      <th>14</th>\n      <td>Mid-Dorchester</td>\n      <td>42.351349</td>\n      <td>-71.052850</td>\n      <td>02121, 02122, 02124, 02125</td>\n    </tr>\n    <tr>\n      <th>15</th>\n      <td>Mission Hill</td>\n      <td>42.335780</td>\n      <td>-71.109810</td>\n      <td>02120, 02115</td>\n    </tr>\n    <tr>\n      <th>16</th>\n      <td>North End</td>\n      <td>42.365490</td>\n      <td>-71.052970</td>\n      <td>02113</td>\n    </tr>\n    <tr>\n      <th>17</th>\n      <td>Roslindale</td>\n      <td>42.281813</td>\n      <td>-71.137111</td>\n      <td>02131</td>\n    </tr>\n    <tr>\n      <th>18</th>\n      <td>Roxbury</td>\n      <td>42.330297</td>\n      <td>-71.089481</td>\n      <td>02119</td>\n    </tr>\n    <tr>\n      <th>19</th>\n      <td>South Boston</td>\n      <td>42.352250</td>\n      <td>-71.055691</td>\n      <td>02127</td>\n    </tr>\n    <tr>\n      <th>20</th>\n      <td>South End</td>\n      <td>42.342560</td>\n      <td>-71.073580</td>\n      <td>02118</td>\n    </tr>\n    <tr>\n      <th>21</th>\n      <td>West End</td>\n      <td>42.363940</td>\n      <td>-71.067390</td>\n      <td>02114</td>\n    </tr>\n    <tr>\n      <th>22</th>\n      <td>West Roxbury</td>\n      <td>42.282193</td>\n      <td>-71.145995</td>\n      <td>02132</td>\n    </tr>\n  </tbody>\n</table>\n</div>",
      "text/plain": "          Boston Neighborhoods   Latitude  Longitude  \\\n0                      Allston  42.350466 -71.111004   \n1                     Back Bay  42.349990 -71.087650   \n2                  Bay Village  42.348168 -71.068471   \n3                  Beacon Hill  42.358420 -71.068600   \n4                     Brighton  42.352131 -71.124924   \n5                  Charlestown  42.367770 -71.059017   \n6   Chinatown-Leather District  42.352510 -71.060900   \n7                   Dorchester  42.351349 -71.052850   \n8                     Downtown  42.358290 -71.056630   \n9                  East Boston  42.351414 -71.056713   \n10              Fenway-Kenmore  42.343550 -71.101570   \n11                   Hyde Park  42.274893 -71.119947   \n12               Jamaica Plain  42.305850 -71.119095   \n13                    Mattapan  42.278225 -71.096083   \n14              Mid-Dorchester  42.351349 -71.052850   \n15                Mission Hill  42.335780 -71.109810   \n16                   North End  42.365490 -71.052970   \n17                  Roslindale  42.281813 -71.137111   \n18                     Roxbury  42.330297 -71.089481   \n19                South Boston  42.352250 -71.055691   \n20                   South End  42.342560 -71.073580   \n21                    West End  42.363940 -71.067390   \n22                West Roxbury  42.282193 -71.145995   \n\n                      Zip Code  \n0                        02134  \n1                        02116  \n2                        02116  \n3                        02108  \n4                        02135  \n5                        02129  \n6                        02111  \n7                        02121  \n8                        02201  \n9                        02128  \n10                02115, 02215  \n11                       02136  \n12                       02130  \n13                       02126  \n14  02121, 02122, 02124, 02125  \n15                02120, 02115  \n16                       02113  \n17                       02131  \n18                       02119  \n19                       02127  \n20                       02118  \n21                       02114  \n22                       02132  "
     },
     "execution_count": 27,
     "metadata": {},
     "output_type": "execute_result"
    }
   ],
   "source": [
    "df['Zip Code'] = df['Zip Code'].str.strip('[]')\n",
    "df"
   ]
  },
  {
   "cell_type": "code",
   "execution_count": 10,
   "metadata": {},
   "outputs": [
    {
     "name": "stdout",
     "output_type": "stream",
     "text": "The geograpical coordinates of Boston, Massachusetts are 42.3602534, -71.0582912.\n"
    }
   ],
   "source": [
    "address = 'Boston, Massachusetts'\n",
    "\n",
    "geolocator = Nominatim(user_agent=\"tor_explorer\")\n",
    "location = geolocator.geocode(address)\n",
    "latitude = location.latitude\n",
    "longitude = location.longitude\n",
    "\n",
    "print('The geograpical coordinates of '+ address + ' are {}, {}.'.format(latitude, longitude))"
   ]
  },
  {
   "cell_type": "code",
   "execution_count": 11,
   "metadata": {},
   "outputs": [
    {
     "data": {
      "text/html": "<div style=\"width:100%;\"><div style=\"position:relative;width:100%;height:0;padding-bottom:60%;\"><iframe src=\"about:blank\" style=\"position:absolute;width:100%;height:100%;left:0;top:0;border:none !important;\" data-html=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 onload=\"this.contentDocument.open();this.contentDocument.write(atob(this.getAttribute('data-html')));this.contentDocument.close();\" allowfullscreen webkitallowfullscreen mozallowfullscreen></iframe></div></div>",
      "text/plain": "<folium.folium.Map at 0xa8f19d0>"
     },
     "execution_count": 11,
     "metadata": {},
     "output_type": "execute_result"
    }
   ],
   "source": [
    "map_boston = folium.Map(location=[latitude, longitude], zoom_start=11)\n",
    "\n",
    "for lat, lng, neighborhood in zip(df['Latitude'], df['Longitude'], df['Boston Neighborhoods']):\n",
    "    label = '{}'.format(neighborhood)\n",
    "    folium.Marker([lat, lng], popup=label).add_to(map_boston) \n",
    "    \n",
    "map_boston"
   ]
  },
  {
   "cell_type": "markdown",
   "metadata": {},
   "source": []
  }
 ]
}